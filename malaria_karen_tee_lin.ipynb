{
 "cells": [
  {
   "cell_type": "code",
   "execution_count": 1,
   "metadata": {},
   "outputs": [],
   "source": [
    "import sqlite3\n",
    "import pandas as pd\n",
    "import numpy as np\n",
    "%matplotlib inline"
   ]
  },
  {
   "cell_type": "markdown",
   "metadata": {},
   "source": [
    "# Import data"
   ]
  },
  {
   "cell_type": "code",
   "execution_count": 2,
   "metadata": {},
   "outputs": [],
   "source": [
    "#import data from github\n",
    "\n",
    "url = 'https://raw.githubusercontent.com/rfordatascience/tidytuesday/master/data/2018/2018-11-13/malaria_deaths.csv'\n",
    "malaria_deaths = pd.read_csv(url, error_bad_lines=False)\n",
    "\n",
    "url = 'https://raw.githubusercontent.com/rfordatascience/tidytuesday/master/data/2018/2018-11-13/malaria_inc.csv'\n",
    "malaria_inc = pd.read_csv(url, error_bad_lines=False)\n",
    "\n",
    "url = 'https://raw.githubusercontent.com/rfordatascience/tidytuesday/master/data/2018/2018-11-13/malaria_deaths_age.csv'\n",
    "malaria_deaths_age = pd.read_csv(url, error_bad_lines=False)"
   ]
  },
  {
   "cell_type": "code",
   "execution_count": 3,
   "metadata": {},
   "outputs": [
    {
     "data": {
      "text/html": [
       "<div>\n",
       "<style scoped>\n",
       "    .dataframe tbody tr th:only-of-type {\n",
       "        vertical-align: middle;\n",
       "    }\n",
       "\n",
       "    .dataframe tbody tr th {\n",
       "        vertical-align: top;\n",
       "    }\n",
       "\n",
       "    .dataframe thead th {\n",
       "        text-align: right;\n",
       "    }\n",
       "</style>\n",
       "<table border=\"1\" class=\"dataframe\">\n",
       "  <thead>\n",
       "    <tr style=\"text-align: right;\">\n",
       "      <th></th>\n",
       "      <th>Entity</th>\n",
       "      <th>Code</th>\n",
       "      <th>Year</th>\n",
       "      <th>Deaths - Malaria - Sex: Both - Age: Age-standardized (Rate) (per 100,000 people)</th>\n",
       "    </tr>\n",
       "  </thead>\n",
       "  <tbody>\n",
       "    <tr>\n",
       "      <td>0</td>\n",
       "      <td>Afghanistan</td>\n",
       "      <td>AFG</td>\n",
       "      <td>1990</td>\n",
       "      <td>6.802930</td>\n",
       "    </tr>\n",
       "    <tr>\n",
       "      <td>1</td>\n",
       "      <td>Afghanistan</td>\n",
       "      <td>AFG</td>\n",
       "      <td>1991</td>\n",
       "      <td>6.973494</td>\n",
       "    </tr>\n",
       "    <tr>\n",
       "      <td>2</td>\n",
       "      <td>Afghanistan</td>\n",
       "      <td>AFG</td>\n",
       "      <td>1992</td>\n",
       "      <td>6.989882</td>\n",
       "    </tr>\n",
       "    <tr>\n",
       "      <td>3</td>\n",
       "      <td>Afghanistan</td>\n",
       "      <td>AFG</td>\n",
       "      <td>1993</td>\n",
       "      <td>7.088983</td>\n",
       "    </tr>\n",
       "    <tr>\n",
       "      <td>4</td>\n",
       "      <td>Afghanistan</td>\n",
       "      <td>AFG</td>\n",
       "      <td>1994</td>\n",
       "      <td>7.392472</td>\n",
       "    </tr>\n",
       "    <tr>\n",
       "      <td>...</td>\n",
       "      <td>...</td>\n",
       "      <td>...</td>\n",
       "      <td>...</td>\n",
       "      <td>...</td>\n",
       "    </tr>\n",
       "    <tr>\n",
       "      <td>6151</td>\n",
       "      <td>Zimbabwe</td>\n",
       "      <td>ZWE</td>\n",
       "      <td>2012</td>\n",
       "      <td>9.751727</td>\n",
       "    </tr>\n",
       "    <tr>\n",
       "      <td>6152</td>\n",
       "      <td>Zimbabwe</td>\n",
       "      <td>ZWE</td>\n",
       "      <td>2013</td>\n",
       "      <td>9.419939</td>\n",
       "    </tr>\n",
       "    <tr>\n",
       "      <td>6153</td>\n",
       "      <td>Zimbabwe</td>\n",
       "      <td>ZWE</td>\n",
       "      <td>2014</td>\n",
       "      <td>9.487453</td>\n",
       "    </tr>\n",
       "    <tr>\n",
       "      <td>6154</td>\n",
       "      <td>Zimbabwe</td>\n",
       "      <td>ZWE</td>\n",
       "      <td>2015</td>\n",
       "      <td>9.440046</td>\n",
       "    </tr>\n",
       "    <tr>\n",
       "      <td>6155</td>\n",
       "      <td>Zimbabwe</td>\n",
       "      <td>ZWE</td>\n",
       "      <td>2016</td>\n",
       "      <td>9.507309</td>\n",
       "    </tr>\n",
       "  </tbody>\n",
       "</table>\n",
       "<p>6156 rows × 4 columns</p>\n",
       "</div>"
      ],
      "text/plain": [
       "           Entity Code  Year  \\\n",
       "0     Afghanistan  AFG  1990   \n",
       "1     Afghanistan  AFG  1991   \n",
       "2     Afghanistan  AFG  1992   \n",
       "3     Afghanistan  AFG  1993   \n",
       "4     Afghanistan  AFG  1994   \n",
       "...           ...  ...   ...   \n",
       "6151     Zimbabwe  ZWE  2012   \n",
       "6152     Zimbabwe  ZWE  2013   \n",
       "6153     Zimbabwe  ZWE  2014   \n",
       "6154     Zimbabwe  ZWE  2015   \n",
       "6155     Zimbabwe  ZWE  2016   \n",
       "\n",
       "      Deaths - Malaria - Sex: Both - Age: Age-standardized (Rate) (per 100,000 people)  \n",
       "0                                              6.802930                                 \n",
       "1                                              6.973494                                 \n",
       "2                                              6.989882                                 \n",
       "3                                              7.088983                                 \n",
       "4                                              7.392472                                 \n",
       "...                                                 ...                                 \n",
       "6151                                           9.751727                                 \n",
       "6152                                           9.419939                                 \n",
       "6153                                           9.487453                                 \n",
       "6154                                           9.440046                                 \n",
       "6155                                           9.507309                                 \n",
       "\n",
       "[6156 rows x 4 columns]"
      ]
     },
     "execution_count": 3,
     "metadata": {},
     "output_type": "execute_result"
    }
   ],
   "source": [
    "#Dataframe 1\n",
    "#Malaria deaths by country for all ages across the world and time.\n",
    "\n",
    "malaria_deaths"
   ]
  },
  {
   "cell_type": "code",
   "execution_count": 4,
   "metadata": {},
   "outputs": [
    {
     "data": {
      "text/html": [
       "<div>\n",
       "<style scoped>\n",
       "    .dataframe tbody tr th:only-of-type {\n",
       "        vertical-align: middle;\n",
       "    }\n",
       "\n",
       "    .dataframe tbody tr th {\n",
       "        vertical-align: top;\n",
       "    }\n",
       "\n",
       "    .dataframe thead th {\n",
       "        text-align: right;\n",
       "    }\n",
       "</style>\n",
       "<table border=\"1\" class=\"dataframe\">\n",
       "  <thead>\n",
       "    <tr style=\"text-align: right;\">\n",
       "      <th></th>\n",
       "      <th>Entity</th>\n",
       "      <th>Code</th>\n",
       "      <th>Year</th>\n",
       "      <th>Death rate per 100 000 people</th>\n",
       "    </tr>\n",
       "  </thead>\n",
       "  <tbody>\n",
       "    <tr>\n",
       "      <td>0</td>\n",
       "      <td>Afghanistan</td>\n",
       "      <td>AFG</td>\n",
       "      <td>1990</td>\n",
       "      <td>6.802930</td>\n",
       "    </tr>\n",
       "    <tr>\n",
       "      <td>1</td>\n",
       "      <td>Afghanistan</td>\n",
       "      <td>AFG</td>\n",
       "      <td>1991</td>\n",
       "      <td>6.973494</td>\n",
       "    </tr>\n",
       "    <tr>\n",
       "      <td>2</td>\n",
       "      <td>Afghanistan</td>\n",
       "      <td>AFG</td>\n",
       "      <td>1992</td>\n",
       "      <td>6.989882</td>\n",
       "    </tr>\n",
       "    <tr>\n",
       "      <td>3</td>\n",
       "      <td>Afghanistan</td>\n",
       "      <td>AFG</td>\n",
       "      <td>1993</td>\n",
       "      <td>7.088983</td>\n",
       "    </tr>\n",
       "    <tr>\n",
       "      <td>4</td>\n",
       "      <td>Afghanistan</td>\n",
       "      <td>AFG</td>\n",
       "      <td>1994</td>\n",
       "      <td>7.392472</td>\n",
       "    </tr>\n",
       "    <tr>\n",
       "      <td>...</td>\n",
       "      <td>...</td>\n",
       "      <td>...</td>\n",
       "      <td>...</td>\n",
       "      <td>...</td>\n",
       "    </tr>\n",
       "    <tr>\n",
       "      <td>6151</td>\n",
       "      <td>Zimbabwe</td>\n",
       "      <td>ZWE</td>\n",
       "      <td>2012</td>\n",
       "      <td>9.751727</td>\n",
       "    </tr>\n",
       "    <tr>\n",
       "      <td>6152</td>\n",
       "      <td>Zimbabwe</td>\n",
       "      <td>ZWE</td>\n",
       "      <td>2013</td>\n",
       "      <td>9.419939</td>\n",
       "    </tr>\n",
       "    <tr>\n",
       "      <td>6153</td>\n",
       "      <td>Zimbabwe</td>\n",
       "      <td>ZWE</td>\n",
       "      <td>2014</td>\n",
       "      <td>9.487453</td>\n",
       "    </tr>\n",
       "    <tr>\n",
       "      <td>6154</td>\n",
       "      <td>Zimbabwe</td>\n",
       "      <td>ZWE</td>\n",
       "      <td>2015</td>\n",
       "      <td>9.440046</td>\n",
       "    </tr>\n",
       "    <tr>\n",
       "      <td>6155</td>\n",
       "      <td>Zimbabwe</td>\n",
       "      <td>ZWE</td>\n",
       "      <td>2016</td>\n",
       "      <td>9.507309</td>\n",
       "    </tr>\n",
       "  </tbody>\n",
       "</table>\n",
       "<p>6156 rows × 4 columns</p>\n",
       "</div>"
      ],
      "text/plain": [
       "           Entity Code  Year  Death rate per 100 000 people\n",
       "0     Afghanistan  AFG  1990                       6.802930\n",
       "1     Afghanistan  AFG  1991                       6.973494\n",
       "2     Afghanistan  AFG  1992                       6.989882\n",
       "3     Afghanistan  AFG  1993                       7.088983\n",
       "4     Afghanistan  AFG  1994                       7.392472\n",
       "...           ...  ...   ...                            ...\n",
       "6151     Zimbabwe  ZWE  2012                       9.751727\n",
       "6152     Zimbabwe  ZWE  2013                       9.419939\n",
       "6153     Zimbabwe  ZWE  2014                       9.487453\n",
       "6154     Zimbabwe  ZWE  2015                       9.440046\n",
       "6155     Zimbabwe  ZWE  2016                       9.507309\n",
       "\n",
       "[6156 rows x 4 columns]"
      ]
     },
     "execution_count": 4,
     "metadata": {},
     "output_type": "execute_result"
    }
   ],
   "source": [
    "#rename column\n",
    "malaria_deaths.rename(columns={'Deaths - Malaria - Sex: Both - Age: Age-standardized (Rate) (per 100,000 people)':'Death rate per 100 000 people'}, inplace=True)\n",
    "malaria_deaths"
   ]
  },
  {
   "cell_type": "code",
   "execution_count": 6,
   "metadata": {},
   "outputs": [
    {
     "data": {
      "text/plain": [
       "array([1990, 1991, 1992, 1993, 1994, 1995, 1996, 1997, 1998, 1999, 2000,\n",
       "       2001, 2002, 2003, 2004, 2005, 2006, 2007, 2008, 2009, 2010, 2011,\n",
       "       2012, 2013, 2014, 2015, 2016])"
      ]
     },
     "execution_count": 6,
     "metadata": {},
     "output_type": "execute_result"
    }
   ],
   "source": [
    "malaria_deaths.Year.unique()"
   ]
  },
  {
   "cell_type": "code",
   "execution_count": 7,
   "metadata": {},
   "outputs": [
    {
     "data": {
      "text/html": [
       "<div>\n",
       "<style scoped>\n",
       "    .dataframe tbody tr th:only-of-type {\n",
       "        vertical-align: middle;\n",
       "    }\n",
       "\n",
       "    .dataframe tbody tr th {\n",
       "        vertical-align: top;\n",
       "    }\n",
       "\n",
       "    .dataframe thead th {\n",
       "        text-align: right;\n",
       "    }\n",
       "</style>\n",
       "<table border=\"1\" class=\"dataframe\">\n",
       "  <thead>\n",
       "    <tr style=\"text-align: right;\">\n",
       "      <th></th>\n",
       "      <th>Entity</th>\n",
       "      <th>Code</th>\n",
       "      <th>Year</th>\n",
       "      <th>Incidence of malaria (per 1,000 population at risk) (per 1,000 population at risk)</th>\n",
       "    </tr>\n",
       "  </thead>\n",
       "  <tbody>\n",
       "    <tr>\n",
       "      <td>0</td>\n",
       "      <td>Afghanistan</td>\n",
       "      <td>AFG</td>\n",
       "      <td>2000</td>\n",
       "      <td>107.100000</td>\n",
       "    </tr>\n",
       "    <tr>\n",
       "      <td>1</td>\n",
       "      <td>Afghanistan</td>\n",
       "      <td>AFG</td>\n",
       "      <td>2005</td>\n",
       "      <td>46.500000</td>\n",
       "    </tr>\n",
       "    <tr>\n",
       "      <td>2</td>\n",
       "      <td>Afghanistan</td>\n",
       "      <td>AFG</td>\n",
       "      <td>2010</td>\n",
       "      <td>23.900000</td>\n",
       "    </tr>\n",
       "    <tr>\n",
       "      <td>3</td>\n",
       "      <td>Afghanistan</td>\n",
       "      <td>AFG</td>\n",
       "      <td>2015</td>\n",
       "      <td>23.600000</td>\n",
       "    </tr>\n",
       "    <tr>\n",
       "      <td>4</td>\n",
       "      <td>Algeria</td>\n",
       "      <td>DZA</td>\n",
       "      <td>2000</td>\n",
       "      <td>0.037746</td>\n",
       "    </tr>\n",
       "    <tr>\n",
       "      <td>...</td>\n",
       "      <td>...</td>\n",
       "      <td>...</td>\n",
       "      <td>...</td>\n",
       "      <td>...</td>\n",
       "    </tr>\n",
       "    <tr>\n",
       "      <td>503</td>\n",
       "      <td>Zambia</td>\n",
       "      <td>ZMB</td>\n",
       "      <td>2015</td>\n",
       "      <td>173.700000</td>\n",
       "    </tr>\n",
       "    <tr>\n",
       "      <td>504</td>\n",
       "      <td>Zimbabwe</td>\n",
       "      <td>ZWE</td>\n",
       "      <td>2000</td>\n",
       "      <td>143.200000</td>\n",
       "    </tr>\n",
       "    <tr>\n",
       "      <td>505</td>\n",
       "      <td>Zimbabwe</td>\n",
       "      <td>ZWE</td>\n",
       "      <td>2005</td>\n",
       "      <td>142.500000</td>\n",
       "    </tr>\n",
       "    <tr>\n",
       "      <td>506</td>\n",
       "      <td>Zimbabwe</td>\n",
       "      <td>ZWE</td>\n",
       "      <td>2010</td>\n",
       "      <td>129.600000</td>\n",
       "    </tr>\n",
       "    <tr>\n",
       "      <td>507</td>\n",
       "      <td>Zimbabwe</td>\n",
       "      <td>ZWE</td>\n",
       "      <td>2015</td>\n",
       "      <td>114.200000</td>\n",
       "    </tr>\n",
       "  </tbody>\n",
       "</table>\n",
       "<p>508 rows × 4 columns</p>\n",
       "</div>"
      ],
      "text/plain": [
       "          Entity Code  Year  \\\n",
       "0    Afghanistan  AFG  2000   \n",
       "1    Afghanistan  AFG  2005   \n",
       "2    Afghanistan  AFG  2010   \n",
       "3    Afghanistan  AFG  2015   \n",
       "4        Algeria  DZA  2000   \n",
       "..           ...  ...   ...   \n",
       "503       Zambia  ZMB  2015   \n",
       "504     Zimbabwe  ZWE  2000   \n",
       "505     Zimbabwe  ZWE  2005   \n",
       "506     Zimbabwe  ZWE  2010   \n",
       "507     Zimbabwe  ZWE  2015   \n",
       "\n",
       "     Incidence of malaria (per 1,000 population at risk) (per 1,000 population at risk)  \n",
       "0                                           107.100000                                   \n",
       "1                                            46.500000                                   \n",
       "2                                            23.900000                                   \n",
       "3                                            23.600000                                   \n",
       "4                                             0.037746                                   \n",
       "..                                                 ...                                   \n",
       "503                                         173.700000                                   \n",
       "504                                         143.200000                                   \n",
       "505                                         142.500000                                   \n",
       "506                                         129.600000                                   \n",
       "507                                         114.200000                                   \n",
       "\n",
       "[508 rows x 4 columns]"
      ]
     },
     "execution_count": 7,
     "metadata": {},
     "output_type": "execute_result"
    }
   ],
   "source": [
    "#Dataframe 2\n",
    "#Malaria incidence by country for all ages across the world across time\n",
    "\n",
    "malaria_inc"
   ]
  },
  {
   "cell_type": "code",
   "execution_count": 8,
   "metadata": {},
   "outputs": [
    {
     "data": {
      "text/html": [
       "<div>\n",
       "<style scoped>\n",
       "    .dataframe tbody tr th:only-of-type {\n",
       "        vertical-align: middle;\n",
       "    }\n",
       "\n",
       "    .dataframe tbody tr th {\n",
       "        vertical-align: top;\n",
       "    }\n",
       "\n",
       "    .dataframe thead th {\n",
       "        text-align: right;\n",
       "    }\n",
       "</style>\n",
       "<table border=\"1\" class=\"dataframe\">\n",
       "  <thead>\n",
       "    <tr style=\"text-align: right;\">\n",
       "      <th></th>\n",
       "      <th>Entity</th>\n",
       "      <th>Code</th>\n",
       "      <th>Year</th>\n",
       "      <th>Incidence per 1000 population at risk</th>\n",
       "    </tr>\n",
       "  </thead>\n",
       "  <tbody>\n",
       "    <tr>\n",
       "      <td>0</td>\n",
       "      <td>Afghanistan</td>\n",
       "      <td>AFG</td>\n",
       "      <td>2000</td>\n",
       "      <td>107.100000</td>\n",
       "    </tr>\n",
       "    <tr>\n",
       "      <td>1</td>\n",
       "      <td>Afghanistan</td>\n",
       "      <td>AFG</td>\n",
       "      <td>2005</td>\n",
       "      <td>46.500000</td>\n",
       "    </tr>\n",
       "    <tr>\n",
       "      <td>2</td>\n",
       "      <td>Afghanistan</td>\n",
       "      <td>AFG</td>\n",
       "      <td>2010</td>\n",
       "      <td>23.900000</td>\n",
       "    </tr>\n",
       "    <tr>\n",
       "      <td>3</td>\n",
       "      <td>Afghanistan</td>\n",
       "      <td>AFG</td>\n",
       "      <td>2015</td>\n",
       "      <td>23.600000</td>\n",
       "    </tr>\n",
       "    <tr>\n",
       "      <td>4</td>\n",
       "      <td>Algeria</td>\n",
       "      <td>DZA</td>\n",
       "      <td>2000</td>\n",
       "      <td>0.037746</td>\n",
       "    </tr>\n",
       "    <tr>\n",
       "      <td>...</td>\n",
       "      <td>...</td>\n",
       "      <td>...</td>\n",
       "      <td>...</td>\n",
       "      <td>...</td>\n",
       "    </tr>\n",
       "    <tr>\n",
       "      <td>503</td>\n",
       "      <td>Zambia</td>\n",
       "      <td>ZMB</td>\n",
       "      <td>2015</td>\n",
       "      <td>173.700000</td>\n",
       "    </tr>\n",
       "    <tr>\n",
       "      <td>504</td>\n",
       "      <td>Zimbabwe</td>\n",
       "      <td>ZWE</td>\n",
       "      <td>2000</td>\n",
       "      <td>143.200000</td>\n",
       "    </tr>\n",
       "    <tr>\n",
       "      <td>505</td>\n",
       "      <td>Zimbabwe</td>\n",
       "      <td>ZWE</td>\n",
       "      <td>2005</td>\n",
       "      <td>142.500000</td>\n",
       "    </tr>\n",
       "    <tr>\n",
       "      <td>506</td>\n",
       "      <td>Zimbabwe</td>\n",
       "      <td>ZWE</td>\n",
       "      <td>2010</td>\n",
       "      <td>129.600000</td>\n",
       "    </tr>\n",
       "    <tr>\n",
       "      <td>507</td>\n",
       "      <td>Zimbabwe</td>\n",
       "      <td>ZWE</td>\n",
       "      <td>2015</td>\n",
       "      <td>114.200000</td>\n",
       "    </tr>\n",
       "  </tbody>\n",
       "</table>\n",
       "<p>508 rows × 4 columns</p>\n",
       "</div>"
      ],
      "text/plain": [
       "          Entity Code  Year  Incidence per 1000 population at risk\n",
       "0    Afghanistan  AFG  2000                             107.100000\n",
       "1    Afghanistan  AFG  2005                              46.500000\n",
       "2    Afghanistan  AFG  2010                              23.900000\n",
       "3    Afghanistan  AFG  2015                              23.600000\n",
       "4        Algeria  DZA  2000                               0.037746\n",
       "..           ...  ...   ...                                    ...\n",
       "503       Zambia  ZMB  2015                             173.700000\n",
       "504     Zimbabwe  ZWE  2000                             143.200000\n",
       "505     Zimbabwe  ZWE  2005                             142.500000\n",
       "506     Zimbabwe  ZWE  2010                             129.600000\n",
       "507     Zimbabwe  ZWE  2015                             114.200000\n",
       "\n",
       "[508 rows x 4 columns]"
      ]
     },
     "execution_count": 8,
     "metadata": {},
     "output_type": "execute_result"
    }
   ],
   "source": [
    "#rename column\n",
    "malaria_inc.rename(columns={'Incidence of malaria (per 1,000 population at risk) (per 1,000 population at risk)':'Incidence per 1000 population at risk'}, inplace=True)\n",
    "malaria_inc"
   ]
  },
  {
   "cell_type": "code",
   "execution_count": 9,
   "metadata": {},
   "outputs": [
    {
     "data": {
      "text/plain": [
       "array([2000, 2005, 2010, 2015])"
      ]
     },
     "execution_count": 9,
     "metadata": {},
     "output_type": "execute_result"
    }
   ],
   "source": [
    "malaria_inc.Year.unique()"
   ]
  },
  {
   "cell_type": "code",
   "execution_count": 10,
   "metadata": {},
   "outputs": [
    {
     "data": {
      "text/html": [
       "<div>\n",
       "<style scoped>\n",
       "    .dataframe tbody tr th:only-of-type {\n",
       "        vertical-align: middle;\n",
       "    }\n",
       "\n",
       "    .dataframe tbody tr th {\n",
       "        vertical-align: top;\n",
       "    }\n",
       "\n",
       "    .dataframe thead th {\n",
       "        text-align: right;\n",
       "    }\n",
       "</style>\n",
       "<table border=\"1\" class=\"dataframe\">\n",
       "  <thead>\n",
       "    <tr style=\"text-align: right;\">\n",
       "      <th></th>\n",
       "      <th>Unnamed: 0</th>\n",
       "      <th>entity</th>\n",
       "      <th>code</th>\n",
       "      <th>year</th>\n",
       "      <th>age_group</th>\n",
       "      <th>deaths</th>\n",
       "    </tr>\n",
       "  </thead>\n",
       "  <tbody>\n",
       "    <tr>\n",
       "      <td>0</td>\n",
       "      <td>1</td>\n",
       "      <td>Afghanistan</td>\n",
       "      <td>AFG</td>\n",
       "      <td>1990</td>\n",
       "      <td>Under 5</td>\n",
       "      <td>184.606435</td>\n",
       "    </tr>\n",
       "    <tr>\n",
       "      <td>1</td>\n",
       "      <td>2</td>\n",
       "      <td>Afghanistan</td>\n",
       "      <td>AFG</td>\n",
       "      <td>1991</td>\n",
       "      <td>Under 5</td>\n",
       "      <td>191.658193</td>\n",
       "    </tr>\n",
       "    <tr>\n",
       "      <td>2</td>\n",
       "      <td>3</td>\n",
       "      <td>Afghanistan</td>\n",
       "      <td>AFG</td>\n",
       "      <td>1992</td>\n",
       "      <td>Under 5</td>\n",
       "      <td>197.140197</td>\n",
       "    </tr>\n",
       "    <tr>\n",
       "      <td>3</td>\n",
       "      <td>4</td>\n",
       "      <td>Afghanistan</td>\n",
       "      <td>AFG</td>\n",
       "      <td>1993</td>\n",
       "      <td>Under 5</td>\n",
       "      <td>207.357753</td>\n",
       "    </tr>\n",
       "    <tr>\n",
       "      <td>4</td>\n",
       "      <td>5</td>\n",
       "      <td>Afghanistan</td>\n",
       "      <td>AFG</td>\n",
       "      <td>1994</td>\n",
       "      <td>Under 5</td>\n",
       "      <td>226.209363</td>\n",
       "    </tr>\n",
       "    <tr>\n",
       "      <td>...</td>\n",
       "      <td>...</td>\n",
       "      <td>...</td>\n",
       "      <td>...</td>\n",
       "      <td>...</td>\n",
       "      <td>...</td>\n",
       "      <td>...</td>\n",
       "    </tr>\n",
       "    <tr>\n",
       "      <td>30775</td>\n",
       "      <td>30776</td>\n",
       "      <td>Zimbabwe</td>\n",
       "      <td>ZWE</td>\n",
       "      <td>2012</td>\n",
       "      <td>50-69</td>\n",
       "      <td>103.185111</td>\n",
       "    </tr>\n",
       "    <tr>\n",
       "      <td>30776</td>\n",
       "      <td>30777</td>\n",
       "      <td>Zimbabwe</td>\n",
       "      <td>ZWE</td>\n",
       "      <td>2013</td>\n",
       "      <td>50-69</td>\n",
       "      <td>100.113293</td>\n",
       "    </tr>\n",
       "    <tr>\n",
       "      <td>30777</td>\n",
       "      <td>30778</td>\n",
       "      <td>Zimbabwe</td>\n",
       "      <td>ZWE</td>\n",
       "      <td>2014</td>\n",
       "      <td>50-69</td>\n",
       "      <td>99.013890</td>\n",
       "    </tr>\n",
       "    <tr>\n",
       "      <td>30778</td>\n",
       "      <td>30779</td>\n",
       "      <td>Zimbabwe</td>\n",
       "      <td>ZWE</td>\n",
       "      <td>2015</td>\n",
       "      <td>50-69</td>\n",
       "      <td>98.091738</td>\n",
       "    </tr>\n",
       "    <tr>\n",
       "      <td>30779</td>\n",
       "      <td>30780</td>\n",
       "      <td>Zimbabwe</td>\n",
       "      <td>ZWE</td>\n",
       "      <td>2016</td>\n",
       "      <td>50-69</td>\n",
       "      <td>97.402058</td>\n",
       "    </tr>\n",
       "  </tbody>\n",
       "</table>\n",
       "<p>30780 rows × 6 columns</p>\n",
       "</div>"
      ],
      "text/plain": [
       "       Unnamed: 0       entity code  year age_group      deaths\n",
       "0               1  Afghanistan  AFG  1990   Under 5  184.606435\n",
       "1               2  Afghanistan  AFG  1991   Under 5  191.658193\n",
       "2               3  Afghanistan  AFG  1992   Under 5  197.140197\n",
       "3               4  Afghanistan  AFG  1993   Under 5  207.357753\n",
       "4               5  Afghanistan  AFG  1994   Under 5  226.209363\n",
       "...           ...          ...  ...   ...       ...         ...\n",
       "30775       30776     Zimbabwe  ZWE  2012     50-69  103.185111\n",
       "30776       30777     Zimbabwe  ZWE  2013     50-69  100.113293\n",
       "30777       30778     Zimbabwe  ZWE  2014     50-69   99.013890\n",
       "30778       30779     Zimbabwe  ZWE  2015     50-69   98.091738\n",
       "30779       30780     Zimbabwe  ZWE  2016     50-69   97.402058\n",
       "\n",
       "[30780 rows x 6 columns]"
      ]
     },
     "execution_count": 10,
     "metadata": {},
     "output_type": "execute_result"
    }
   ],
   "source": [
    "#Dataframe 3\n",
    "#Malaria deaths by age across the world and time\n",
    "\n",
    "malaria_deaths_age"
   ]
  },
  {
   "cell_type": "code",
   "execution_count": 11,
   "metadata": {},
   "outputs": [],
   "source": [
    "malaria_deaths_age = malaria_deaths_age.drop(['Unnamed: 0'], axis=1)"
   ]
  },
  {
   "cell_type": "code",
   "execution_count": 12,
   "metadata": {},
   "outputs": [
    {
     "data": {
      "text/html": [
       "<div>\n",
       "<style scoped>\n",
       "    .dataframe tbody tr th:only-of-type {\n",
       "        vertical-align: middle;\n",
       "    }\n",
       "\n",
       "    .dataframe tbody tr th {\n",
       "        vertical-align: top;\n",
       "    }\n",
       "\n",
       "    .dataframe thead th {\n",
       "        text-align: right;\n",
       "    }\n",
       "</style>\n",
       "<table border=\"1\" class=\"dataframe\">\n",
       "  <thead>\n",
       "    <tr style=\"text-align: right;\">\n",
       "      <th></th>\n",
       "      <th>entity</th>\n",
       "      <th>code</th>\n",
       "      <th>year</th>\n",
       "      <th>age_group</th>\n",
       "      <th>deaths by age group</th>\n",
       "    </tr>\n",
       "  </thead>\n",
       "  <tbody>\n",
       "    <tr>\n",
       "      <td>0</td>\n",
       "      <td>Afghanistan</td>\n",
       "      <td>AFG</td>\n",
       "      <td>1990</td>\n",
       "      <td>Under 5</td>\n",
       "      <td>184.606435</td>\n",
       "    </tr>\n",
       "    <tr>\n",
       "      <td>1</td>\n",
       "      <td>Afghanistan</td>\n",
       "      <td>AFG</td>\n",
       "      <td>1991</td>\n",
       "      <td>Under 5</td>\n",
       "      <td>191.658193</td>\n",
       "    </tr>\n",
       "    <tr>\n",
       "      <td>2</td>\n",
       "      <td>Afghanistan</td>\n",
       "      <td>AFG</td>\n",
       "      <td>1992</td>\n",
       "      <td>Under 5</td>\n",
       "      <td>197.140197</td>\n",
       "    </tr>\n",
       "    <tr>\n",
       "      <td>3</td>\n",
       "      <td>Afghanistan</td>\n",
       "      <td>AFG</td>\n",
       "      <td>1993</td>\n",
       "      <td>Under 5</td>\n",
       "      <td>207.357753</td>\n",
       "    </tr>\n",
       "    <tr>\n",
       "      <td>4</td>\n",
       "      <td>Afghanistan</td>\n",
       "      <td>AFG</td>\n",
       "      <td>1994</td>\n",
       "      <td>Under 5</td>\n",
       "      <td>226.209363</td>\n",
       "    </tr>\n",
       "    <tr>\n",
       "      <td>...</td>\n",
       "      <td>...</td>\n",
       "      <td>...</td>\n",
       "      <td>...</td>\n",
       "      <td>...</td>\n",
       "      <td>...</td>\n",
       "    </tr>\n",
       "    <tr>\n",
       "      <td>30775</td>\n",
       "      <td>Zimbabwe</td>\n",
       "      <td>ZWE</td>\n",
       "      <td>2012</td>\n",
       "      <td>50-69</td>\n",
       "      <td>103.185111</td>\n",
       "    </tr>\n",
       "    <tr>\n",
       "      <td>30776</td>\n",
       "      <td>Zimbabwe</td>\n",
       "      <td>ZWE</td>\n",
       "      <td>2013</td>\n",
       "      <td>50-69</td>\n",
       "      <td>100.113293</td>\n",
       "    </tr>\n",
       "    <tr>\n",
       "      <td>30777</td>\n",
       "      <td>Zimbabwe</td>\n",
       "      <td>ZWE</td>\n",
       "      <td>2014</td>\n",
       "      <td>50-69</td>\n",
       "      <td>99.013890</td>\n",
       "    </tr>\n",
       "    <tr>\n",
       "      <td>30778</td>\n",
       "      <td>Zimbabwe</td>\n",
       "      <td>ZWE</td>\n",
       "      <td>2015</td>\n",
       "      <td>50-69</td>\n",
       "      <td>98.091738</td>\n",
       "    </tr>\n",
       "    <tr>\n",
       "      <td>30779</td>\n",
       "      <td>Zimbabwe</td>\n",
       "      <td>ZWE</td>\n",
       "      <td>2016</td>\n",
       "      <td>50-69</td>\n",
       "      <td>97.402058</td>\n",
       "    </tr>\n",
       "  </tbody>\n",
       "</table>\n",
       "<p>30780 rows × 5 columns</p>\n",
       "</div>"
      ],
      "text/plain": [
       "            entity code  year age_group  deaths by age group\n",
       "0      Afghanistan  AFG  1990   Under 5           184.606435\n",
       "1      Afghanistan  AFG  1991   Under 5           191.658193\n",
       "2      Afghanistan  AFG  1992   Under 5           197.140197\n",
       "3      Afghanistan  AFG  1993   Under 5           207.357753\n",
       "4      Afghanistan  AFG  1994   Under 5           226.209363\n",
       "...            ...  ...   ...       ...                  ...\n",
       "30775     Zimbabwe  ZWE  2012     50-69           103.185111\n",
       "30776     Zimbabwe  ZWE  2013     50-69           100.113293\n",
       "30777     Zimbabwe  ZWE  2014     50-69            99.013890\n",
       "30778     Zimbabwe  ZWE  2015     50-69            98.091738\n",
       "30779     Zimbabwe  ZWE  2016     50-69            97.402058\n",
       "\n",
       "[30780 rows x 5 columns]"
      ]
     },
     "execution_count": 12,
     "metadata": {},
     "output_type": "execute_result"
    }
   ],
   "source": [
    "#rename column\n",
    "malaria_deaths_age.rename(columns={'deaths':'deaths by age group'}, inplace=True)\n",
    "malaria_deaths_age"
   ]
  },
  {
   "cell_type": "code",
   "execution_count": 13,
   "metadata": {},
   "outputs": [
    {
     "data": {
      "text/html": [
       "<div>\n",
       "<style scoped>\n",
       "    .dataframe tbody tr th:only-of-type {\n",
       "        vertical-align: middle;\n",
       "    }\n",
       "\n",
       "    .dataframe tbody tr th {\n",
       "        vertical-align: top;\n",
       "    }\n",
       "\n",
       "    .dataframe thead th {\n",
       "        text-align: right;\n",
       "    }\n",
       "</style>\n",
       "<table border=\"1\" class=\"dataframe\">\n",
       "  <thead>\n",
       "    <tr style=\"text-align: right;\">\n",
       "      <th></th>\n",
       "      <th>entity</th>\n",
       "      <th>code</th>\n",
       "      <th>year</th>\n",
       "      <th>age_group</th>\n",
       "      <th>deaths by age group</th>\n",
       "      <th>Death rate per 100 000 people</th>\n",
       "    </tr>\n",
       "  </thead>\n",
       "  <tbody>\n",
       "    <tr>\n",
       "      <td>0</td>\n",
       "      <td>Afghanistan</td>\n",
       "      <td>AFG</td>\n",
       "      <td>1990</td>\n",
       "      <td>Under 5</td>\n",
       "      <td>184.606435</td>\n",
       "      <td>6.802930</td>\n",
       "    </tr>\n",
       "    <tr>\n",
       "      <td>1</td>\n",
       "      <td>Afghanistan</td>\n",
       "      <td>AFG</td>\n",
       "      <td>1991</td>\n",
       "      <td>Under 5</td>\n",
       "      <td>191.658193</td>\n",
       "      <td>6.973494</td>\n",
       "    </tr>\n",
       "    <tr>\n",
       "      <td>2</td>\n",
       "      <td>Afghanistan</td>\n",
       "      <td>AFG</td>\n",
       "      <td>1992</td>\n",
       "      <td>Under 5</td>\n",
       "      <td>197.140197</td>\n",
       "      <td>6.989882</td>\n",
       "    </tr>\n",
       "    <tr>\n",
       "      <td>3</td>\n",
       "      <td>Afghanistan</td>\n",
       "      <td>AFG</td>\n",
       "      <td>1993</td>\n",
       "      <td>Under 5</td>\n",
       "      <td>207.357753</td>\n",
       "      <td>7.088983</td>\n",
       "    </tr>\n",
       "    <tr>\n",
       "      <td>4</td>\n",
       "      <td>Afghanistan</td>\n",
       "      <td>AFG</td>\n",
       "      <td>1994</td>\n",
       "      <td>Under 5</td>\n",
       "      <td>226.209363</td>\n",
       "      <td>7.392472</td>\n",
       "    </tr>\n",
       "    <tr>\n",
       "      <td>5</td>\n",
       "      <td>Afghanistan</td>\n",
       "      <td>AFG</td>\n",
       "      <td>1995</td>\n",
       "      <td>Under 5</td>\n",
       "      <td>236.327988</td>\n",
       "      <td>7.405511</td>\n",
       "    </tr>\n",
       "    <tr>\n",
       "      <td>6</td>\n",
       "      <td>Afghanistan</td>\n",
       "      <td>AFG</td>\n",
       "      <td>1996</td>\n",
       "      <td>Under 5</td>\n",
       "      <td>250.868925</td>\n",
       "      <td>7.626773</td>\n",
       "    </tr>\n",
       "    <tr>\n",
       "      <td>7</td>\n",
       "      <td>Afghanistan</td>\n",
       "      <td>AFG</td>\n",
       "      <td>1997</td>\n",
       "      <td>Under 5</td>\n",
       "      <td>257.667854</td>\n",
       "      <td>7.592172</td>\n",
       "    </tr>\n",
       "    <tr>\n",
       "      <td>8</td>\n",
       "      <td>Afghanistan</td>\n",
       "      <td>AFG</td>\n",
       "      <td>1998</td>\n",
       "      <td>Under 5</td>\n",
       "      <td>273.008274</td>\n",
       "      <td>7.796014</td>\n",
       "    </tr>\n",
       "    <tr>\n",
       "      <td>9</td>\n",
       "      <td>Afghanistan</td>\n",
       "      <td>AFG</td>\n",
       "      <td>1999</td>\n",
       "      <td>Under 5</td>\n",
       "      <td>272.288174</td>\n",
       "      <td>7.800592</td>\n",
       "    </tr>\n",
       "  </tbody>\n",
       "</table>\n",
       "</div>"
      ],
      "text/plain": [
       "        entity code  year age_group  deaths by age group  \\\n",
       "0  Afghanistan  AFG  1990   Under 5           184.606435   \n",
       "1  Afghanistan  AFG  1991   Under 5           191.658193   \n",
       "2  Afghanistan  AFG  1992   Under 5           197.140197   \n",
       "3  Afghanistan  AFG  1993   Under 5           207.357753   \n",
       "4  Afghanistan  AFG  1994   Under 5           226.209363   \n",
       "5  Afghanistan  AFG  1995   Under 5           236.327988   \n",
       "6  Afghanistan  AFG  1996   Under 5           250.868925   \n",
       "7  Afghanistan  AFG  1997   Under 5           257.667854   \n",
       "8  Afghanistan  AFG  1998   Under 5           273.008274   \n",
       "9  Afghanistan  AFG  1999   Under 5           272.288174   \n",
       "\n",
       "   Death rate per 100 000 people  \n",
       "0                       6.802930  \n",
       "1                       6.973494  \n",
       "2                       6.989882  \n",
       "3                       7.088983  \n",
       "4                       7.392472  \n",
       "5                       7.405511  \n",
       "6                       7.626773  \n",
       "7                       7.592172  \n",
       "8                       7.796014  \n",
       "9                       7.800592  "
      ]
     },
     "execution_count": 13,
     "metadata": {},
     "output_type": "execute_result"
    }
   ],
   "source": [
    "# Join malaria_deaths_age and malaria_deaths into one dataframe\n",
    "\n",
    "new_df = pd.merge(malaria_deaths_age, malaria_deaths, how = 'left', left_on=['code', 'year'], right_on = ['Code', 'Year'])\n",
    "new_df = new_df.drop(['Entity', 'Code', 'Year'], axis=1)\n",
    "new_df.head(10)"
   ]
  },
  {
   "cell_type": "code",
   "execution_count": 14,
   "metadata": {},
   "outputs": [
    {
     "data": {
      "text/html": [
       "<div>\n",
       "<style scoped>\n",
       "    .dataframe tbody tr th:only-of-type {\n",
       "        vertical-align: middle;\n",
       "    }\n",
       "\n",
       "    .dataframe tbody tr th {\n",
       "        vertical-align: top;\n",
       "    }\n",
       "\n",
       "    .dataframe thead th {\n",
       "        text-align: right;\n",
       "    }\n",
       "</style>\n",
       "<table border=\"1\" class=\"dataframe\">\n",
       "  <thead>\n",
       "    <tr style=\"text-align: right;\">\n",
       "      <th></th>\n",
       "      <th>entity</th>\n",
       "      <th>code</th>\n",
       "      <th>year</th>\n",
       "      <th>age_group</th>\n",
       "      <th>deaths by age group</th>\n",
       "      <th>Death rate per 100 000 people</th>\n",
       "      <th>Incidence per 1000 population at risk</th>\n",
       "    </tr>\n",
       "  </thead>\n",
       "  <tbody>\n",
       "    <tr>\n",
       "      <td>0</td>\n",
       "      <td>Afghanistan</td>\n",
       "      <td>AFG</td>\n",
       "      <td>1990</td>\n",
       "      <td>Under 5</td>\n",
       "      <td>184.606435</td>\n",
       "      <td>6.802930</td>\n",
       "      <td>NaN</td>\n",
       "    </tr>\n",
       "    <tr>\n",
       "      <td>1</td>\n",
       "      <td>Afghanistan</td>\n",
       "      <td>AFG</td>\n",
       "      <td>1991</td>\n",
       "      <td>Under 5</td>\n",
       "      <td>191.658193</td>\n",
       "      <td>6.973494</td>\n",
       "      <td>NaN</td>\n",
       "    </tr>\n",
       "    <tr>\n",
       "      <td>2</td>\n",
       "      <td>Afghanistan</td>\n",
       "      <td>AFG</td>\n",
       "      <td>1992</td>\n",
       "      <td>Under 5</td>\n",
       "      <td>197.140197</td>\n",
       "      <td>6.989882</td>\n",
       "      <td>NaN</td>\n",
       "    </tr>\n",
       "    <tr>\n",
       "      <td>3</td>\n",
       "      <td>Afghanistan</td>\n",
       "      <td>AFG</td>\n",
       "      <td>1993</td>\n",
       "      <td>Under 5</td>\n",
       "      <td>207.357753</td>\n",
       "      <td>7.088983</td>\n",
       "      <td>NaN</td>\n",
       "    </tr>\n",
       "    <tr>\n",
       "      <td>4</td>\n",
       "      <td>Afghanistan</td>\n",
       "      <td>AFG</td>\n",
       "      <td>1994</td>\n",
       "      <td>Under 5</td>\n",
       "      <td>226.209363</td>\n",
       "      <td>7.392472</td>\n",
       "      <td>NaN</td>\n",
       "    </tr>\n",
       "    <tr>\n",
       "      <td>5</td>\n",
       "      <td>Afghanistan</td>\n",
       "      <td>AFG</td>\n",
       "      <td>1995</td>\n",
       "      <td>Under 5</td>\n",
       "      <td>236.327988</td>\n",
       "      <td>7.405511</td>\n",
       "      <td>NaN</td>\n",
       "    </tr>\n",
       "    <tr>\n",
       "      <td>6</td>\n",
       "      <td>Afghanistan</td>\n",
       "      <td>AFG</td>\n",
       "      <td>1996</td>\n",
       "      <td>Under 5</td>\n",
       "      <td>250.868925</td>\n",
       "      <td>7.626773</td>\n",
       "      <td>NaN</td>\n",
       "    </tr>\n",
       "    <tr>\n",
       "      <td>7</td>\n",
       "      <td>Afghanistan</td>\n",
       "      <td>AFG</td>\n",
       "      <td>1997</td>\n",
       "      <td>Under 5</td>\n",
       "      <td>257.667854</td>\n",
       "      <td>7.592172</td>\n",
       "      <td>NaN</td>\n",
       "    </tr>\n",
       "    <tr>\n",
       "      <td>8</td>\n",
       "      <td>Afghanistan</td>\n",
       "      <td>AFG</td>\n",
       "      <td>1998</td>\n",
       "      <td>Under 5</td>\n",
       "      <td>273.008274</td>\n",
       "      <td>7.796014</td>\n",
       "      <td>NaN</td>\n",
       "    </tr>\n",
       "    <tr>\n",
       "      <td>9</td>\n",
       "      <td>Afghanistan</td>\n",
       "      <td>AFG</td>\n",
       "      <td>1999</td>\n",
       "      <td>Under 5</td>\n",
       "      <td>272.288174</td>\n",
       "      <td>7.800592</td>\n",
       "      <td>NaN</td>\n",
       "    </tr>\n",
       "  </tbody>\n",
       "</table>\n",
       "</div>"
      ],
      "text/plain": [
       "        entity code  year age_group  deaths by age group  \\\n",
       "0  Afghanistan  AFG  1990   Under 5           184.606435   \n",
       "1  Afghanistan  AFG  1991   Under 5           191.658193   \n",
       "2  Afghanistan  AFG  1992   Under 5           197.140197   \n",
       "3  Afghanistan  AFG  1993   Under 5           207.357753   \n",
       "4  Afghanistan  AFG  1994   Under 5           226.209363   \n",
       "5  Afghanistan  AFG  1995   Under 5           236.327988   \n",
       "6  Afghanistan  AFG  1996   Under 5           250.868925   \n",
       "7  Afghanistan  AFG  1997   Under 5           257.667854   \n",
       "8  Afghanistan  AFG  1998   Under 5           273.008274   \n",
       "9  Afghanistan  AFG  1999   Under 5           272.288174   \n",
       "\n",
       "   Death rate per 100 000 people  Incidence per 1000 population at risk  \n",
       "0                       6.802930                                    NaN  \n",
       "1                       6.973494                                    NaN  \n",
       "2                       6.989882                                    NaN  \n",
       "3                       7.088983                                    NaN  \n",
       "4                       7.392472                                    NaN  \n",
       "5                       7.405511                                    NaN  \n",
       "6                       7.626773                                    NaN  \n",
       "7                       7.592172                                    NaN  \n",
       "8                       7.796014                                    NaN  \n",
       "9                       7.800592                                    NaN  "
      ]
     },
     "execution_count": 14,
     "metadata": {},
     "output_type": "execute_result"
    }
   ],
   "source": [
    "#Join the new dataframe with malaria_inc to form the final dataframe\n",
    "\n",
    "final_df = pd.merge(new_df, malaria_inc, how = 'left', left_on=['entity','code', 'year'], right_on=['Entity','Code', 'Year'])\n",
    "final_df = final_df.drop(['Entity', 'Code', 'Year'], axis=1)\n",
    "final_df.head(10)"
   ]
  },
  {
   "cell_type": "code",
   "execution_count": 15,
   "metadata": {},
   "outputs": [
    {
     "data": {
      "text/plain": [
       "array(['Under 5', '70 or older', '5-14', '15-49', '50-69'], dtype=object)"
      ]
     },
     "execution_count": 15,
     "metadata": {},
     "output_type": "execute_result"
    }
   ],
   "source": [
    "final_df.age_group.unique()"
   ]
  },
  {
   "cell_type": "markdown",
   "metadata": {},
   "source": [
    "# Export to SQLite3 database"
   ]
  },
  {
   "cell_type": "code",
   "execution_count": 16,
   "metadata": {},
   "outputs": [],
   "source": [
    "#create a new database\n",
    "conn = sqlite3.connect('test.db')  \n",
    "# The database will be saved in the location where the python notebook is saved\n",
    "c = conn.cursor() "
   ]
  },
  {
   "cell_type": "code",
   "execution_count": 17,
   "metadata": {},
   "outputs": [
    {
     "name": "stderr",
     "output_type": "stream",
     "text": [
      "/opt/anaconda3/lib/python3.7/site-packages/pandas/core/generic.py:2712: UserWarning: The spaces in these column names will not be changed. In pandas versions < 0.14, spaces were converted to underscores.\n",
      "  method=method,\n"
     ]
    }
   ],
   "source": [
    "#export dataframe to table in an SQLite3 database\n",
    "final_df.to_sql(name='malaria_test', con=conn, if_exists='replace', index = False)"
   ]
  },
  {
   "cell_type": "code",
   "execution_count": 18,
   "metadata": {},
   "outputs": [
    {
     "data": {
      "text/html": [
       "<div>\n",
       "<style scoped>\n",
       "    .dataframe tbody tr th:only-of-type {\n",
       "        vertical-align: middle;\n",
       "    }\n",
       "\n",
       "    .dataframe tbody tr th {\n",
       "        vertical-align: top;\n",
       "    }\n",
       "\n",
       "    .dataframe thead th {\n",
       "        text-align: right;\n",
       "    }\n",
       "</style>\n",
       "<table border=\"1\" class=\"dataframe\">\n",
       "  <thead>\n",
       "    <tr style=\"text-align: right;\">\n",
       "      <th></th>\n",
       "      <th>entity</th>\n",
       "      <th>code</th>\n",
       "      <th>year</th>\n",
       "      <th>age_group</th>\n",
       "      <th>deaths by age group</th>\n",
       "      <th>Death rate per 100 000 people</th>\n",
       "      <th>Incidence per 1000 population at risk</th>\n",
       "    </tr>\n",
       "  </thead>\n",
       "  <tbody>\n",
       "    <tr>\n",
       "      <td>0</td>\n",
       "      <td>Afghanistan</td>\n",
       "      <td>AFG</td>\n",
       "      <td>1990</td>\n",
       "      <td>Under 5</td>\n",
       "      <td>184.606435</td>\n",
       "      <td>6.802930</td>\n",
       "      <td>NaN</td>\n",
       "    </tr>\n",
       "    <tr>\n",
       "      <td>1</td>\n",
       "      <td>Afghanistan</td>\n",
       "      <td>AFG</td>\n",
       "      <td>1991</td>\n",
       "      <td>Under 5</td>\n",
       "      <td>191.658193</td>\n",
       "      <td>6.973494</td>\n",
       "      <td>NaN</td>\n",
       "    </tr>\n",
       "    <tr>\n",
       "      <td>2</td>\n",
       "      <td>Afghanistan</td>\n",
       "      <td>AFG</td>\n",
       "      <td>1992</td>\n",
       "      <td>Under 5</td>\n",
       "      <td>197.140197</td>\n",
       "      <td>6.989882</td>\n",
       "      <td>NaN</td>\n",
       "    </tr>\n",
       "    <tr>\n",
       "      <td>3</td>\n",
       "      <td>Afghanistan</td>\n",
       "      <td>AFG</td>\n",
       "      <td>1993</td>\n",
       "      <td>Under 5</td>\n",
       "      <td>207.357753</td>\n",
       "      <td>7.088983</td>\n",
       "      <td>NaN</td>\n",
       "    </tr>\n",
       "    <tr>\n",
       "      <td>4</td>\n",
       "      <td>Afghanistan</td>\n",
       "      <td>AFG</td>\n",
       "      <td>1994</td>\n",
       "      <td>Under 5</td>\n",
       "      <td>226.209363</td>\n",
       "      <td>7.392472</td>\n",
       "      <td>NaN</td>\n",
       "    </tr>\n",
       "    <tr>\n",
       "      <td>...</td>\n",
       "      <td>...</td>\n",
       "      <td>...</td>\n",
       "      <td>...</td>\n",
       "      <td>...</td>\n",
       "      <td>...</td>\n",
       "      <td>...</td>\n",
       "      <td>...</td>\n",
       "    </tr>\n",
       "    <tr>\n",
       "      <td>164695</td>\n",
       "      <td>Zimbabwe</td>\n",
       "      <td>ZWE</td>\n",
       "      <td>2012</td>\n",
       "      <td>50-69</td>\n",
       "      <td>103.185111</td>\n",
       "      <td>9.751727</td>\n",
       "      <td>NaN</td>\n",
       "    </tr>\n",
       "    <tr>\n",
       "      <td>164696</td>\n",
       "      <td>Zimbabwe</td>\n",
       "      <td>ZWE</td>\n",
       "      <td>2013</td>\n",
       "      <td>50-69</td>\n",
       "      <td>100.113293</td>\n",
       "      <td>9.419939</td>\n",
       "      <td>NaN</td>\n",
       "    </tr>\n",
       "    <tr>\n",
       "      <td>164697</td>\n",
       "      <td>Zimbabwe</td>\n",
       "      <td>ZWE</td>\n",
       "      <td>2014</td>\n",
       "      <td>50-69</td>\n",
       "      <td>99.013890</td>\n",
       "      <td>9.487453</td>\n",
       "      <td>NaN</td>\n",
       "    </tr>\n",
       "    <tr>\n",
       "      <td>164698</td>\n",
       "      <td>Zimbabwe</td>\n",
       "      <td>ZWE</td>\n",
       "      <td>2015</td>\n",
       "      <td>50-69</td>\n",
       "      <td>98.091738</td>\n",
       "      <td>9.440046</td>\n",
       "      <td>114.2</td>\n",
       "    </tr>\n",
       "    <tr>\n",
       "      <td>164699</td>\n",
       "      <td>Zimbabwe</td>\n",
       "      <td>ZWE</td>\n",
       "      <td>2016</td>\n",
       "      <td>50-69</td>\n",
       "      <td>97.402058</td>\n",
       "      <td>9.507309</td>\n",
       "      <td>NaN</td>\n",
       "    </tr>\n",
       "  </tbody>\n",
       "</table>\n",
       "<p>164700 rows × 7 columns</p>\n",
       "</div>"
      ],
      "text/plain": [
       "             entity code  year age_group  deaths by age group  \\\n",
       "0       Afghanistan  AFG  1990   Under 5           184.606435   \n",
       "1       Afghanistan  AFG  1991   Under 5           191.658193   \n",
       "2       Afghanistan  AFG  1992   Under 5           197.140197   \n",
       "3       Afghanistan  AFG  1993   Under 5           207.357753   \n",
       "4       Afghanistan  AFG  1994   Under 5           226.209363   \n",
       "...             ...  ...   ...       ...                  ...   \n",
       "164695     Zimbabwe  ZWE  2012     50-69           103.185111   \n",
       "164696     Zimbabwe  ZWE  2013     50-69           100.113293   \n",
       "164697     Zimbabwe  ZWE  2014     50-69            99.013890   \n",
       "164698     Zimbabwe  ZWE  2015     50-69            98.091738   \n",
       "164699     Zimbabwe  ZWE  2016     50-69            97.402058   \n",
       "\n",
       "        Death rate per 100 000 people  Incidence per 1000 population at risk  \n",
       "0                            6.802930                                    NaN  \n",
       "1                            6.973494                                    NaN  \n",
       "2                            6.989882                                    NaN  \n",
       "3                            7.088983                                    NaN  \n",
       "4                            7.392472                                    NaN  \n",
       "...                               ...                                    ...  \n",
       "164695                       9.751727                                    NaN  \n",
       "164696                       9.419939                                    NaN  \n",
       "164697                       9.487453                                    NaN  \n",
       "164698                       9.440046                                  114.2  \n",
       "164699                       9.507309                                    NaN  \n",
       "\n",
       "[164700 rows x 7 columns]"
      ]
     },
     "execution_count": 18,
     "metadata": {},
     "output_type": "execute_result"
    }
   ],
   "source": [
    "data = pd.read_sql('select * from malaria_test', conn)\n",
    "data"
   ]
  },
  {
   "cell_type": "markdown",
   "metadata": {},
   "source": [
    "## Extraction of data"
   ]
  },
  {
   "cell_type": "code",
   "execution_count": 19,
   "metadata": {},
   "outputs": [
    {
     "data": {
      "text/html": [
       "<div>\n",
       "<style scoped>\n",
       "    .dataframe tbody tr th:only-of-type {\n",
       "        vertical-align: middle;\n",
       "    }\n",
       "\n",
       "    .dataframe tbody tr th {\n",
       "        vertical-align: top;\n",
       "    }\n",
       "\n",
       "    .dataframe thead th {\n",
       "        text-align: right;\n",
       "    }\n",
       "</style>\n",
       "<table border=\"1\" class=\"dataframe\">\n",
       "  <thead>\n",
       "    <tr style=\"text-align: right;\">\n",
       "      <th></th>\n",
       "      <th>entity</th>\n",
       "      <th>year</th>\n",
       "      <th>age_group</th>\n",
       "      <th>deaths by age group</th>\n",
       "    </tr>\n",
       "  </thead>\n",
       "  <tbody>\n",
       "    <tr>\n",
       "      <td>0</td>\n",
       "      <td>World</td>\n",
       "      <td>1990</td>\n",
       "      <td>Under 5</td>\n",
       "      <td>586161.122620</td>\n",
       "    </tr>\n",
       "    <tr>\n",
       "      <td>1</td>\n",
       "      <td>World</td>\n",
       "      <td>1991</td>\n",
       "      <td>Under 5</td>\n",
       "      <td>602734.287725</td>\n",
       "    </tr>\n",
       "    <tr>\n",
       "      <td>2</td>\n",
       "      <td>World</td>\n",
       "      <td>1992</td>\n",
       "      <td>Under 5</td>\n",
       "      <td>612688.202533</td>\n",
       "    </tr>\n",
       "    <tr>\n",
       "      <td>3</td>\n",
       "      <td>World</td>\n",
       "      <td>1993</td>\n",
       "      <td>Under 5</td>\n",
       "      <td>626224.692402</td>\n",
       "    </tr>\n",
       "    <tr>\n",
       "      <td>4</td>\n",
       "      <td>World</td>\n",
       "      <td>1994</td>\n",
       "      <td>Under 5</td>\n",
       "      <td>636119.462322</td>\n",
       "    </tr>\n",
       "    <tr>\n",
       "      <td>...</td>\n",
       "      <td>...</td>\n",
       "      <td>...</td>\n",
       "      <td>...</td>\n",
       "      <td>...</td>\n",
       "    </tr>\n",
       "    <tr>\n",
       "      <td>130</td>\n",
       "      <td>World</td>\n",
       "      <td>2012</td>\n",
       "      <td>50-69</td>\n",
       "      <td>38591.571976</td>\n",
       "    </tr>\n",
       "    <tr>\n",
       "      <td>131</td>\n",
       "      <td>World</td>\n",
       "      <td>2013</td>\n",
       "      <td>50-69</td>\n",
       "      <td>38330.804216</td>\n",
       "    </tr>\n",
       "    <tr>\n",
       "      <td>132</td>\n",
       "      <td>World</td>\n",
       "      <td>2014</td>\n",
       "      <td>50-69</td>\n",
       "      <td>39074.904377</td>\n",
       "    </tr>\n",
       "    <tr>\n",
       "      <td>133</td>\n",
       "      <td>World</td>\n",
       "      <td>2015</td>\n",
       "      <td>50-69</td>\n",
       "      <td>40026.639958</td>\n",
       "    </tr>\n",
       "    <tr>\n",
       "      <td>134</td>\n",
       "      <td>World</td>\n",
       "      <td>2016</td>\n",
       "      <td>50-69</td>\n",
       "      <td>40516.069944</td>\n",
       "    </tr>\n",
       "  </tbody>\n",
       "</table>\n",
       "<p>135 rows × 4 columns</p>\n",
       "</div>"
      ],
      "text/plain": [
       "    entity  year age_group  deaths by age group\n",
       "0    World  1990   Under 5        586161.122620\n",
       "1    World  1991   Under 5        602734.287725\n",
       "2    World  1992   Under 5        612688.202533\n",
       "3    World  1993   Under 5        626224.692402\n",
       "4    World  1994   Under 5        636119.462322\n",
       "..     ...   ...       ...                  ...\n",
       "130  World  2012     50-69         38591.571976\n",
       "131  World  2013     50-69         38330.804216\n",
       "132  World  2014     50-69         39074.904377\n",
       "133  World  2015     50-69         40026.639958\n",
       "134  World  2016     50-69         40516.069944\n",
       "\n",
       "[135 rows x 4 columns]"
      ]
     },
     "execution_count": 19,
     "metadata": {},
     "output_type": "execute_result"
    }
   ],
   "source": [
    "#For visualisation 1: death by age in the world, from 1990 - 2016\n",
    "\n",
    "death_by_age_world = pd.read_sql('select [entity], [year], [age_group], [deaths by age group] from malaria_test where entity = \"World\" ', conn)\n",
    "death_by_age_world"
   ]
  },
  {
   "cell_type": "code",
   "execution_count": 20,
   "metadata": {},
   "outputs": [
    {
     "data": {
      "text/html": [
       "<div>\n",
       "<style scoped>\n",
       "    .dataframe tbody tr th:only-of-type {\n",
       "        vertical-align: middle;\n",
       "    }\n",
       "\n",
       "    .dataframe tbody tr th {\n",
       "        vertical-align: top;\n",
       "    }\n",
       "\n",
       "    .dataframe thead th {\n",
       "        text-align: right;\n",
       "    }\n",
       "</style>\n",
       "<table border=\"1\" class=\"dataframe\">\n",
       "  <thead>\n",
       "    <tr style=\"text-align: right;\">\n",
       "      <th></th>\n",
       "      <th>entity</th>\n",
       "      <th>year</th>\n",
       "      <th>code</th>\n",
       "      <th>Incidence per 1000 population at risk</th>\n",
       "    </tr>\n",
       "  </thead>\n",
       "  <tbody>\n",
       "    <tr>\n",
       "      <td>0</td>\n",
       "      <td>Afghanistan</td>\n",
       "      <td>2015</td>\n",
       "      <td>AFG</td>\n",
       "      <td>23.600000</td>\n",
       "    </tr>\n",
       "    <tr>\n",
       "      <td>1</td>\n",
       "      <td>Algeria</td>\n",
       "      <td>2015</td>\n",
       "      <td>DZA</td>\n",
       "      <td>0.001904</td>\n",
       "    </tr>\n",
       "    <tr>\n",
       "      <td>2</td>\n",
       "      <td>Angola</td>\n",
       "      <td>2015</td>\n",
       "      <td>AGO</td>\n",
       "      <td>124.000000</td>\n",
       "    </tr>\n",
       "    <tr>\n",
       "      <td>3</td>\n",
       "      <td>Argentina</td>\n",
       "      <td>2015</td>\n",
       "      <td>ARG</td>\n",
       "      <td>0.000000</td>\n",
       "    </tr>\n",
       "    <tr>\n",
       "      <td>4</td>\n",
       "      <td>Azerbaijan</td>\n",
       "      <td>2015</td>\n",
       "      <td>AZE</td>\n",
       "      <td>0.000000</td>\n",
       "    </tr>\n",
       "    <tr>\n",
       "      <td>...</td>\n",
       "      <td>...</td>\n",
       "      <td>...</td>\n",
       "      <td>...</td>\n",
       "      <td>...</td>\n",
       "    </tr>\n",
       "    <tr>\n",
       "      <td>810</td>\n",
       "      <td>Venezuela</td>\n",
       "      <td>2015</td>\n",
       "      <td>VEN</td>\n",
       "      <td>68.400000</td>\n",
       "    </tr>\n",
       "    <tr>\n",
       "      <td>811</td>\n",
       "      <td>Vietnam</td>\n",
       "      <td>2015</td>\n",
       "      <td>VNM</td>\n",
       "      <td>0.300000</td>\n",
       "    </tr>\n",
       "    <tr>\n",
       "      <td>812</td>\n",
       "      <td>Yemen</td>\n",
       "      <td>2015</td>\n",
       "      <td>YEM</td>\n",
       "      <td>22.200000</td>\n",
       "    </tr>\n",
       "    <tr>\n",
       "      <td>813</td>\n",
       "      <td>Zambia</td>\n",
       "      <td>2015</td>\n",
       "      <td>ZMB</td>\n",
       "      <td>173.700000</td>\n",
       "    </tr>\n",
       "    <tr>\n",
       "      <td>814</td>\n",
       "      <td>Zimbabwe</td>\n",
       "      <td>2015</td>\n",
       "      <td>ZWE</td>\n",
       "      <td>114.200000</td>\n",
       "    </tr>\n",
       "  </tbody>\n",
       "</table>\n",
       "<p>815 rows × 4 columns</p>\n",
       "</div>"
      ],
      "text/plain": [
       "          entity  year code  Incidence per 1000 population at risk\n",
       "0    Afghanistan  2015  AFG                              23.600000\n",
       "1        Algeria  2015  DZA                               0.001904\n",
       "2         Angola  2015  AGO                             124.000000\n",
       "3      Argentina  2015  ARG                               0.000000\n",
       "4     Azerbaijan  2015  AZE                               0.000000\n",
       "..           ...   ...  ...                                    ...\n",
       "810    Venezuela  2015  VEN                              68.400000\n",
       "811      Vietnam  2015  VNM                               0.300000\n",
       "812        Yemen  2015  YEM                              22.200000\n",
       "813       Zambia  2015  ZMB                             173.700000\n",
       "814     Zimbabwe  2015  ZWE                             114.200000\n",
       "\n",
       "[815 rows x 4 columns]"
      ]
     },
     "execution_count": 20,
     "metadata": {},
     "output_type": "execute_result"
    }
   ],
   "source": [
    "#For visualisation 2: malaria incidence in 2015\n",
    "\n",
    "incidence = pd.read_sql('select [entity], [year], [code], [Incidence per 1000 population at risk] from malaria_test where year = 2015 and [Incidence per 1000 population at risk] IS NOT NULL and entity != \"World\" ', conn)\n",
    "incidence"
   ]
  },
  {
   "cell_type": "code",
   "execution_count": 21,
   "metadata": {},
   "outputs": [
    {
     "data": {
      "text/html": [
       "<div>\n",
       "<style scoped>\n",
       "    .dataframe tbody tr th:only-of-type {\n",
       "        vertical-align: middle;\n",
       "    }\n",
       "\n",
       "    .dataframe tbody tr th {\n",
       "        vertical-align: top;\n",
       "    }\n",
       "\n",
       "    .dataframe thead th {\n",
       "        text-align: right;\n",
       "    }\n",
       "</style>\n",
       "<table border=\"1\" class=\"dataframe\">\n",
       "  <thead>\n",
       "    <tr style=\"text-align: right;\">\n",
       "      <th></th>\n",
       "      <th>entity</th>\n",
       "      <th>year</th>\n",
       "      <th>Death rate per 100 000 people</th>\n",
       "    </tr>\n",
       "  </thead>\n",
       "  <tbody>\n",
       "    <tr>\n",
       "      <td>0</td>\n",
       "      <td>Afghanistan</td>\n",
       "      <td>2016</td>\n",
       "      <td>7.139429</td>\n",
       "    </tr>\n",
       "    <tr>\n",
       "      <td>1</td>\n",
       "      <td>Albania</td>\n",
       "      <td>2016</td>\n",
       "      <td>0.000000</td>\n",
       "    </tr>\n",
       "    <tr>\n",
       "      <td>2</td>\n",
       "      <td>Algeria</td>\n",
       "      <td>2016</td>\n",
       "      <td>0.021669</td>\n",
       "    </tr>\n",
       "    <tr>\n",
       "      <td>3</td>\n",
       "      <td>American Samoa</td>\n",
       "      <td>2016</td>\n",
       "      <td>0.206802</td>\n",
       "    </tr>\n",
       "    <tr>\n",
       "      <td>4</td>\n",
       "      <td>Andean Latin America</td>\n",
       "      <td>2016</td>\n",
       "      <td>0.047643</td>\n",
       "    </tr>\n",
       "    <tr>\n",
       "      <td>...</td>\n",
       "      <td>...</td>\n",
       "      <td>...</td>\n",
       "      <td>...</td>\n",
       "    </tr>\n",
       "    <tr>\n",
       "      <td>222</td>\n",
       "      <td>Western Europe</td>\n",
       "      <td>2016</td>\n",
       "      <td>0.047643</td>\n",
       "    </tr>\n",
       "    <tr>\n",
       "      <td>223</td>\n",
       "      <td>Western Sub-Saharan Africa</td>\n",
       "      <td>2016</td>\n",
       "      <td>0.047643</td>\n",
       "    </tr>\n",
       "    <tr>\n",
       "      <td>224</td>\n",
       "      <td>Yemen</td>\n",
       "      <td>2016</td>\n",
       "      <td>0.032792</td>\n",
       "    </tr>\n",
       "    <tr>\n",
       "      <td>225</td>\n",
       "      <td>Zambia</td>\n",
       "      <td>2016</td>\n",
       "      <td>29.473210</td>\n",
       "    </tr>\n",
       "    <tr>\n",
       "      <td>226</td>\n",
       "      <td>Zimbabwe</td>\n",
       "      <td>2016</td>\n",
       "      <td>9.507309</td>\n",
       "    </tr>\n",
       "  </tbody>\n",
       "</table>\n",
       "<p>227 rows × 3 columns</p>\n",
       "</div>"
      ],
      "text/plain": [
       "                         entity  year  Death rate per 100 000 people\n",
       "0                   Afghanistan  2016                       7.139429\n",
       "1                       Albania  2016                       0.000000\n",
       "2                       Algeria  2016                       0.021669\n",
       "3                American Samoa  2016                       0.206802\n",
       "4          Andean Latin America  2016                       0.047643\n",
       "..                          ...   ...                            ...\n",
       "222              Western Europe  2016                       0.047643\n",
       "223  Western Sub-Saharan Africa  2016                       0.047643\n",
       "224                       Yemen  2016                       0.032792\n",
       "225                      Zambia  2016                      29.473210\n",
       "226                    Zimbabwe  2016                       9.507309\n",
       "\n",
       "[227 rows x 3 columns]"
      ]
     },
     "execution_count": 21,
     "metadata": {},
     "output_type": "execute_result"
    }
   ],
   "source": [
    "#For visualisation 3: death rate by country in 2016\n",
    "\n",
    "death_rate = pd.read_sql('select [entity], [year], [Death rate per 100 000 people] from malaria_test where entity != \"World\" and year = 2016 group by entity, year ', conn)\n",
    "death_rate"
   ]
  },
  {
   "cell_type": "markdown",
   "metadata": {},
   "source": [
    "# Import packages for Visualisations"
   ]
  },
  {
   "cell_type": "code",
   "execution_count": 22,
   "metadata": {},
   "outputs": [],
   "source": [
    "import matplotlib.pyplot as plt\n",
    "import seaborn as sns\n",
    "sns.set_style(\"darkgrid\")\n",
    "sns.set(rc={'figure.figsize':(11.7,8.27)})"
   ]
  },
  {
   "cell_type": "code",
   "execution_count": 23,
   "metadata": {},
   "outputs": [
    {
     "name": "stdout",
     "output_type": "stream",
     "text": [
      "Requirement already satisfied: plotly in /opt/anaconda3/lib/python3.7/site-packages (4.10.0)\n",
      "Requirement already satisfied: six in /opt/anaconda3/lib/python3.7/site-packages (from plotly) (1.12.0)\n",
      "Requirement already satisfied: retrying>=1.3.3 in /opt/anaconda3/lib/python3.7/site-packages (from plotly) (1.3.3)\n",
      "Note: you may need to restart the kernel to use updated packages.\n"
     ]
    }
   ],
   "source": [
    "pip install plotly"
   ]
  },
  {
   "cell_type": "code",
   "execution_count": 24,
   "metadata": {
    "collapsed": true
   },
   "outputs": [
    {
     "name": "stdout",
     "output_type": "stream",
     "text": [
      "Requirement already satisfied: cufflinks in /opt/anaconda3/lib/python3.7/site-packages (0.17.3)\n",
      "Requirement already satisfied: numpy>=1.9.2 in /opt/anaconda3/lib/python3.7/site-packages (from cufflinks) (1.17.2)\n",
      "Requirement already satisfied: six>=1.9.0 in /opt/anaconda3/lib/python3.7/site-packages (from cufflinks) (1.12.0)\n",
      "Requirement already satisfied: pandas>=0.19.2 in /opt/anaconda3/lib/python3.7/site-packages (from cufflinks) (0.25.1)\n",
      "Requirement already satisfied: setuptools>=34.4.1 in /opt/anaconda3/lib/python3.7/site-packages (from cufflinks) (41.4.0)\n",
      "Requirement already satisfied: ipywidgets>=7.0.0 in /opt/anaconda3/lib/python3.7/site-packages (from cufflinks) (7.5.1)\n",
      "Requirement already satisfied: colorlover>=0.2.1 in /opt/anaconda3/lib/python3.7/site-packages (from cufflinks) (0.3.0)\n",
      "Requirement already satisfied: plotly>=4.1.1 in /opt/anaconda3/lib/python3.7/site-packages (from cufflinks) (4.10.0)\n",
      "Requirement already satisfied: ipython>=5.3.0 in /opt/anaconda3/lib/python3.7/site-packages (from cufflinks) (7.8.0)\n",
      "Requirement already satisfied: python-dateutil>=2.6.1 in /opt/anaconda3/lib/python3.7/site-packages (from pandas>=0.19.2->cufflinks) (2.8.0)\n",
      "Requirement already satisfied: pytz>=2017.2 in /opt/anaconda3/lib/python3.7/site-packages (from pandas>=0.19.2->cufflinks) (2019.3)\n",
      "Requirement already satisfied: traitlets>=4.3.1 in /opt/anaconda3/lib/python3.7/site-packages (from ipywidgets>=7.0.0->cufflinks) (4.3.3)\n",
      "Requirement already satisfied: widgetsnbextension~=3.5.0 in /opt/anaconda3/lib/python3.7/site-packages (from ipywidgets>=7.0.0->cufflinks) (3.5.1)\n",
      "Requirement already satisfied: ipykernel>=4.5.1 in /opt/anaconda3/lib/python3.7/site-packages (from ipywidgets>=7.0.0->cufflinks) (5.1.2)\n",
      "Requirement already satisfied: nbformat>=4.2.0 in /opt/anaconda3/lib/python3.7/site-packages (from ipywidgets>=7.0.0->cufflinks) (4.4.0)\n",
      "Requirement already satisfied: retrying>=1.3.3 in /opt/anaconda3/lib/python3.7/site-packages (from plotly>=4.1.1->cufflinks) (1.3.3)\n",
      "Requirement already satisfied: prompt-toolkit<2.1.0,>=2.0.0 in /opt/anaconda3/lib/python3.7/site-packages (from ipython>=5.3.0->cufflinks) (2.0.10)\n",
      "Requirement already satisfied: pygments in /opt/anaconda3/lib/python3.7/site-packages (from ipython>=5.3.0->cufflinks) (2.4.2)\n",
      "Requirement already satisfied: pickleshare in /opt/anaconda3/lib/python3.7/site-packages (from ipython>=5.3.0->cufflinks) (0.7.5)\n",
      "Requirement already satisfied: appnope; sys_platform == \"darwin\" in /opt/anaconda3/lib/python3.7/site-packages (from ipython>=5.3.0->cufflinks) (0.1.0)\n",
      "Requirement already satisfied: jedi>=0.10 in /opt/anaconda3/lib/python3.7/site-packages (from ipython>=5.3.0->cufflinks) (0.15.1)\n",
      "Requirement already satisfied: pexpect; sys_platform != \"win32\" in /opt/anaconda3/lib/python3.7/site-packages (from ipython>=5.3.0->cufflinks) (4.7.0)\n",
      "Requirement already satisfied: decorator in /opt/anaconda3/lib/python3.7/site-packages (from ipython>=5.3.0->cufflinks) (4.4.0)\n",
      "Requirement already satisfied: backcall in /opt/anaconda3/lib/python3.7/site-packages (from ipython>=5.3.0->cufflinks) (0.1.0)\n",
      "Requirement already satisfied: ipython-genutils in /opt/anaconda3/lib/python3.7/site-packages (from traitlets>=4.3.1->ipywidgets>=7.0.0->cufflinks) (0.2.0)\n",
      "Requirement already satisfied: notebook>=4.4.1 in /opt/anaconda3/lib/python3.7/site-packages (from widgetsnbextension~=3.5.0->ipywidgets>=7.0.0->cufflinks) (6.0.1)\n",
      "Requirement already satisfied: jupyter-client in /opt/anaconda3/lib/python3.7/site-packages (from ipykernel>=4.5.1->ipywidgets>=7.0.0->cufflinks) (5.3.3)\n",
      "Requirement already satisfied: tornado>=4.2 in /opt/anaconda3/lib/python3.7/site-packages (from ipykernel>=4.5.1->ipywidgets>=7.0.0->cufflinks) (6.0.3)\n",
      "Requirement already satisfied: jsonschema!=2.5.0,>=2.4 in /opt/anaconda3/lib/python3.7/site-packages (from nbformat>=4.2.0->ipywidgets>=7.0.0->cufflinks) (3.0.2)\n",
      "Requirement already satisfied: jupyter-core in /opt/anaconda3/lib/python3.7/site-packages (from nbformat>=4.2.0->ipywidgets>=7.0.0->cufflinks) (4.5.0)\n",
      "Requirement already satisfied: wcwidth in /opt/anaconda3/lib/python3.7/site-packages (from prompt-toolkit<2.1.0,>=2.0.0->ipython>=5.3.0->cufflinks) (0.1.7)\n",
      "Requirement already satisfied: parso>=0.5.0 in /opt/anaconda3/lib/python3.7/site-packages (from jedi>=0.10->ipython>=5.3.0->cufflinks) (0.5.1)\n",
      "Requirement already satisfied: ptyprocess>=0.5 in /opt/anaconda3/lib/python3.7/site-packages (from pexpect; sys_platform != \"win32\"->ipython>=5.3.0->cufflinks) (0.6.0)\n",
      "Requirement already satisfied: jinja2 in /opt/anaconda3/lib/python3.7/site-packages (from notebook>=4.4.1->widgetsnbextension~=3.5.0->ipywidgets>=7.0.0->cufflinks) (2.10.3)\n",
      "Requirement already satisfied: Send2Trash in /opt/anaconda3/lib/python3.7/site-packages (from notebook>=4.4.1->widgetsnbextension~=3.5.0->ipywidgets>=7.0.0->cufflinks) (1.5.0)\n",
      "Requirement already satisfied: nbconvert in /opt/anaconda3/lib/python3.7/site-packages (from notebook>=4.4.1->widgetsnbextension~=3.5.0->ipywidgets>=7.0.0->cufflinks) (5.6.0)\n",
      "Requirement already satisfied: prometheus-client in /opt/anaconda3/lib/python3.7/site-packages (from notebook>=4.4.1->widgetsnbextension~=3.5.0->ipywidgets>=7.0.0->cufflinks) (0.7.1)\n",
      "Requirement already satisfied: terminado>=0.8.1 in /opt/anaconda3/lib/python3.7/site-packages (from notebook>=4.4.1->widgetsnbextension~=3.5.0->ipywidgets>=7.0.0->cufflinks) (0.8.2)\n",
      "Requirement already satisfied: pyzmq>=17 in /opt/anaconda3/lib/python3.7/site-packages (from notebook>=4.4.1->widgetsnbextension~=3.5.0->ipywidgets>=7.0.0->cufflinks) (18.1.0)\n",
      "Requirement already satisfied: attrs>=17.4.0 in /opt/anaconda3/lib/python3.7/site-packages (from jsonschema!=2.5.0,>=2.4->nbformat>=4.2.0->ipywidgets>=7.0.0->cufflinks) (19.2.0)\n",
      "Requirement already satisfied: pyrsistent>=0.14.0 in /opt/anaconda3/lib/python3.7/site-packages (from jsonschema!=2.5.0,>=2.4->nbformat>=4.2.0->ipywidgets>=7.0.0->cufflinks) (0.15.4)\n",
      "Requirement already satisfied: MarkupSafe>=0.23 in /opt/anaconda3/lib/python3.7/site-packages (from jinja2->notebook>=4.4.1->widgetsnbextension~=3.5.0->ipywidgets>=7.0.0->cufflinks) (1.1.1)\n",
      "Requirement already satisfied: testpath in /opt/anaconda3/lib/python3.7/site-packages (from nbconvert->notebook>=4.4.1->widgetsnbextension~=3.5.0->ipywidgets>=7.0.0->cufflinks) (0.4.2)\n",
      "Requirement already satisfied: mistune<2,>=0.8.1 in /opt/anaconda3/lib/python3.7/site-packages (from nbconvert->notebook>=4.4.1->widgetsnbextension~=3.5.0->ipywidgets>=7.0.0->cufflinks) (0.8.4)\n",
      "Requirement already satisfied: defusedxml in /opt/anaconda3/lib/python3.7/site-packages (from nbconvert->notebook>=4.4.1->widgetsnbextension~=3.5.0->ipywidgets>=7.0.0->cufflinks) (0.6.0)\n",
      "Requirement already satisfied: bleach in /opt/anaconda3/lib/python3.7/site-packages (from nbconvert->notebook>=4.4.1->widgetsnbextension~=3.5.0->ipywidgets>=7.0.0->cufflinks) (3.1.0)\n",
      "Requirement already satisfied: pandocfilters>=1.4.1 in /opt/anaconda3/lib/python3.7/site-packages (from nbconvert->notebook>=4.4.1->widgetsnbextension~=3.5.0->ipywidgets>=7.0.0->cufflinks) (1.4.2)\n",
      "Requirement already satisfied: entrypoints>=0.2.2 in /opt/anaconda3/lib/python3.7/site-packages (from nbconvert->notebook>=4.4.1->widgetsnbextension~=3.5.0->ipywidgets>=7.0.0->cufflinks) (0.3)\n",
      "Requirement already satisfied: webencodings in /opt/anaconda3/lib/python3.7/site-packages (from bleach->nbconvert->notebook>=4.4.1->widgetsnbextension~=3.5.0->ipywidgets>=7.0.0->cufflinks) (0.5.1)\n",
      "Note: you may need to restart the kernel to use updated packages.\n"
     ]
    }
   ],
   "source": [
    "pip install cufflinks"
   ]
  },
  {
   "cell_type": "code",
   "execution_count": 25,
   "metadata": {},
   "outputs": [
    {
     "data": {
      "text/html": [
       "        <script type=\"text/javascript\">\n",
       "        window.PlotlyConfig = {MathJaxConfig: 'local'};\n",
       "        if (window.MathJax) {MathJax.Hub.Config({SVG: {font: \"STIX-Web\"}});}\n",
       "        if (typeof require !== 'undefined') {\n",
       "        require.undef(\"plotly\");\n",
       "        requirejs.config({\n",
       "            paths: {\n",
       "                'plotly': ['https://cdn.plot.ly/plotly-latest.min']\n",
       "            }\n",
       "        });\n",
       "        require(['plotly'], function(Plotly) {\n",
       "            window._Plotly = Plotly;\n",
       "        });\n",
       "        }\n",
       "        </script>\n",
       "        "
      ]
     },
     "metadata": {},
     "output_type": "display_data"
    }
   ],
   "source": [
    "from plotly.offline import download_plotlyjs, init_notebook_mode, plot, iplot\n",
    "init_notebook_mode(connected=True)"
   ]
  },
  {
   "cell_type": "code",
   "execution_count": 26,
   "metadata": {},
   "outputs": [
    {
     "data": {
      "text/html": [
       "        <script type=\"text/javascript\">\n",
       "        window.PlotlyConfig = {MathJaxConfig: 'local'};\n",
       "        if (window.MathJax) {MathJax.Hub.Config({SVG: {font: \"STIX-Web\"}});}\n",
       "        if (typeof require !== 'undefined') {\n",
       "        require.undef(\"plotly\");\n",
       "        requirejs.config({\n",
       "            paths: {\n",
       "                'plotly': ['https://cdn.plot.ly/plotly-latest.min']\n",
       "            }\n",
       "        });\n",
       "        require(['plotly'], function(Plotly) {\n",
       "            window._Plotly = Plotly;\n",
       "        });\n",
       "        }\n",
       "        </script>\n",
       "        "
      ]
     },
     "metadata": {},
     "output_type": "display_data"
    }
   ],
   "source": [
    "import cufflinks as cf\n",
    "cf.go_offline()\n",
    "import plotly.graph_objs as gobj"
   ]
  },
  {
   "cell_type": "markdown",
   "metadata": {},
   "source": [
    "# Visualisations"
   ]
  },
  {
   "cell_type": "markdown",
   "metadata": {},
   "source": [
    "## 1. Malaria deaths by age in the world from 1990 to 2016"
   ]
  },
  {
   "cell_type": "code",
   "execution_count": 27,
   "metadata": {},
   "outputs": [
    {
     "data": {
      "application/vnd.plotly.v1+json": {
       "config": {
        "linkText": "Export to plot.ly",
        "plotlyServerURL": "https://plot.ly",
        "showLink": true
       },
       "data": [
        {
         "marker": {
          "color": "rgba(255, 153, 51, 1.0)",
          "line": {
           "width": 1.3
          },
          "opacity": 0.8,
          "size": 12,
          "symbol": "circle"
         },
         "mode": "lines+markers",
         "name": "Under 5",
         "textfont": {
          "color": "#4D5663"
         },
         "type": "scatter",
         "x": [
          1990,
          1991,
          1992,
          1993,
          1994,
          1995,
          1996,
          1997,
          1998,
          1999,
          2000,
          2001,
          2002,
          2003,
          2004,
          2005,
          2006,
          2007,
          2008,
          2009,
          2010,
          2011,
          2012,
          2013,
          2014,
          2015,
          2016
         ],
         "y": [
          586161.12262,
          602734.287725,
          612688.202533,
          626224.6924020001,
          636119.4623220001,
          646722.335449,
          656285.520749,
          664305.062808,
          681065.266685,
          698846.0928979999,
          705882.728782,
          728254.3569560001,
          737466.1288109999,
          752025.548675,
          746365.80863,
          735966.857064,
          734869.501103,
          726367.8045979999,
          719208.3491560001,
          688065.379789,
          657451.944264,
          620864.413006,
          578599.952263,
          560601.685727,
          541555.38638,
          519987.00985200005,
          516897.263977
         ]
        },
        {
         "marker": {
          "color": "rgba(55, 128, 191, 1.0)",
          "line": {
           "width": 1.3
          },
          "opacity": 0.8,
          "size": 12,
          "symbol": "circle"
         },
         "mode": "lines+markers",
         "name": "70 or older",
         "textfont": {
          "color": "#4D5663"
         },
         "type": "scatter",
         "x": [
          1990,
          1991,
          1992,
          1993,
          1994,
          1995,
          1996,
          1997,
          1998,
          1999,
          2000,
          2001,
          2002,
          2003,
          2004,
          2005,
          2006,
          2007,
          2008,
          2009,
          2010,
          2011,
          2012,
          2013,
          2014,
          2015,
          2016
         ],
         "y": [
          15103.4523377,
          16123.100547999999,
          16616.2461123,
          17413.282133200002,
          18150.620982700002,
          18997.0401285,
          19964.037729599997,
          20604.7011532,
          21714.197663599996,
          22189.4548335,
          22843.3526478,
          24142.9031397,
          25081.481892,
          26377.4582801,
          26825.337391499997,
          27165.8828821,
          26764.8642502,
          27057.0615588,
          26928.6308931,
          26376.2281268,
          26224.456076599996,
          25387.502356599998,
          25030.7483727,
          24805.2122925,
          25246.0159227,
          25714.804116799998,
          26055.8020742
         ]
        },
        {
         "marker": {
          "color": "rgba(50, 171, 96, 1.0)",
          "line": {
           "width": 1.3
          },
          "opacity": 0.8,
          "size": 12,
          "symbol": "circle"
         },
         "mode": "lines+markers",
         "name": "5-14",
         "textfont": {
          "color": "#4D5663"
         },
         "type": "scatter",
         "x": [
          1990,
          1991,
          1992,
          1993,
          1994,
          1995,
          1996,
          1997,
          1998,
          1999,
          2000,
          2001,
          2002,
          2003,
          2004,
          2005,
          2006,
          2007,
          2008,
          2009,
          2010,
          2011,
          2012,
          2013,
          2014,
          2015,
          2016
         ],
         "y": [
          68752.5855903,
          71194.5310598,
          72711.61000619999,
          75549.8793367,
          76751.95089939999,
          78014.3806547,
          79361.2050629,
          81135.7543283,
          83277.9327454,
          84328.87190780001,
          85029.977491,
          87748.3152945,
          89959.93960499999,
          91583.9751399,
          91224.6266247,
          91377.3952717,
          89577.2993265,
          88752.85744430001,
          88110.74707180001,
          84297.47845980001,
          80407.69953130001,
          76730.78464119999,
          72580.27434510001,
          69789.39694260001,
          69531.3097875,
          67341.7438387,
          66900.8055657
         ]
        },
        {
         "marker": {
          "color": "rgba(128, 0, 128, 1.0)",
          "line": {
           "width": 1.3
          },
          "opacity": 0.8,
          "size": 12,
          "symbol": "circle"
         },
         "mode": "lines+markers",
         "name": "15-49",
         "textfont": {
          "color": "#4D5663"
         },
         "type": "scatter",
         "x": [
          1990,
          1991,
          1992,
          1993,
          1994,
          1995,
          1996,
          1997,
          1998,
          1999,
          2000,
          2001,
          2002,
          2003,
          2004,
          2005,
          2006,
          2007,
          2008,
          2009,
          2010,
          2011,
          2012,
          2013,
          2014,
          2015,
          2016
         ],
         "y": [
          48275.1694749,
          50848.887278500006,
          52122.2551248,
          53958.024299699995,
          55730.0708672,
          57977.07572180001,
          60403.99573119999,
          62064.475385699996,
          65084.301616699995,
          67483.4808778,
          70104.9905737,
          73234.56106030001,
          75290.49228410001,
          78320.5750733,
          78710.1924553,
          78692.684464,
          76900.74253160002,
          76774.5409312,
          75088.14889239999,
          72851.25795099999,
          71751.253851,
          69097.07627389999,
          67558.0766051,
          67004.91441510001,
          67563.33999909999,
          68619.3332951,
          69181.5231707
         ]
        },
        {
         "marker": {
          "color": "rgba(219, 64, 82, 1.0)",
          "line": {
           "width": 1.3
          },
          "opacity": 0.8,
          "size": 12,
          "symbol": "circle"
         },
         "mode": "lines+markers",
         "name": "50-69",
         "textfont": {
          "color": "#4D5663"
         },
         "type": "scatter",
         "x": [
          1990,
          1991,
          1992,
          1993,
          1994,
          1995,
          1996,
          1997,
          1998,
          1999,
          2000,
          2001,
          2002,
          2003,
          2004,
          2005,
          2006,
          2007,
          2008,
          2009,
          2010,
          2011,
          2012,
          2013,
          2014,
          2015,
          2016
         ],
         "y": [
          27720.578684400003,
          29085.294571599996,
          29657.036421599994,
          30721.0176713,
          31695.252987,
          32941.1027782,
          34119.4078639,
          34775.96273380001,
          36264.3683199,
          36916.999983199996,
          37986.2391307,
          39659.2515903,
          40859.7973926,
          42656.2940314,
          43127.9088243,
          43481.110008699994,
          42506.35764830001,
          42772.867523,
          42264.7644512,
          41202.9161437,
          40803.5928052,
          39331.295153600004,
          38591.57197619999,
          38330.804215699995,
          39074.904376599996,
          40026.6399581,
          40516.0699437
         ]
        }
       ],
       "layout": {
        "legend": {
         "bgcolor": "#F5F6F9",
         "font": {
          "color": "#4D5663"
         }
        },
        "paper_bgcolor": "#F5F6F9",
        "plot_bgcolor": "#F5F6F9",
        "template": {
         "data": {
          "bar": [
           {
            "error_x": {
             "color": "#2a3f5f"
            },
            "error_y": {
             "color": "#2a3f5f"
            },
            "marker": {
             "line": {
              "color": "#E5ECF6",
              "width": 0.5
             }
            },
            "type": "bar"
           }
          ],
          "barpolar": [
           {
            "marker": {
             "line": {
              "color": "#E5ECF6",
              "width": 0.5
             }
            },
            "type": "barpolar"
           }
          ],
          "carpet": [
           {
            "aaxis": {
             "endlinecolor": "#2a3f5f",
             "gridcolor": "white",
             "linecolor": "white",
             "minorgridcolor": "white",
             "startlinecolor": "#2a3f5f"
            },
            "baxis": {
             "endlinecolor": "#2a3f5f",
             "gridcolor": "white",
             "linecolor": "white",
             "minorgridcolor": "white",
             "startlinecolor": "#2a3f5f"
            },
            "type": "carpet"
           }
          ],
          "choropleth": [
           {
            "colorbar": {
             "outlinewidth": 0,
             "ticks": ""
            },
            "type": "choropleth"
           }
          ],
          "contour": [
           {
            "colorbar": {
             "outlinewidth": 0,
             "ticks": ""
            },
            "colorscale": [
             [
              0,
              "#0d0887"
             ],
             [
              0.1111111111111111,
              "#46039f"
             ],
             [
              0.2222222222222222,
              "#7201a8"
             ],
             [
              0.3333333333333333,
              "#9c179e"
             ],
             [
              0.4444444444444444,
              "#bd3786"
             ],
             [
              0.5555555555555556,
              "#d8576b"
             ],
             [
              0.6666666666666666,
              "#ed7953"
             ],
             [
              0.7777777777777778,
              "#fb9f3a"
             ],
             [
              0.8888888888888888,
              "#fdca26"
             ],
             [
              1,
              "#f0f921"
             ]
            ],
            "type": "contour"
           }
          ],
          "contourcarpet": [
           {
            "colorbar": {
             "outlinewidth": 0,
             "ticks": ""
            },
            "type": "contourcarpet"
           }
          ],
          "heatmap": [
           {
            "colorbar": {
             "outlinewidth": 0,
             "ticks": ""
            },
            "colorscale": [
             [
              0,
              "#0d0887"
             ],
             [
              0.1111111111111111,
              "#46039f"
             ],
             [
              0.2222222222222222,
              "#7201a8"
             ],
             [
              0.3333333333333333,
              "#9c179e"
             ],
             [
              0.4444444444444444,
              "#bd3786"
             ],
             [
              0.5555555555555556,
              "#d8576b"
             ],
             [
              0.6666666666666666,
              "#ed7953"
             ],
             [
              0.7777777777777778,
              "#fb9f3a"
             ],
             [
              0.8888888888888888,
              "#fdca26"
             ],
             [
              1,
              "#f0f921"
             ]
            ],
            "type": "heatmap"
           }
          ],
          "heatmapgl": [
           {
            "colorbar": {
             "outlinewidth": 0,
             "ticks": ""
            },
            "colorscale": [
             [
              0,
              "#0d0887"
             ],
             [
              0.1111111111111111,
              "#46039f"
             ],
             [
              0.2222222222222222,
              "#7201a8"
             ],
             [
              0.3333333333333333,
              "#9c179e"
             ],
             [
              0.4444444444444444,
              "#bd3786"
             ],
             [
              0.5555555555555556,
              "#d8576b"
             ],
             [
              0.6666666666666666,
              "#ed7953"
             ],
             [
              0.7777777777777778,
              "#fb9f3a"
             ],
             [
              0.8888888888888888,
              "#fdca26"
             ],
             [
              1,
              "#f0f921"
             ]
            ],
            "type": "heatmapgl"
           }
          ],
          "histogram": [
           {
            "marker": {
             "colorbar": {
              "outlinewidth": 0,
              "ticks": ""
             }
            },
            "type": "histogram"
           }
          ],
          "histogram2d": [
           {
            "colorbar": {
             "outlinewidth": 0,
             "ticks": ""
            },
            "colorscale": [
             [
              0,
              "#0d0887"
             ],
             [
              0.1111111111111111,
              "#46039f"
             ],
             [
              0.2222222222222222,
              "#7201a8"
             ],
             [
              0.3333333333333333,
              "#9c179e"
             ],
             [
              0.4444444444444444,
              "#bd3786"
             ],
             [
              0.5555555555555556,
              "#d8576b"
             ],
             [
              0.6666666666666666,
              "#ed7953"
             ],
             [
              0.7777777777777778,
              "#fb9f3a"
             ],
             [
              0.8888888888888888,
              "#fdca26"
             ],
             [
              1,
              "#f0f921"
             ]
            ],
            "type": "histogram2d"
           }
          ],
          "histogram2dcontour": [
           {
            "colorbar": {
             "outlinewidth": 0,
             "ticks": ""
            },
            "colorscale": [
             [
              0,
              "#0d0887"
             ],
             [
              0.1111111111111111,
              "#46039f"
             ],
             [
              0.2222222222222222,
              "#7201a8"
             ],
             [
              0.3333333333333333,
              "#9c179e"
             ],
             [
              0.4444444444444444,
              "#bd3786"
             ],
             [
              0.5555555555555556,
              "#d8576b"
             ],
             [
              0.6666666666666666,
              "#ed7953"
             ],
             [
              0.7777777777777778,
              "#fb9f3a"
             ],
             [
              0.8888888888888888,
              "#fdca26"
             ],
             [
              1,
              "#f0f921"
             ]
            ],
            "type": "histogram2dcontour"
           }
          ],
          "mesh3d": [
           {
            "colorbar": {
             "outlinewidth": 0,
             "ticks": ""
            },
            "type": "mesh3d"
           }
          ],
          "parcoords": [
           {
            "line": {
             "colorbar": {
              "outlinewidth": 0,
              "ticks": ""
             }
            },
            "type": "parcoords"
           }
          ],
          "pie": [
           {
            "automargin": true,
            "type": "pie"
           }
          ],
          "scatter": [
           {
            "marker": {
             "colorbar": {
              "outlinewidth": 0,
              "ticks": ""
             }
            },
            "type": "scatter"
           }
          ],
          "scatter3d": [
           {
            "line": {
             "colorbar": {
              "outlinewidth": 0,
              "ticks": ""
             }
            },
            "marker": {
             "colorbar": {
              "outlinewidth": 0,
              "ticks": ""
             }
            },
            "type": "scatter3d"
           }
          ],
          "scattercarpet": [
           {
            "marker": {
             "colorbar": {
              "outlinewidth": 0,
              "ticks": ""
             }
            },
            "type": "scattercarpet"
           }
          ],
          "scattergeo": [
           {
            "marker": {
             "colorbar": {
              "outlinewidth": 0,
              "ticks": ""
             }
            },
            "type": "scattergeo"
           }
          ],
          "scattergl": [
           {
            "marker": {
             "colorbar": {
              "outlinewidth": 0,
              "ticks": ""
             }
            },
            "type": "scattergl"
           }
          ],
          "scattermapbox": [
           {
            "marker": {
             "colorbar": {
              "outlinewidth": 0,
              "ticks": ""
             }
            },
            "type": "scattermapbox"
           }
          ],
          "scatterpolar": [
           {
            "marker": {
             "colorbar": {
              "outlinewidth": 0,
              "ticks": ""
             }
            },
            "type": "scatterpolar"
           }
          ],
          "scatterpolargl": [
           {
            "marker": {
             "colorbar": {
              "outlinewidth": 0,
              "ticks": ""
             }
            },
            "type": "scatterpolargl"
           }
          ],
          "scatterternary": [
           {
            "marker": {
             "colorbar": {
              "outlinewidth": 0,
              "ticks": ""
             }
            },
            "type": "scatterternary"
           }
          ],
          "surface": [
           {
            "colorbar": {
             "outlinewidth": 0,
             "ticks": ""
            },
            "colorscale": [
             [
              0,
              "#0d0887"
             ],
             [
              0.1111111111111111,
              "#46039f"
             ],
             [
              0.2222222222222222,
              "#7201a8"
             ],
             [
              0.3333333333333333,
              "#9c179e"
             ],
             [
              0.4444444444444444,
              "#bd3786"
             ],
             [
              0.5555555555555556,
              "#d8576b"
             ],
             [
              0.6666666666666666,
              "#ed7953"
             ],
             [
              0.7777777777777778,
              "#fb9f3a"
             ],
             [
              0.8888888888888888,
              "#fdca26"
             ],
             [
              1,
              "#f0f921"
             ]
            ],
            "type": "surface"
           }
          ],
          "table": [
           {
            "cells": {
             "fill": {
              "color": "#EBF0F8"
             },
             "line": {
              "color": "white"
             }
            },
            "header": {
             "fill": {
              "color": "#C8D4E3"
             },
             "line": {
              "color": "white"
             }
            },
            "type": "table"
           }
          ]
         },
         "layout": {
          "annotationdefaults": {
           "arrowcolor": "#2a3f5f",
           "arrowhead": 0,
           "arrowwidth": 1
          },
          "coloraxis": {
           "colorbar": {
            "outlinewidth": 0,
            "ticks": ""
           }
          },
          "colorscale": {
           "diverging": [
            [
             0,
             "#8e0152"
            ],
            [
             0.1,
             "#c51b7d"
            ],
            [
             0.2,
             "#de77ae"
            ],
            [
             0.3,
             "#f1b6da"
            ],
            [
             0.4,
             "#fde0ef"
            ],
            [
             0.5,
             "#f7f7f7"
            ],
            [
             0.6,
             "#e6f5d0"
            ],
            [
             0.7,
             "#b8e186"
            ],
            [
             0.8,
             "#7fbc41"
            ],
            [
             0.9,
             "#4d9221"
            ],
            [
             1,
             "#276419"
            ]
           ],
           "sequential": [
            [
             0,
             "#0d0887"
            ],
            [
             0.1111111111111111,
             "#46039f"
            ],
            [
             0.2222222222222222,
             "#7201a8"
            ],
            [
             0.3333333333333333,
             "#9c179e"
            ],
            [
             0.4444444444444444,
             "#bd3786"
            ],
            [
             0.5555555555555556,
             "#d8576b"
            ],
            [
             0.6666666666666666,
             "#ed7953"
            ],
            [
             0.7777777777777778,
             "#fb9f3a"
            ],
            [
             0.8888888888888888,
             "#fdca26"
            ],
            [
             1,
             "#f0f921"
            ]
           ],
           "sequentialminus": [
            [
             0,
             "#0d0887"
            ],
            [
             0.1111111111111111,
             "#46039f"
            ],
            [
             0.2222222222222222,
             "#7201a8"
            ],
            [
             0.3333333333333333,
             "#9c179e"
            ],
            [
             0.4444444444444444,
             "#bd3786"
            ],
            [
             0.5555555555555556,
             "#d8576b"
            ],
            [
             0.6666666666666666,
             "#ed7953"
            ],
            [
             0.7777777777777778,
             "#fb9f3a"
            ],
            [
             0.8888888888888888,
             "#fdca26"
            ],
            [
             1,
             "#f0f921"
            ]
           ]
          },
          "colorway": [
           "#636efa",
           "#EF553B",
           "#00cc96",
           "#ab63fa",
           "#FFA15A",
           "#19d3f3",
           "#FF6692",
           "#B6E880",
           "#FF97FF",
           "#FECB52"
          ],
          "font": {
           "color": "#2a3f5f"
          },
          "geo": {
           "bgcolor": "white",
           "lakecolor": "white",
           "landcolor": "#E5ECF6",
           "showlakes": true,
           "showland": true,
           "subunitcolor": "white"
          },
          "hoverlabel": {
           "align": "left"
          },
          "hovermode": "closest",
          "mapbox": {
           "style": "light"
          },
          "paper_bgcolor": "white",
          "plot_bgcolor": "#E5ECF6",
          "polar": {
           "angularaxis": {
            "gridcolor": "white",
            "linecolor": "white",
            "ticks": ""
           },
           "bgcolor": "#E5ECF6",
           "radialaxis": {
            "gridcolor": "white",
            "linecolor": "white",
            "ticks": ""
           }
          },
          "scene": {
           "xaxis": {
            "backgroundcolor": "#E5ECF6",
            "gridcolor": "white",
            "gridwidth": 2,
            "linecolor": "white",
            "showbackground": true,
            "ticks": "",
            "zerolinecolor": "white"
           },
           "yaxis": {
            "backgroundcolor": "#E5ECF6",
            "gridcolor": "white",
            "gridwidth": 2,
            "linecolor": "white",
            "showbackground": true,
            "ticks": "",
            "zerolinecolor": "white"
           },
           "zaxis": {
            "backgroundcolor": "#E5ECF6",
            "gridcolor": "white",
            "gridwidth": 2,
            "linecolor": "white",
            "showbackground": true,
            "ticks": "",
            "zerolinecolor": "white"
           }
          },
          "shapedefaults": {
           "line": {
            "color": "#2a3f5f"
           }
          },
          "ternary": {
           "aaxis": {
            "gridcolor": "white",
            "linecolor": "white",
            "ticks": ""
           },
           "baxis": {
            "gridcolor": "white",
            "linecolor": "white",
            "ticks": ""
           },
           "bgcolor": "#E5ECF6",
           "caxis": {
            "gridcolor": "white",
            "linecolor": "white",
            "ticks": ""
           }
          },
          "title": {
           "x": 0.05
          },
          "xaxis": {
           "automargin": true,
           "gridcolor": "white",
           "linecolor": "white",
           "ticks": "",
           "title": {
            "standoff": 15
           },
           "zerolinecolor": "white",
           "zerolinewidth": 2
          },
          "yaxis": {
           "automargin": true,
           "gridcolor": "white",
           "linecolor": "white",
           "ticks": "",
           "title": {
            "standoff": 15
           },
           "zerolinecolor": "white",
           "zerolinewidth": 2
          }
         }
        },
        "title": {
         "font": {
          "color": "#4D5663"
         },
         "text": "Malaria deaths by age in the World from 1990 to 2016"
        },
        "xaxis": {
         "gridcolor": "#E1E5ED",
         "showgrid": true,
         "tickfont": {
          "color": "#4D5663"
         },
         "title": {
          "font": {
           "color": "#4D5663"
          },
          "text": "Year"
         },
         "zerolinecolor": "#E1E5ED"
        },
        "yaxis": {
         "gridcolor": "#E1E5ED",
         "showgrid": true,
         "tickfont": {
          "color": "#4D5663"
         },
         "title": {
          "font": {
           "color": "#4D5663"
          },
          "text": "Malaria deaths"
         },
         "zerolinecolor": "#E1E5ED"
        }
       }
      },
      "text/html": [
       "<div>                            <div id=\"660ad1c4-5483-48cb-8846-319ddd1b63ec\" class=\"plotly-graph-div\" style=\"height:525px; width:100%;\"></div>            <script type=\"text/javascript\">                require([\"plotly\"], function(Plotly) {                    window.PLOTLYENV=window.PLOTLYENV || {};\n",
       "                    window.PLOTLYENV.BASE_URL='https://plot.ly';                                    if (document.getElementById(\"660ad1c4-5483-48cb-8846-319ddd1b63ec\")) {                    Plotly.newPlot(                        \"660ad1c4-5483-48cb-8846-319ddd1b63ec\",                        [{\"marker\": {\"color\": \"rgba(255, 153, 51, 1.0)\", \"line\": {\"width\": 1.3}, \"opacity\": 0.8, \"size\": 12, \"symbol\": \"circle\"}, \"mode\": \"lines+markers\", \"name\": \"Under 5\", \"textfont\": {\"color\": \"#4D5663\"}, \"type\": \"scatter\", \"x\": [1990, 1991, 1992, 1993, 1994, 1995, 1996, 1997, 1998, 1999, 2000, 2001, 2002, 2003, 2004, 2005, 2006, 2007, 2008, 2009, 2010, 2011, 2012, 2013, 2014, 2015, 2016], \"y\": [586161.12262, 602734.287725, 612688.202533, 626224.6924020001, 636119.4623220001, 646722.335449, 656285.520749, 664305.062808, 681065.266685, 698846.0928979999, 705882.728782, 728254.3569560001, 737466.1288109999, 752025.548675, 746365.80863, 735966.857064, 734869.501103, 726367.8045979999, 719208.3491560001, 688065.379789, 657451.944264, 620864.413006, 578599.952263, 560601.685727, 541555.38638, 519987.00985200005, 516897.263977]}, {\"marker\": {\"color\": \"rgba(55, 128, 191, 1.0)\", \"line\": {\"width\": 1.3}, \"opacity\": 0.8, \"size\": 12, \"symbol\": \"circle\"}, \"mode\": \"lines+markers\", \"name\": \"70 or older\", \"textfont\": {\"color\": \"#4D5663\"}, \"type\": \"scatter\", \"x\": [1990, 1991, 1992, 1993, 1994, 1995, 1996, 1997, 1998, 1999, 2000, 2001, 2002, 2003, 2004, 2005, 2006, 2007, 2008, 2009, 2010, 2011, 2012, 2013, 2014, 2015, 2016], \"y\": [15103.4523377, 16123.100547999999, 16616.2461123, 17413.282133200002, 18150.620982700002, 18997.0401285, 19964.037729599997, 20604.7011532, 21714.197663599996, 22189.4548335, 22843.3526478, 24142.9031397, 25081.481892, 26377.4582801, 26825.337391499997, 27165.8828821, 26764.8642502, 27057.0615588, 26928.6308931, 26376.2281268, 26224.456076599996, 25387.502356599998, 25030.7483727, 24805.2122925, 25246.0159227, 25714.804116799998, 26055.8020742]}, {\"marker\": {\"color\": \"rgba(50, 171, 96, 1.0)\", \"line\": {\"width\": 1.3}, \"opacity\": 0.8, \"size\": 12, \"symbol\": \"circle\"}, \"mode\": \"lines+markers\", \"name\": \"5-14\", \"textfont\": {\"color\": \"#4D5663\"}, \"type\": \"scatter\", \"x\": [1990, 1991, 1992, 1993, 1994, 1995, 1996, 1997, 1998, 1999, 2000, 2001, 2002, 2003, 2004, 2005, 2006, 2007, 2008, 2009, 2010, 2011, 2012, 2013, 2014, 2015, 2016], \"y\": [68752.5855903, 71194.5310598, 72711.61000619999, 75549.8793367, 76751.95089939999, 78014.3806547, 79361.2050629, 81135.7543283, 83277.9327454, 84328.87190780001, 85029.977491, 87748.3152945, 89959.93960499999, 91583.9751399, 91224.6266247, 91377.3952717, 89577.2993265, 88752.85744430001, 88110.74707180001, 84297.47845980001, 80407.69953130001, 76730.78464119999, 72580.27434510001, 69789.39694260001, 69531.3097875, 67341.7438387, 66900.8055657]}, {\"marker\": {\"color\": \"rgba(128, 0, 128, 1.0)\", \"line\": {\"width\": 1.3}, \"opacity\": 0.8, \"size\": 12, \"symbol\": \"circle\"}, \"mode\": \"lines+markers\", \"name\": \"15-49\", \"textfont\": {\"color\": \"#4D5663\"}, \"type\": \"scatter\", \"x\": [1990, 1991, 1992, 1993, 1994, 1995, 1996, 1997, 1998, 1999, 2000, 2001, 2002, 2003, 2004, 2005, 2006, 2007, 2008, 2009, 2010, 2011, 2012, 2013, 2014, 2015, 2016], \"y\": [48275.1694749, 50848.887278500006, 52122.2551248, 53958.024299699995, 55730.0708672, 57977.07572180001, 60403.99573119999, 62064.475385699996, 65084.301616699995, 67483.4808778, 70104.9905737, 73234.56106030001, 75290.49228410001, 78320.5750733, 78710.1924553, 78692.684464, 76900.74253160002, 76774.5409312, 75088.14889239999, 72851.25795099999, 71751.253851, 69097.07627389999, 67558.0766051, 67004.91441510001, 67563.33999909999, 68619.3332951, 69181.5231707]}, {\"marker\": {\"color\": \"rgba(219, 64, 82, 1.0)\", \"line\": {\"width\": 1.3}, \"opacity\": 0.8, \"size\": 12, \"symbol\": \"circle\"}, \"mode\": \"lines+markers\", \"name\": \"50-69\", \"textfont\": {\"color\": \"#4D5663\"}, \"type\": \"scatter\", \"x\": [1990, 1991, 1992, 1993, 1994, 1995, 1996, 1997, 1998, 1999, 2000, 2001, 2002, 2003, 2004, 2005, 2006, 2007, 2008, 2009, 2010, 2011, 2012, 2013, 2014, 2015, 2016], \"y\": [27720.578684400003, 29085.294571599996, 29657.036421599994, 30721.0176713, 31695.252987, 32941.1027782, 34119.4078639, 34775.96273380001, 36264.3683199, 36916.999983199996, 37986.2391307, 39659.2515903, 40859.7973926, 42656.2940314, 43127.9088243, 43481.110008699994, 42506.35764830001, 42772.867523, 42264.7644512, 41202.9161437, 40803.5928052, 39331.295153600004, 38591.57197619999, 38330.804215699995, 39074.904376599996, 40026.6399581, 40516.0699437]}],                        {\"legend\": {\"bgcolor\": \"#F5F6F9\", \"font\": {\"color\": \"#4D5663\"}}, \"paper_bgcolor\": \"#F5F6F9\", \"plot_bgcolor\": \"#F5F6F9\", \"template\": {\"data\": {\"bar\": [{\"error_x\": {\"color\": \"#2a3f5f\"}, \"error_y\": {\"color\": \"#2a3f5f\"}, \"marker\": {\"line\": {\"color\": \"#E5ECF6\", \"width\": 0.5}}, \"type\": \"bar\"}], \"barpolar\": [{\"marker\": {\"line\": {\"color\": \"#E5ECF6\", \"width\": 0.5}}, \"type\": \"barpolar\"}], \"carpet\": [{\"aaxis\": {\"endlinecolor\": \"#2a3f5f\", \"gridcolor\": \"white\", \"linecolor\": \"white\", \"minorgridcolor\": \"white\", \"startlinecolor\": \"#2a3f5f\"}, \"baxis\": {\"endlinecolor\": \"#2a3f5f\", \"gridcolor\": \"white\", \"linecolor\": \"white\", \"minorgridcolor\": \"white\", \"startlinecolor\": \"#2a3f5f\"}, \"type\": \"carpet\"}], \"choropleth\": [{\"colorbar\": {\"outlinewidth\": 0, \"ticks\": \"\"}, \"type\": \"choropleth\"}], \"contour\": [{\"colorbar\": {\"outlinewidth\": 0, \"ticks\": \"\"}, \"colorscale\": [[0.0, \"#0d0887\"], [0.1111111111111111, \"#46039f\"], [0.2222222222222222, \"#7201a8\"], [0.3333333333333333, \"#9c179e\"], [0.4444444444444444, \"#bd3786\"], [0.5555555555555556, \"#d8576b\"], [0.6666666666666666, \"#ed7953\"], [0.7777777777777778, \"#fb9f3a\"], [0.8888888888888888, \"#fdca26\"], [1.0, \"#f0f921\"]], \"type\": \"contour\"}], \"contourcarpet\": [{\"colorbar\": {\"outlinewidth\": 0, \"ticks\": \"\"}, \"type\": \"contourcarpet\"}], \"heatmap\": [{\"colorbar\": {\"outlinewidth\": 0, \"ticks\": \"\"}, \"colorscale\": [[0.0, \"#0d0887\"], [0.1111111111111111, \"#46039f\"], [0.2222222222222222, \"#7201a8\"], [0.3333333333333333, \"#9c179e\"], [0.4444444444444444, \"#bd3786\"], [0.5555555555555556, \"#d8576b\"], [0.6666666666666666, \"#ed7953\"], [0.7777777777777778, \"#fb9f3a\"], [0.8888888888888888, \"#fdca26\"], [1.0, \"#f0f921\"]], \"type\": \"heatmap\"}], \"heatmapgl\": [{\"colorbar\": {\"outlinewidth\": 0, \"ticks\": \"\"}, \"colorscale\": [[0.0, \"#0d0887\"], [0.1111111111111111, \"#46039f\"], [0.2222222222222222, \"#7201a8\"], [0.3333333333333333, \"#9c179e\"], [0.4444444444444444, \"#bd3786\"], [0.5555555555555556, \"#d8576b\"], [0.6666666666666666, \"#ed7953\"], [0.7777777777777778, \"#fb9f3a\"], [0.8888888888888888, \"#fdca26\"], [1.0, \"#f0f921\"]], \"type\": \"heatmapgl\"}], \"histogram\": [{\"marker\": {\"colorbar\": {\"outlinewidth\": 0, \"ticks\": \"\"}}, \"type\": \"histogram\"}], \"histogram2d\": [{\"colorbar\": {\"outlinewidth\": 0, \"ticks\": \"\"}, \"colorscale\": [[0.0, \"#0d0887\"], [0.1111111111111111, \"#46039f\"], [0.2222222222222222, \"#7201a8\"], [0.3333333333333333, \"#9c179e\"], [0.4444444444444444, \"#bd3786\"], [0.5555555555555556, \"#d8576b\"], [0.6666666666666666, \"#ed7953\"], [0.7777777777777778, \"#fb9f3a\"], [0.8888888888888888, \"#fdca26\"], [1.0, \"#f0f921\"]], \"type\": \"histogram2d\"}], \"histogram2dcontour\": [{\"colorbar\": {\"outlinewidth\": 0, \"ticks\": \"\"}, \"colorscale\": [[0.0, \"#0d0887\"], [0.1111111111111111, \"#46039f\"], [0.2222222222222222, \"#7201a8\"], [0.3333333333333333, \"#9c179e\"], [0.4444444444444444, \"#bd3786\"], [0.5555555555555556, \"#d8576b\"], [0.6666666666666666, \"#ed7953\"], [0.7777777777777778, \"#fb9f3a\"], [0.8888888888888888, \"#fdca26\"], [1.0, \"#f0f921\"]], \"type\": \"histogram2dcontour\"}], \"mesh3d\": [{\"colorbar\": {\"outlinewidth\": 0, \"ticks\": \"\"}, \"type\": \"mesh3d\"}], \"parcoords\": [{\"line\": {\"colorbar\": {\"outlinewidth\": 0, \"ticks\": \"\"}}, \"type\": \"parcoords\"}], \"pie\": [{\"automargin\": true, \"type\": \"pie\"}], \"scatter\": [{\"marker\": {\"colorbar\": {\"outlinewidth\": 0, \"ticks\": \"\"}}, \"type\": \"scatter\"}], \"scatter3d\": [{\"line\": {\"colorbar\": {\"outlinewidth\": 0, \"ticks\": \"\"}}, \"marker\": {\"colorbar\": {\"outlinewidth\": 0, \"ticks\": \"\"}}, \"type\": \"scatter3d\"}], \"scattercarpet\": [{\"marker\": {\"colorbar\": {\"outlinewidth\": 0, \"ticks\": \"\"}}, \"type\": \"scattercarpet\"}], \"scattergeo\": [{\"marker\": {\"colorbar\": {\"outlinewidth\": 0, \"ticks\": \"\"}}, \"type\": \"scattergeo\"}], \"scattergl\": [{\"marker\": {\"colorbar\": {\"outlinewidth\": 0, \"ticks\": \"\"}}, \"type\": \"scattergl\"}], \"scattermapbox\": [{\"marker\": {\"colorbar\": {\"outlinewidth\": 0, \"ticks\": \"\"}}, \"type\": \"scattermapbox\"}], \"scatterpolar\": [{\"marker\": {\"colorbar\": {\"outlinewidth\": 0, \"ticks\": \"\"}}, \"type\": \"scatterpolar\"}], \"scatterpolargl\": [{\"marker\": {\"colorbar\": {\"outlinewidth\": 0, \"ticks\": \"\"}}, \"type\": \"scatterpolargl\"}], \"scatterternary\": [{\"marker\": {\"colorbar\": {\"outlinewidth\": 0, \"ticks\": \"\"}}, \"type\": \"scatterternary\"}], \"surface\": [{\"colorbar\": {\"outlinewidth\": 0, \"ticks\": \"\"}, \"colorscale\": [[0.0, \"#0d0887\"], [0.1111111111111111, \"#46039f\"], [0.2222222222222222, \"#7201a8\"], [0.3333333333333333, \"#9c179e\"], [0.4444444444444444, \"#bd3786\"], [0.5555555555555556, \"#d8576b\"], [0.6666666666666666, \"#ed7953\"], [0.7777777777777778, \"#fb9f3a\"], [0.8888888888888888, \"#fdca26\"], [1.0, \"#f0f921\"]], \"type\": \"surface\"}], \"table\": [{\"cells\": {\"fill\": {\"color\": \"#EBF0F8\"}, \"line\": {\"color\": \"white\"}}, \"header\": {\"fill\": {\"color\": \"#C8D4E3\"}, \"line\": {\"color\": \"white\"}}, \"type\": \"table\"}]}, \"layout\": {\"annotationdefaults\": {\"arrowcolor\": \"#2a3f5f\", \"arrowhead\": 0, \"arrowwidth\": 1}, \"coloraxis\": {\"colorbar\": {\"outlinewidth\": 0, \"ticks\": \"\"}}, \"colorscale\": {\"diverging\": [[0, \"#8e0152\"], [0.1, \"#c51b7d\"], [0.2, \"#de77ae\"], [0.3, \"#f1b6da\"], [0.4, \"#fde0ef\"], [0.5, \"#f7f7f7\"], [0.6, \"#e6f5d0\"], [0.7, \"#b8e186\"], [0.8, \"#7fbc41\"], [0.9, \"#4d9221\"], [1, \"#276419\"]], \"sequential\": [[0.0, \"#0d0887\"], [0.1111111111111111, \"#46039f\"], [0.2222222222222222, \"#7201a8\"], [0.3333333333333333, \"#9c179e\"], [0.4444444444444444, \"#bd3786\"], [0.5555555555555556, \"#d8576b\"], [0.6666666666666666, \"#ed7953\"], [0.7777777777777778, \"#fb9f3a\"], [0.8888888888888888, \"#fdca26\"], [1.0, \"#f0f921\"]], \"sequentialminus\": [[0.0, \"#0d0887\"], [0.1111111111111111, \"#46039f\"], [0.2222222222222222, \"#7201a8\"], [0.3333333333333333, \"#9c179e\"], [0.4444444444444444, \"#bd3786\"], [0.5555555555555556, \"#d8576b\"], [0.6666666666666666, \"#ed7953\"], [0.7777777777777778, \"#fb9f3a\"], [0.8888888888888888, \"#fdca26\"], [1.0, \"#f0f921\"]]}, \"colorway\": [\"#636efa\", \"#EF553B\", \"#00cc96\", \"#ab63fa\", \"#FFA15A\", \"#19d3f3\", \"#FF6692\", \"#B6E880\", \"#FF97FF\", \"#FECB52\"], \"font\": {\"color\": \"#2a3f5f\"}, \"geo\": {\"bgcolor\": \"white\", \"lakecolor\": \"white\", \"landcolor\": \"#E5ECF6\", \"showlakes\": true, \"showland\": true, \"subunitcolor\": \"white\"}, \"hoverlabel\": {\"align\": \"left\"}, \"hovermode\": \"closest\", \"mapbox\": {\"style\": \"light\"}, \"paper_bgcolor\": \"white\", \"plot_bgcolor\": \"#E5ECF6\", \"polar\": {\"angularaxis\": {\"gridcolor\": \"white\", \"linecolor\": \"white\", \"ticks\": \"\"}, \"bgcolor\": \"#E5ECF6\", \"radialaxis\": {\"gridcolor\": \"white\", \"linecolor\": \"white\", \"ticks\": \"\"}}, \"scene\": {\"xaxis\": {\"backgroundcolor\": \"#E5ECF6\", \"gridcolor\": \"white\", \"gridwidth\": 2, \"linecolor\": \"white\", \"showbackground\": true, \"ticks\": \"\", \"zerolinecolor\": \"white\"}, \"yaxis\": {\"backgroundcolor\": \"#E5ECF6\", \"gridcolor\": \"white\", \"gridwidth\": 2, \"linecolor\": \"white\", \"showbackground\": true, \"ticks\": \"\", \"zerolinecolor\": \"white\"}, \"zaxis\": {\"backgroundcolor\": \"#E5ECF6\", \"gridcolor\": \"white\", \"gridwidth\": 2, \"linecolor\": \"white\", \"showbackground\": true, \"ticks\": \"\", \"zerolinecolor\": \"white\"}}, \"shapedefaults\": {\"line\": {\"color\": \"#2a3f5f\"}}, \"ternary\": {\"aaxis\": {\"gridcolor\": \"white\", \"linecolor\": \"white\", \"ticks\": \"\"}, \"baxis\": {\"gridcolor\": \"white\", \"linecolor\": \"white\", \"ticks\": \"\"}, \"bgcolor\": \"#E5ECF6\", \"caxis\": {\"gridcolor\": \"white\", \"linecolor\": \"white\", \"ticks\": \"\"}}, \"title\": {\"x\": 0.05}, \"xaxis\": {\"automargin\": true, \"gridcolor\": \"white\", \"linecolor\": \"white\", \"ticks\": \"\", \"title\": {\"standoff\": 15}, \"zerolinecolor\": \"white\", \"zerolinewidth\": 2}, \"yaxis\": {\"automargin\": true, \"gridcolor\": \"white\", \"linecolor\": \"white\", \"ticks\": \"\", \"title\": {\"standoff\": 15}, \"zerolinecolor\": \"white\", \"zerolinewidth\": 2}}}, \"title\": {\"font\": {\"color\": \"#4D5663\"}, \"text\": \"Malaria deaths by age in the World from 1990 to 2016\"}, \"xaxis\": {\"gridcolor\": \"#E1E5ED\", \"showgrid\": true, \"tickfont\": {\"color\": \"#4D5663\"}, \"title\": {\"font\": {\"color\": \"#4D5663\"}, \"text\": \"Year\"}, \"zerolinecolor\": \"#E1E5ED\"}, \"yaxis\": {\"gridcolor\": \"#E1E5ED\", \"showgrid\": true, \"tickfont\": {\"color\": \"#4D5663\"}, \"title\": {\"font\": {\"color\": \"#4D5663\"}, \"text\": \"Malaria deaths\"}, \"zerolinecolor\": \"#E1E5ED\"}},                        {\"showLink\": true, \"linkText\": \"Export to plot.ly\", \"plotlyServerURL\": \"https://plot.ly\", \"responsive\": true}                    ).then(function(){\n",
       "                            \n",
       "var gd = document.getElementById('660ad1c4-5483-48cb-8846-319ddd1b63ec');\n",
       "var x = new MutationObserver(function (mutations, observer) {{\n",
       "        var display = window.getComputedStyle(gd).display;\n",
       "        if (!display || display === 'none') {{\n",
       "            console.log([gd, 'removed!']);\n",
       "            Plotly.purge(gd);\n",
       "            observer.disconnect();\n",
       "        }}\n",
       "}});\n",
       "\n",
       "// Listen for the removal of the full notebook cells\n",
       "var notebookContainer = gd.closest('#notebook-container');\n",
       "if (notebookContainer) {{\n",
       "    x.observe(notebookContainer, {childList: true});\n",
       "}}\n",
       "\n",
       "// Listen for the clearing of the current output cell\n",
       "var outputEl = gd.closest('.output');\n",
       "if (outputEl) {{\n",
       "    x.observe(outputEl, {childList: true});\n",
       "}}\n",
       "\n",
       "                        })                };                });            </script>        </div>"
      ]
     },
     "metadata": {},
     "output_type": "display_data"
    }
   ],
   "source": [
    "#Visualisation 1: Death by age in the world\n",
    "\n",
    "death_by_age_world.iplot(mode='lines+markers', x='year',y='deaths by age group', categories='age_group', xTitle = 'Year', yTitle = 'Malaria deaths', title = 'Malaria deaths by age in the World from 1990 to 2016')\n"
   ]
  },
  {
   "cell_type": "markdown",
   "metadata": {},
   "source": [
    "## 2. Incidence of Malaria (per 1,000 population at risk)  in 2015"
   ]
  },
  {
   "cell_type": "code",
   "execution_count": 28,
   "metadata": {},
   "outputs": [],
   "source": [
    "#initializing the data variable\n",
    "data = dict(type = 'choropleth',\n",
    "            locations = incidence['entity'],\n",
    "            locationmode = 'country names',\n",
    "            colorscale= 'Reds',\n",
    "            text= incidence['code'],\n",
    "            z=incidence['Incidence per 1000 population at risk'],\n",
    "            colorbar = {'title':'Incidence of Malaria', 'len':200,'lenmode':'pixels' })"
   ]
  },
  {
   "cell_type": "code",
   "execution_count": 29,
   "metadata": {},
   "outputs": [],
   "source": [
    "#initializing the layout variable\n",
    "layout = dict(geo = {'scope':'world'})"
   ]
  },
  {
   "cell_type": "code",
   "execution_count": 30,
   "metadata": {},
   "outputs": [
    {
     "data": {
      "application/vnd.plotly.v1+json": {
       "config": {
        "linkText": "Export to plot.ly",
        "plotlyServerURL": "https://plot.ly",
        "showLink": false
       },
       "data": [
        {
         "colorbar": {
          "len": 200,
          "lenmode": "pixels",
          "title": {
           "text": "Incidence of Malaria"
          }
         },
         "colorscale": [
          [
           0,
           "rgb(255,245,240)"
          ],
          [
           0.125,
           "rgb(254,224,210)"
          ],
          [
           0.25,
           "rgb(252,187,161)"
          ],
          [
           0.375,
           "rgb(252,146,114)"
          ],
          [
           0.5,
           "rgb(251,106,74)"
          ],
          [
           0.625,
           "rgb(239,59,44)"
          ],
          [
           0.75,
           "rgb(203,24,29)"
          ],
          [
           0.875,
           "rgb(165,15,21)"
          ],
          [
           1,
           "rgb(103,0,13)"
          ]
         ],
         "locationmode": "country names",
         "locations": [
          "Afghanistan",
          "Algeria",
          "Angola",
          "Argentina",
          "Azerbaijan",
          "Bangladesh",
          "Belize",
          "Benin",
          "Bhutan",
          "Bolivia",
          "Botswana",
          "Brazil",
          "Burkina Faso",
          "Burundi",
          "Cambodia",
          "Cameroon",
          "Cape Verde",
          "Central African Republic",
          "Chad",
          "China",
          "Colombia",
          "Comoros",
          "Congo",
          "Costa Rica",
          "Cote d'Ivoire",
          "Democratic Republic of Congo",
          "Djibouti",
          "Dominican Republic",
          "Ecuador",
          "El Salvador",
          "Equatorial Guinea",
          "Eritrea",
          "Ethiopia",
          "Gabon",
          "Gambia",
          "Georgia",
          "Ghana",
          "Guatemala",
          "Guinea",
          "Guinea-Bissau",
          "Guyana",
          "Haiti",
          "Honduras",
          "India",
          "Indonesia",
          "Iran",
          "Iraq",
          "Kenya",
          "Kyrgyzstan",
          "Laos",
          "Liberia",
          "Madagascar",
          "Malawi",
          "Malaysia",
          "Mali",
          "Mauritania",
          "Mexico",
          "Mozambique",
          "Myanmar",
          "Namibia",
          "Nepal",
          "Nicaragua",
          "Niger",
          "Nigeria",
          "North Korea",
          "Pakistan",
          "Panama",
          "Papua New Guinea",
          "Paraguay",
          "Peru",
          "Philippines",
          "Rwanda",
          "Sao Tome and Principe",
          "Saudi Arabia",
          "Senegal",
          "Sierra Leone",
          "Solomon Islands",
          "Somalia",
          "South Africa",
          "South Asia",
          "South Asia",
          "South Asia",
          "South Asia",
          "South Asia",
          "South Asia",
          "South Asia",
          "South Asia",
          "South Asia",
          "South Asia",
          "South Asia",
          "South Asia",
          "South Asia",
          "South Asia",
          "South Asia",
          "South Asia",
          "South Asia",
          "South Asia",
          "South Asia",
          "South Asia",
          "South Asia",
          "South Asia",
          "South Asia",
          "South Asia",
          "South Asia",
          "South Asia",
          "South Asia",
          "South Asia",
          "South Asia",
          "South Asia",
          "South Asia",
          "South Asia",
          "South Korea",
          "South Sudan",
          "Sri Lanka",
          "Sub-Saharan Africa",
          "Sub-Saharan Africa",
          "Sub-Saharan Africa",
          "Sub-Saharan Africa",
          "Sub-Saharan Africa",
          "Sub-Saharan Africa",
          "Sub-Saharan Africa",
          "Sub-Saharan Africa",
          "Sub-Saharan Africa",
          "Sub-Saharan Africa",
          "Sub-Saharan Africa",
          "Sub-Saharan Africa",
          "Sub-Saharan Africa",
          "Sub-Saharan Africa",
          "Sub-Saharan Africa",
          "Sub-Saharan Africa",
          "Sub-Saharan Africa",
          "Sub-Saharan Africa",
          "Sub-Saharan Africa",
          "Sub-Saharan Africa",
          "Sub-Saharan Africa",
          "Sub-Saharan Africa",
          "Sub-Saharan Africa",
          "Sub-Saharan Africa",
          "Sub-Saharan Africa",
          "Sub-Saharan Africa",
          "Sub-Saharan Africa",
          "Sub-Saharan Africa",
          "Sub-Saharan Africa",
          "Sub-Saharan Africa",
          "Sub-Saharan Africa",
          "Sub-Saharan Africa",
          "Sudan",
          "Suriname",
          "Swaziland",
          "Tajikistan",
          "Tanzania",
          "Thailand",
          "Timor",
          "Togo",
          "Turkey",
          "Uganda",
          "Uzbekistan",
          "Vanuatu",
          "Venezuela",
          "Vietnam",
          "Yemen",
          "Zambia",
          "Zimbabwe",
          "Afghanistan",
          "Algeria",
          "Angola",
          "Argentina",
          "Azerbaijan",
          "Bangladesh",
          "Belize",
          "Benin",
          "Bhutan",
          "Bolivia",
          "Botswana",
          "Brazil",
          "Burkina Faso",
          "Burundi",
          "Cambodia",
          "Cameroon",
          "Cape Verde",
          "Central African Republic",
          "Chad",
          "China",
          "Colombia",
          "Comoros",
          "Congo",
          "Costa Rica",
          "Cote d'Ivoire",
          "Democratic Republic of Congo",
          "Djibouti",
          "Dominican Republic",
          "Ecuador",
          "El Salvador",
          "Equatorial Guinea",
          "Eritrea",
          "Ethiopia",
          "Gabon",
          "Gambia",
          "Georgia",
          "Ghana",
          "Guatemala",
          "Guinea",
          "Guinea-Bissau",
          "Guyana",
          "Haiti",
          "Honduras",
          "India",
          "Indonesia",
          "Iran",
          "Iraq",
          "Kenya",
          "Kyrgyzstan",
          "Laos",
          "Liberia",
          "Madagascar",
          "Malawi",
          "Malaysia",
          "Mali",
          "Mauritania",
          "Mexico",
          "Mozambique",
          "Myanmar",
          "Namibia",
          "Nepal",
          "Nicaragua",
          "Niger",
          "Nigeria",
          "North Korea",
          "Pakistan",
          "Panama",
          "Papua New Guinea",
          "Paraguay",
          "Peru",
          "Philippines",
          "Rwanda",
          "Sao Tome and Principe",
          "Saudi Arabia",
          "Senegal",
          "Sierra Leone",
          "Solomon Islands",
          "Somalia",
          "South Africa",
          "South Asia",
          "South Asia",
          "South Asia",
          "South Asia",
          "South Asia",
          "South Asia",
          "South Asia",
          "South Asia",
          "South Asia",
          "South Asia",
          "South Asia",
          "South Asia",
          "South Asia",
          "South Asia",
          "South Asia",
          "South Asia",
          "South Asia",
          "South Asia",
          "South Asia",
          "South Asia",
          "South Asia",
          "South Asia",
          "South Asia",
          "South Asia",
          "South Asia",
          "South Asia",
          "South Asia",
          "South Asia",
          "South Asia",
          "South Asia",
          "South Asia",
          "South Asia",
          "South Korea",
          "South Sudan",
          "Sri Lanka",
          "Sub-Saharan Africa",
          "Sub-Saharan Africa",
          "Sub-Saharan Africa",
          "Sub-Saharan Africa",
          "Sub-Saharan Africa",
          "Sub-Saharan Africa",
          "Sub-Saharan Africa",
          "Sub-Saharan Africa",
          "Sub-Saharan Africa",
          "Sub-Saharan Africa",
          "Sub-Saharan Africa",
          "Sub-Saharan Africa",
          "Sub-Saharan Africa",
          "Sub-Saharan Africa",
          "Sub-Saharan Africa",
          "Sub-Saharan Africa",
          "Sub-Saharan Africa",
          "Sub-Saharan Africa",
          "Sub-Saharan Africa",
          "Sub-Saharan Africa",
          "Sub-Saharan Africa",
          "Sub-Saharan Africa",
          "Sub-Saharan Africa",
          "Sub-Saharan Africa",
          "Sub-Saharan Africa",
          "Sub-Saharan Africa",
          "Sub-Saharan Africa",
          "Sub-Saharan Africa",
          "Sub-Saharan Africa",
          "Sub-Saharan Africa",
          "Sub-Saharan Africa",
          "Sub-Saharan Africa",
          "Sudan",
          "Suriname",
          "Swaziland",
          "Tajikistan",
          "Tanzania",
          "Thailand",
          "Timor",
          "Togo",
          "Turkey",
          "Uganda",
          "Uzbekistan",
          "Vanuatu",
          "Venezuela",
          "Vietnam",
          "Yemen",
          "Zambia",
          "Zimbabwe",
          "Afghanistan",
          "Algeria",
          "Angola",
          "Argentina",
          "Azerbaijan",
          "Bangladesh",
          "Belize",
          "Benin",
          "Bhutan",
          "Bolivia",
          "Botswana",
          "Brazil",
          "Burkina Faso",
          "Burundi",
          "Cambodia",
          "Cameroon",
          "Cape Verde",
          "Central African Republic",
          "Chad",
          "China",
          "Colombia",
          "Comoros",
          "Congo",
          "Costa Rica",
          "Cote d'Ivoire",
          "Democratic Republic of Congo",
          "Djibouti",
          "Dominican Republic",
          "Ecuador",
          "El Salvador",
          "Equatorial Guinea",
          "Eritrea",
          "Ethiopia",
          "Gabon",
          "Gambia",
          "Georgia",
          "Ghana",
          "Guatemala",
          "Guinea",
          "Guinea-Bissau",
          "Guyana",
          "Haiti",
          "Honduras",
          "India",
          "Indonesia",
          "Iran",
          "Iraq",
          "Kenya",
          "Kyrgyzstan",
          "Laos",
          "Liberia",
          "Madagascar",
          "Malawi",
          "Malaysia",
          "Mali",
          "Mauritania",
          "Mexico",
          "Mozambique",
          "Myanmar",
          "Namibia",
          "Nepal",
          "Nicaragua",
          "Niger",
          "Nigeria",
          "North Korea",
          "Pakistan",
          "Panama",
          "Papua New Guinea",
          "Paraguay",
          "Peru",
          "Philippines",
          "Rwanda",
          "Sao Tome and Principe",
          "Saudi Arabia",
          "Senegal",
          "Sierra Leone",
          "Solomon Islands",
          "Somalia",
          "South Africa",
          "South Asia",
          "South Asia",
          "South Asia",
          "South Asia",
          "South Asia",
          "South Asia",
          "South Asia",
          "South Asia",
          "South Asia",
          "South Asia",
          "South Asia",
          "South Asia",
          "South Asia",
          "South Asia",
          "South Asia",
          "South Asia",
          "South Asia",
          "South Asia",
          "South Asia",
          "South Asia",
          "South Asia",
          "South Asia",
          "South Asia",
          "South Asia",
          "South Asia",
          "South Asia",
          "South Asia",
          "South Asia",
          "South Asia",
          "South Asia",
          "South Asia",
          "South Asia",
          "South Korea",
          "South Sudan",
          "Sri Lanka",
          "Sub-Saharan Africa",
          "Sub-Saharan Africa",
          "Sub-Saharan Africa",
          "Sub-Saharan Africa",
          "Sub-Saharan Africa",
          "Sub-Saharan Africa",
          "Sub-Saharan Africa",
          "Sub-Saharan Africa",
          "Sub-Saharan Africa",
          "Sub-Saharan Africa",
          "Sub-Saharan Africa",
          "Sub-Saharan Africa",
          "Sub-Saharan Africa",
          "Sub-Saharan Africa",
          "Sub-Saharan Africa",
          "Sub-Saharan Africa",
          "Sub-Saharan Africa",
          "Sub-Saharan Africa",
          "Sub-Saharan Africa",
          "Sub-Saharan Africa",
          "Sub-Saharan Africa",
          "Sub-Saharan Africa",
          "Sub-Saharan Africa",
          "Sub-Saharan Africa",
          "Sub-Saharan Africa",
          "Sub-Saharan Africa",
          "Sub-Saharan Africa",
          "Sub-Saharan Africa",
          "Sub-Saharan Africa",
          "Sub-Saharan Africa",
          "Sub-Saharan Africa",
          "Sub-Saharan Africa",
          "Sudan",
          "Suriname",
          "Swaziland",
          "Tajikistan",
          "Tanzania",
          "Thailand",
          "Timor",
          "Togo",
          "Turkey",
          "Uganda",
          "Uzbekistan",
          "Vanuatu",
          "Venezuela",
          "Vietnam",
          "Yemen",
          "Zambia",
          "Zimbabwe",
          "Afghanistan",
          "Algeria",
          "Angola",
          "Argentina",
          "Azerbaijan",
          "Bangladesh",
          "Belize",
          "Benin",
          "Bhutan",
          "Bolivia",
          "Botswana",
          "Brazil",
          "Burkina Faso",
          "Burundi",
          "Cambodia",
          "Cameroon",
          "Cape Verde",
          "Central African Republic",
          "Chad",
          "China",
          "Colombia",
          "Comoros",
          "Congo",
          "Costa Rica",
          "Cote d'Ivoire",
          "Democratic Republic of Congo",
          "Djibouti",
          "Dominican Republic",
          "Ecuador",
          "El Salvador",
          "Equatorial Guinea",
          "Eritrea",
          "Ethiopia",
          "Gabon",
          "Gambia",
          "Georgia",
          "Ghana",
          "Guatemala",
          "Guinea",
          "Guinea-Bissau",
          "Guyana",
          "Haiti",
          "Honduras",
          "India",
          "Indonesia",
          "Iran",
          "Iraq",
          "Kenya",
          "Kyrgyzstan",
          "Laos",
          "Liberia",
          "Madagascar",
          "Malawi",
          "Malaysia",
          "Mali",
          "Mauritania",
          "Mexico",
          "Mozambique",
          "Myanmar",
          "Namibia",
          "Nepal",
          "Nicaragua",
          "Niger",
          "Nigeria",
          "North Korea",
          "Pakistan",
          "Panama",
          "Papua New Guinea",
          "Paraguay",
          "Peru",
          "Philippines",
          "Rwanda",
          "Sao Tome and Principe",
          "Saudi Arabia",
          "Senegal",
          "Sierra Leone",
          "Solomon Islands",
          "Somalia",
          "South Africa",
          "South Asia",
          "South Asia",
          "South Asia",
          "South Asia",
          "South Asia",
          "South Asia",
          "South Asia",
          "South Asia",
          "South Asia",
          "South Asia",
          "South Asia",
          "South Asia",
          "South Asia",
          "South Asia",
          "South Asia",
          "South Asia",
          "South Asia",
          "South Asia",
          "South Asia",
          "South Asia",
          "South Asia",
          "South Asia",
          "South Asia",
          "South Asia",
          "South Asia",
          "South Asia",
          "South Asia",
          "South Asia",
          "South Asia",
          "South Asia",
          "South Asia",
          "South Asia",
          "South Korea",
          "South Sudan",
          "Sri Lanka",
          "Sub-Saharan Africa",
          "Sub-Saharan Africa",
          "Sub-Saharan Africa",
          "Sub-Saharan Africa",
          "Sub-Saharan Africa",
          "Sub-Saharan Africa",
          "Sub-Saharan Africa",
          "Sub-Saharan Africa",
          "Sub-Saharan Africa",
          "Sub-Saharan Africa",
          "Sub-Saharan Africa",
          "Sub-Saharan Africa",
          "Sub-Saharan Africa",
          "Sub-Saharan Africa",
          "Sub-Saharan Africa",
          "Sub-Saharan Africa",
          "Sub-Saharan Africa",
          "Sub-Saharan Africa",
          "Sub-Saharan Africa",
          "Sub-Saharan Africa",
          "Sub-Saharan Africa",
          "Sub-Saharan Africa",
          "Sub-Saharan Africa",
          "Sub-Saharan Africa",
          "Sub-Saharan Africa",
          "Sub-Saharan Africa",
          "Sub-Saharan Africa",
          "Sub-Saharan Africa",
          "Sub-Saharan Africa",
          "Sub-Saharan Africa",
          "Sub-Saharan Africa",
          "Sub-Saharan Africa",
          "Sudan",
          "Suriname",
          "Swaziland",
          "Tajikistan",
          "Tanzania",
          "Thailand",
          "Timor",
          "Togo",
          "Turkey",
          "Uganda",
          "Uzbekistan",
          "Vanuatu",
          "Venezuela",
          "Vietnam",
          "Yemen",
          "Zambia",
          "Zimbabwe",
          "Afghanistan",
          "Algeria",
          "Angola",
          "Argentina",
          "Azerbaijan",
          "Bangladesh",
          "Belize",
          "Benin",
          "Bhutan",
          "Bolivia",
          "Botswana",
          "Brazil",
          "Burkina Faso",
          "Burundi",
          "Cambodia",
          "Cameroon",
          "Cape Verde",
          "Central African Republic",
          "Chad",
          "China",
          "Colombia",
          "Comoros",
          "Congo",
          "Costa Rica",
          "Cote d'Ivoire",
          "Democratic Republic of Congo",
          "Djibouti",
          "Dominican Republic",
          "Ecuador",
          "El Salvador",
          "Equatorial Guinea",
          "Eritrea",
          "Ethiopia",
          "Gabon",
          "Gambia",
          "Georgia",
          "Ghana",
          "Guatemala",
          "Guinea",
          "Guinea-Bissau",
          "Guyana",
          "Haiti",
          "Honduras",
          "India",
          "Indonesia",
          "Iran",
          "Iraq",
          "Kenya",
          "Kyrgyzstan",
          "Laos",
          "Liberia",
          "Madagascar",
          "Malawi",
          "Malaysia",
          "Mali",
          "Mauritania",
          "Mexico",
          "Mozambique",
          "Myanmar",
          "Namibia",
          "Nepal",
          "Nicaragua",
          "Niger",
          "Nigeria",
          "North Korea",
          "Pakistan",
          "Panama",
          "Papua New Guinea",
          "Paraguay",
          "Peru",
          "Philippines",
          "Rwanda",
          "Sao Tome and Principe",
          "Saudi Arabia",
          "Senegal",
          "Sierra Leone",
          "Solomon Islands",
          "Somalia",
          "South Africa",
          "South Asia",
          "South Asia",
          "South Asia",
          "South Asia",
          "South Asia",
          "South Asia",
          "South Asia",
          "South Asia",
          "South Asia",
          "South Asia",
          "South Asia",
          "South Asia",
          "South Asia",
          "South Asia",
          "South Asia",
          "South Asia",
          "South Asia",
          "South Asia",
          "South Asia",
          "South Asia",
          "South Asia",
          "South Asia",
          "South Asia",
          "South Asia",
          "South Asia",
          "South Asia",
          "South Asia",
          "South Asia",
          "South Asia",
          "South Asia",
          "South Asia",
          "South Asia",
          "South Korea",
          "South Sudan",
          "Sri Lanka",
          "Sub-Saharan Africa",
          "Sub-Saharan Africa",
          "Sub-Saharan Africa",
          "Sub-Saharan Africa",
          "Sub-Saharan Africa",
          "Sub-Saharan Africa",
          "Sub-Saharan Africa",
          "Sub-Saharan Africa",
          "Sub-Saharan Africa",
          "Sub-Saharan Africa",
          "Sub-Saharan Africa",
          "Sub-Saharan Africa",
          "Sub-Saharan Africa",
          "Sub-Saharan Africa",
          "Sub-Saharan Africa",
          "Sub-Saharan Africa",
          "Sub-Saharan Africa",
          "Sub-Saharan Africa",
          "Sub-Saharan Africa",
          "Sub-Saharan Africa",
          "Sub-Saharan Africa",
          "Sub-Saharan Africa",
          "Sub-Saharan Africa",
          "Sub-Saharan Africa",
          "Sub-Saharan Africa",
          "Sub-Saharan Africa",
          "Sub-Saharan Africa",
          "Sub-Saharan Africa",
          "Sub-Saharan Africa",
          "Sub-Saharan Africa",
          "Sub-Saharan Africa",
          "Sub-Saharan Africa",
          "Sudan",
          "Suriname",
          "Swaziland",
          "Tajikistan",
          "Tanzania",
          "Thailand",
          "Timor",
          "Togo",
          "Turkey",
          "Uganda",
          "Uzbekistan",
          "Vanuatu",
          "Venezuela",
          "Vietnam",
          "Yemen",
          "Zambia",
          "Zimbabwe"
         ],
         "text": [
          "AFG",
          "DZA",
          "AGO",
          "ARG",
          "AZE",
          "BGD",
          "BLZ",
          "BEN",
          "BTN",
          "BOL",
          "BWA",
          "BRA",
          "BFA",
          "BDI",
          "KHM",
          "CMR",
          "CPV",
          "CAF",
          "TCD",
          "CHN",
          "COL",
          "COM",
          "COG",
          "CRI",
          "CIV",
          "COD",
          "DJI",
          "DOM",
          "ECU",
          "SLV",
          "GNQ",
          "ERI",
          "ETH",
          "GAB",
          "GMB",
          "GEO",
          "GHA",
          "GTM",
          "GIN",
          "GNB",
          "GUY",
          "HTI",
          "HND",
          "IND",
          "IDN",
          "IRN",
          "IRQ",
          "KEN",
          "KGZ",
          "LAO",
          "LBR",
          "MDG",
          "MWI",
          "MYS",
          "MLI",
          "MRT",
          "MEX",
          "MOZ",
          "MMR",
          "NAM",
          "NPL",
          "NIC",
          "NER",
          "NGA",
          "PRK",
          "PAK",
          "PAN",
          "PNG",
          "PRY",
          "PER",
          "PHL",
          "RWA",
          "STP",
          "SAU",
          "SEN",
          "SLE",
          "SLB",
          "SOM",
          "ZAF",
          null,
          null,
          null,
          null,
          null,
          null,
          null,
          null,
          null,
          null,
          null,
          null,
          null,
          null,
          null,
          null,
          null,
          null,
          null,
          null,
          null,
          null,
          null,
          null,
          null,
          null,
          null,
          null,
          null,
          null,
          null,
          null,
          "KOR",
          "SSD",
          "LKA",
          null,
          null,
          null,
          null,
          null,
          null,
          null,
          null,
          null,
          null,
          null,
          null,
          null,
          null,
          null,
          null,
          null,
          null,
          null,
          null,
          null,
          null,
          null,
          null,
          null,
          null,
          null,
          null,
          null,
          null,
          null,
          null,
          "SDN",
          "SUR",
          "SWZ",
          "TJK",
          "TZA",
          "THA",
          "TLS",
          "TGO",
          "TUR",
          "UGA",
          "UZB",
          "VUT",
          "VEN",
          "VNM",
          "YEM",
          "ZMB",
          "ZWE",
          "AFG",
          "DZA",
          "AGO",
          "ARG",
          "AZE",
          "BGD",
          "BLZ",
          "BEN",
          "BTN",
          "BOL",
          "BWA",
          "BRA",
          "BFA",
          "BDI",
          "KHM",
          "CMR",
          "CPV",
          "CAF",
          "TCD",
          "CHN",
          "COL",
          "COM",
          "COG",
          "CRI",
          "CIV",
          "COD",
          "DJI",
          "DOM",
          "ECU",
          "SLV",
          "GNQ",
          "ERI",
          "ETH",
          "GAB",
          "GMB",
          "GEO",
          "GHA",
          "GTM",
          "GIN",
          "GNB",
          "GUY",
          "HTI",
          "HND",
          "IND",
          "IDN",
          "IRN",
          "IRQ",
          "KEN",
          "KGZ",
          "LAO",
          "LBR",
          "MDG",
          "MWI",
          "MYS",
          "MLI",
          "MRT",
          "MEX",
          "MOZ",
          "MMR",
          "NAM",
          "NPL",
          "NIC",
          "NER",
          "NGA",
          "PRK",
          "PAK",
          "PAN",
          "PNG",
          "PRY",
          "PER",
          "PHL",
          "RWA",
          "STP",
          "SAU",
          "SEN",
          "SLE",
          "SLB",
          "SOM",
          "ZAF",
          null,
          null,
          null,
          null,
          null,
          null,
          null,
          null,
          null,
          null,
          null,
          null,
          null,
          null,
          null,
          null,
          null,
          null,
          null,
          null,
          null,
          null,
          null,
          null,
          null,
          null,
          null,
          null,
          null,
          null,
          null,
          null,
          "KOR",
          "SSD",
          "LKA",
          null,
          null,
          null,
          null,
          null,
          null,
          null,
          null,
          null,
          null,
          null,
          null,
          null,
          null,
          null,
          null,
          null,
          null,
          null,
          null,
          null,
          null,
          null,
          null,
          null,
          null,
          null,
          null,
          null,
          null,
          null,
          null,
          "SDN",
          "SUR",
          "SWZ",
          "TJK",
          "TZA",
          "THA",
          "TLS",
          "TGO",
          "TUR",
          "UGA",
          "UZB",
          "VUT",
          "VEN",
          "VNM",
          "YEM",
          "ZMB",
          "ZWE",
          "AFG",
          "DZA",
          "AGO",
          "ARG",
          "AZE",
          "BGD",
          "BLZ",
          "BEN",
          "BTN",
          "BOL",
          "BWA",
          "BRA",
          "BFA",
          "BDI",
          "KHM",
          "CMR",
          "CPV",
          "CAF",
          "TCD",
          "CHN",
          "COL",
          "COM",
          "COG",
          "CRI",
          "CIV",
          "COD",
          "DJI",
          "DOM",
          "ECU",
          "SLV",
          "GNQ",
          "ERI",
          "ETH",
          "GAB",
          "GMB",
          "GEO",
          "GHA",
          "GTM",
          "GIN",
          "GNB",
          "GUY",
          "HTI",
          "HND",
          "IND",
          "IDN",
          "IRN",
          "IRQ",
          "KEN",
          "KGZ",
          "LAO",
          "LBR",
          "MDG",
          "MWI",
          "MYS",
          "MLI",
          "MRT",
          "MEX",
          "MOZ",
          "MMR",
          "NAM",
          "NPL",
          "NIC",
          "NER",
          "NGA",
          "PRK",
          "PAK",
          "PAN",
          "PNG",
          "PRY",
          "PER",
          "PHL",
          "RWA",
          "STP",
          "SAU",
          "SEN",
          "SLE",
          "SLB",
          "SOM",
          "ZAF",
          null,
          null,
          null,
          null,
          null,
          null,
          null,
          null,
          null,
          null,
          null,
          null,
          null,
          null,
          null,
          null,
          null,
          null,
          null,
          null,
          null,
          null,
          null,
          null,
          null,
          null,
          null,
          null,
          null,
          null,
          null,
          null,
          "KOR",
          "SSD",
          "LKA",
          null,
          null,
          null,
          null,
          null,
          null,
          null,
          null,
          null,
          null,
          null,
          null,
          null,
          null,
          null,
          null,
          null,
          null,
          null,
          null,
          null,
          null,
          null,
          null,
          null,
          null,
          null,
          null,
          null,
          null,
          null,
          null,
          "SDN",
          "SUR",
          "SWZ",
          "TJK",
          "TZA",
          "THA",
          "TLS",
          "TGO",
          "TUR",
          "UGA",
          "UZB",
          "VUT",
          "VEN",
          "VNM",
          "YEM",
          "ZMB",
          "ZWE",
          "AFG",
          "DZA",
          "AGO",
          "ARG",
          "AZE",
          "BGD",
          "BLZ",
          "BEN",
          "BTN",
          "BOL",
          "BWA",
          "BRA",
          "BFA",
          "BDI",
          "KHM",
          "CMR",
          "CPV",
          "CAF",
          "TCD",
          "CHN",
          "COL",
          "COM",
          "COG",
          "CRI",
          "CIV",
          "COD",
          "DJI",
          "DOM",
          "ECU",
          "SLV",
          "GNQ",
          "ERI",
          "ETH",
          "GAB",
          "GMB",
          "GEO",
          "GHA",
          "GTM",
          "GIN",
          "GNB",
          "GUY",
          "HTI",
          "HND",
          "IND",
          "IDN",
          "IRN",
          "IRQ",
          "KEN",
          "KGZ",
          "LAO",
          "LBR",
          "MDG",
          "MWI",
          "MYS",
          "MLI",
          "MRT",
          "MEX",
          "MOZ",
          "MMR",
          "NAM",
          "NPL",
          "NIC",
          "NER",
          "NGA",
          "PRK",
          "PAK",
          "PAN",
          "PNG",
          "PRY",
          "PER",
          "PHL",
          "RWA",
          "STP",
          "SAU",
          "SEN",
          "SLE",
          "SLB",
          "SOM",
          "ZAF",
          null,
          null,
          null,
          null,
          null,
          null,
          null,
          null,
          null,
          null,
          null,
          null,
          null,
          null,
          null,
          null,
          null,
          null,
          null,
          null,
          null,
          null,
          null,
          null,
          null,
          null,
          null,
          null,
          null,
          null,
          null,
          null,
          "KOR",
          "SSD",
          "LKA",
          null,
          null,
          null,
          null,
          null,
          null,
          null,
          null,
          null,
          null,
          null,
          null,
          null,
          null,
          null,
          null,
          null,
          null,
          null,
          null,
          null,
          null,
          null,
          null,
          null,
          null,
          null,
          null,
          null,
          null,
          null,
          null,
          "SDN",
          "SUR",
          "SWZ",
          "TJK",
          "TZA",
          "THA",
          "TLS",
          "TGO",
          "TUR",
          "UGA",
          "UZB",
          "VUT",
          "VEN",
          "VNM",
          "YEM",
          "ZMB",
          "ZWE",
          "AFG",
          "DZA",
          "AGO",
          "ARG",
          "AZE",
          "BGD",
          "BLZ",
          "BEN",
          "BTN",
          "BOL",
          "BWA",
          "BRA",
          "BFA",
          "BDI",
          "KHM",
          "CMR",
          "CPV",
          "CAF",
          "TCD",
          "CHN",
          "COL",
          "COM",
          "COG",
          "CRI",
          "CIV",
          "COD",
          "DJI",
          "DOM",
          "ECU",
          "SLV",
          "GNQ",
          "ERI",
          "ETH",
          "GAB",
          "GMB",
          "GEO",
          "GHA",
          "GTM",
          "GIN",
          "GNB",
          "GUY",
          "HTI",
          "HND",
          "IND",
          "IDN",
          "IRN",
          "IRQ",
          "KEN",
          "KGZ",
          "LAO",
          "LBR",
          "MDG",
          "MWI",
          "MYS",
          "MLI",
          "MRT",
          "MEX",
          "MOZ",
          "MMR",
          "NAM",
          "NPL",
          "NIC",
          "NER",
          "NGA",
          "PRK",
          "PAK",
          "PAN",
          "PNG",
          "PRY",
          "PER",
          "PHL",
          "RWA",
          "STP",
          "SAU",
          "SEN",
          "SLE",
          "SLB",
          "SOM",
          "ZAF",
          null,
          null,
          null,
          null,
          null,
          null,
          null,
          null,
          null,
          null,
          null,
          null,
          null,
          null,
          null,
          null,
          null,
          null,
          null,
          null,
          null,
          null,
          null,
          null,
          null,
          null,
          null,
          null,
          null,
          null,
          null,
          null,
          "KOR",
          "SSD",
          "LKA",
          null,
          null,
          null,
          null,
          null,
          null,
          null,
          null,
          null,
          null,
          null,
          null,
          null,
          null,
          null,
          null,
          null,
          null,
          null,
          null,
          null,
          null,
          null,
          null,
          null,
          null,
          null,
          null,
          null,
          null,
          null,
          null,
          "SDN",
          "SUR",
          "SWZ",
          "TJK",
          "TZA",
          "THA",
          "TLS",
          "TGO",
          "TUR",
          "UGA",
          "UZB",
          "VUT",
          "VEN",
          "VNM",
          "YEM",
          "ZMB",
          "ZWE"
         ],
         "type": "choropleth",
         "z": [
          23.6,
          0.00190354202026867,
          124,
          0,
          0,
          0.8,
          0.1,
          293.7,
          0.1,
          3.9,
          0.9,
          7.9,
          389.2,
          126.3,
          13,
          264.2,
          0.2,
          289.5,
          163.2,
          0.000158545166126994,
          12.3,
          5,
          173.3,
          0,
          348.8,
          246,
          25.4,
          0.3,
          0.1,
          0.00527115320815338,
          215.1,
          14.5,
          58.6,
          232.4,
          208.8,
          0,
          266.4,
          1.4,
          367.8,
          89.3,
          40.7,
          8.4,
          2.6,
          18.6,
          26.1,
          0.5,
          0,
          166,
          0,
          20.9,
          246.2,
          104.2,
          188.8,
          1.9,
          448.6,
          74.2,
          0.2,
          297.7,
          11.8,
          14,
          3.3,
          2.9,
          356.5,
          380.8,
          1,
          8.6,
          3.7,
          122.2,
          0,
          21.2,
          0.4,
          301.3,
          17.8,
          0.1,
          97.6,
          302.8,
          67,
          85.5,
          3.1,
          16.8640529666416,
          16.8640529666416,
          16.8640529666416,
          16.8640529666416,
          16.8640529666416,
          16.8640529666416,
          16.8640529666416,
          16.8640529666416,
          16.8640529666416,
          16.8640529666416,
          16.8640529666416,
          16.8640529666416,
          16.8640529666416,
          16.8640529666416,
          16.8640529666416,
          16.8640529666416,
          16.8640529666416,
          16.8640529666416,
          16.8640529666416,
          16.8640529666416,
          16.8640529666416,
          16.8640529666416,
          16.8640529666416,
          16.8640529666416,
          16.8640529666416,
          16.8640529666416,
          16.8640529666416,
          16.8640529666416,
          16.8640529666416,
          16.8640529666416,
          16.8640529666416,
          16.8640529666416,
          0.8,
          156,
          0,
          234.292104885826,
          234.292104885826,
          234.292104885826,
          234.292104885826,
          234.292104885826,
          234.292104885826,
          234.292104885826,
          234.292104885826,
          234.292104885826,
          234.292104885826,
          234.292104885826,
          234.292104885826,
          234.292104885826,
          234.292104885826,
          234.292104885826,
          234.292104885826,
          234.292104885826,
          234.292104885826,
          234.292104885826,
          234.292104885826,
          234.292104885826,
          234.292104885826,
          234.292104885826,
          234.292104885826,
          234.292104885826,
          234.292104885826,
          234.292104885826,
          234.292104885826,
          234.292104885826,
          234.292104885826,
          234.292104885826,
          234.292104885826,
          36.6,
          1.7,
          1.4,
          0,
          113.9,
          2.7,
          0.2,
          345.1,
          0,
          218.3,
          0,
          3.3,
          68.4,
          0.3,
          22.2,
          173.7,
          114.2,
          23.6,
          0.00190354202026867,
          124,
          0,
          0,
          0.8,
          0.1,
          293.7,
          0.1,
          3.9,
          0.9,
          7.9,
          389.2,
          126.3,
          13,
          264.2,
          0.2,
          289.5,
          163.2,
          0.000158545166126994,
          12.3,
          5,
          173.3,
          0,
          348.8,
          246,
          25.4,
          0.3,
          0.1,
          0.00527115320815338,
          215.1,
          14.5,
          58.6,
          232.4,
          208.8,
          0,
          266.4,
          1.4,
          367.8,
          89.3,
          40.7,
          8.4,
          2.6,
          18.6,
          26.1,
          0.5,
          0,
          166,
          0,
          20.9,
          246.2,
          104.2,
          188.8,
          1.9,
          448.6,
          74.2,
          0.2,
          297.7,
          11.8,
          14,
          3.3,
          2.9,
          356.5,
          380.8,
          1,
          8.6,
          3.7,
          122.2,
          0,
          21.2,
          0.4,
          301.3,
          17.8,
          0.1,
          97.6,
          302.8,
          67,
          85.5,
          3.1,
          16.8640529666416,
          16.8640529666416,
          16.8640529666416,
          16.8640529666416,
          16.8640529666416,
          16.8640529666416,
          16.8640529666416,
          16.8640529666416,
          16.8640529666416,
          16.8640529666416,
          16.8640529666416,
          16.8640529666416,
          16.8640529666416,
          16.8640529666416,
          16.8640529666416,
          16.8640529666416,
          16.8640529666416,
          16.8640529666416,
          16.8640529666416,
          16.8640529666416,
          16.8640529666416,
          16.8640529666416,
          16.8640529666416,
          16.8640529666416,
          16.8640529666416,
          16.8640529666416,
          16.8640529666416,
          16.8640529666416,
          16.8640529666416,
          16.8640529666416,
          16.8640529666416,
          16.8640529666416,
          0.8,
          156,
          0,
          234.292104885826,
          234.292104885826,
          234.292104885826,
          234.292104885826,
          234.292104885826,
          234.292104885826,
          234.292104885826,
          234.292104885826,
          234.292104885826,
          234.292104885826,
          234.292104885826,
          234.292104885826,
          234.292104885826,
          234.292104885826,
          234.292104885826,
          234.292104885826,
          234.292104885826,
          234.292104885826,
          234.292104885826,
          234.292104885826,
          234.292104885826,
          234.292104885826,
          234.292104885826,
          234.292104885826,
          234.292104885826,
          234.292104885826,
          234.292104885826,
          234.292104885826,
          234.292104885826,
          234.292104885826,
          234.292104885826,
          234.292104885826,
          36.6,
          1.7,
          1.4,
          0,
          113.9,
          2.7,
          0.2,
          345.1,
          0,
          218.3,
          0,
          3.3,
          68.4,
          0.3,
          22.2,
          173.7,
          114.2,
          23.6,
          0.00190354202026867,
          124,
          0,
          0,
          0.8,
          0.1,
          293.7,
          0.1,
          3.9,
          0.9,
          7.9,
          389.2,
          126.3,
          13,
          264.2,
          0.2,
          289.5,
          163.2,
          0.000158545166126994,
          12.3,
          5,
          173.3,
          0,
          348.8,
          246,
          25.4,
          0.3,
          0.1,
          0.00527115320815338,
          215.1,
          14.5,
          58.6,
          232.4,
          208.8,
          0,
          266.4,
          1.4,
          367.8,
          89.3,
          40.7,
          8.4,
          2.6,
          18.6,
          26.1,
          0.5,
          0,
          166,
          0,
          20.9,
          246.2,
          104.2,
          188.8,
          1.9,
          448.6,
          74.2,
          0.2,
          297.7,
          11.8,
          14,
          3.3,
          2.9,
          356.5,
          380.8,
          1,
          8.6,
          3.7,
          122.2,
          0,
          21.2,
          0.4,
          301.3,
          17.8,
          0.1,
          97.6,
          302.8,
          67,
          85.5,
          3.1,
          16.8640529666416,
          16.8640529666416,
          16.8640529666416,
          16.8640529666416,
          16.8640529666416,
          16.8640529666416,
          16.8640529666416,
          16.8640529666416,
          16.8640529666416,
          16.8640529666416,
          16.8640529666416,
          16.8640529666416,
          16.8640529666416,
          16.8640529666416,
          16.8640529666416,
          16.8640529666416,
          16.8640529666416,
          16.8640529666416,
          16.8640529666416,
          16.8640529666416,
          16.8640529666416,
          16.8640529666416,
          16.8640529666416,
          16.8640529666416,
          16.8640529666416,
          16.8640529666416,
          16.8640529666416,
          16.8640529666416,
          16.8640529666416,
          16.8640529666416,
          16.8640529666416,
          16.8640529666416,
          0.8,
          156,
          0,
          234.292104885826,
          234.292104885826,
          234.292104885826,
          234.292104885826,
          234.292104885826,
          234.292104885826,
          234.292104885826,
          234.292104885826,
          234.292104885826,
          234.292104885826,
          234.292104885826,
          234.292104885826,
          234.292104885826,
          234.292104885826,
          234.292104885826,
          234.292104885826,
          234.292104885826,
          234.292104885826,
          234.292104885826,
          234.292104885826,
          234.292104885826,
          234.292104885826,
          234.292104885826,
          234.292104885826,
          234.292104885826,
          234.292104885826,
          234.292104885826,
          234.292104885826,
          234.292104885826,
          234.292104885826,
          234.292104885826,
          234.292104885826,
          36.6,
          1.7,
          1.4,
          0,
          113.9,
          2.7,
          0.2,
          345.1,
          0,
          218.3,
          0,
          3.3,
          68.4,
          0.3,
          22.2,
          173.7,
          114.2,
          23.6,
          0.00190354202026867,
          124,
          0,
          0,
          0.8,
          0.1,
          293.7,
          0.1,
          3.9,
          0.9,
          7.9,
          389.2,
          126.3,
          13,
          264.2,
          0.2,
          289.5,
          163.2,
          0.000158545166126994,
          12.3,
          5,
          173.3,
          0,
          348.8,
          246,
          25.4,
          0.3,
          0.1,
          0.00527115320815338,
          215.1,
          14.5,
          58.6,
          232.4,
          208.8,
          0,
          266.4,
          1.4,
          367.8,
          89.3,
          40.7,
          8.4,
          2.6,
          18.6,
          26.1,
          0.5,
          0,
          166,
          0,
          20.9,
          246.2,
          104.2,
          188.8,
          1.9,
          448.6,
          74.2,
          0.2,
          297.7,
          11.8,
          14,
          3.3,
          2.9,
          356.5,
          380.8,
          1,
          8.6,
          3.7,
          122.2,
          0,
          21.2,
          0.4,
          301.3,
          17.8,
          0.1,
          97.6,
          302.8,
          67,
          85.5,
          3.1,
          16.8640529666416,
          16.8640529666416,
          16.8640529666416,
          16.8640529666416,
          16.8640529666416,
          16.8640529666416,
          16.8640529666416,
          16.8640529666416,
          16.8640529666416,
          16.8640529666416,
          16.8640529666416,
          16.8640529666416,
          16.8640529666416,
          16.8640529666416,
          16.8640529666416,
          16.8640529666416,
          16.8640529666416,
          16.8640529666416,
          16.8640529666416,
          16.8640529666416,
          16.8640529666416,
          16.8640529666416,
          16.8640529666416,
          16.8640529666416,
          16.8640529666416,
          16.8640529666416,
          16.8640529666416,
          16.8640529666416,
          16.8640529666416,
          16.8640529666416,
          16.8640529666416,
          16.8640529666416,
          0.8,
          156,
          0,
          234.292104885826,
          234.292104885826,
          234.292104885826,
          234.292104885826,
          234.292104885826,
          234.292104885826,
          234.292104885826,
          234.292104885826,
          234.292104885826,
          234.292104885826,
          234.292104885826,
          234.292104885826,
          234.292104885826,
          234.292104885826,
          234.292104885826,
          234.292104885826,
          234.292104885826,
          234.292104885826,
          234.292104885826,
          234.292104885826,
          234.292104885826,
          234.292104885826,
          234.292104885826,
          234.292104885826,
          234.292104885826,
          234.292104885826,
          234.292104885826,
          234.292104885826,
          234.292104885826,
          234.292104885826,
          234.292104885826,
          234.292104885826,
          36.6,
          1.7,
          1.4,
          0,
          113.9,
          2.7,
          0.2,
          345.1,
          0,
          218.3,
          0,
          3.3,
          68.4,
          0.3,
          22.2,
          173.7,
          114.2,
          23.6,
          0.00190354202026867,
          124,
          0,
          0,
          0.8,
          0.1,
          293.7,
          0.1,
          3.9,
          0.9,
          7.9,
          389.2,
          126.3,
          13,
          264.2,
          0.2,
          289.5,
          163.2,
          0.000158545166126994,
          12.3,
          5,
          173.3,
          0,
          348.8,
          246,
          25.4,
          0.3,
          0.1,
          0.00527115320815338,
          215.1,
          14.5,
          58.6,
          232.4,
          208.8,
          0,
          266.4,
          1.4,
          367.8,
          89.3,
          40.7,
          8.4,
          2.6,
          18.6,
          26.1,
          0.5,
          0,
          166,
          0,
          20.9,
          246.2,
          104.2,
          188.8,
          1.9,
          448.6,
          74.2,
          0.2,
          297.7,
          11.8,
          14,
          3.3,
          2.9,
          356.5,
          380.8,
          1,
          8.6,
          3.7,
          122.2,
          0,
          21.2,
          0.4,
          301.3,
          17.8,
          0.1,
          97.6,
          302.8,
          67,
          85.5,
          3.1,
          16.8640529666416,
          16.8640529666416,
          16.8640529666416,
          16.8640529666416,
          16.8640529666416,
          16.8640529666416,
          16.8640529666416,
          16.8640529666416,
          16.8640529666416,
          16.8640529666416,
          16.8640529666416,
          16.8640529666416,
          16.8640529666416,
          16.8640529666416,
          16.8640529666416,
          16.8640529666416,
          16.8640529666416,
          16.8640529666416,
          16.8640529666416,
          16.8640529666416,
          16.8640529666416,
          16.8640529666416,
          16.8640529666416,
          16.8640529666416,
          16.8640529666416,
          16.8640529666416,
          16.8640529666416,
          16.8640529666416,
          16.8640529666416,
          16.8640529666416,
          16.8640529666416,
          16.8640529666416,
          0.8,
          156,
          0,
          234.292104885826,
          234.292104885826,
          234.292104885826,
          234.292104885826,
          234.292104885826,
          234.292104885826,
          234.292104885826,
          234.292104885826,
          234.292104885826,
          234.292104885826,
          234.292104885826,
          234.292104885826,
          234.292104885826,
          234.292104885826,
          234.292104885826,
          234.292104885826,
          234.292104885826,
          234.292104885826,
          234.292104885826,
          234.292104885826,
          234.292104885826,
          234.292104885826,
          234.292104885826,
          234.292104885826,
          234.292104885826,
          234.292104885826,
          234.292104885826,
          234.292104885826,
          234.292104885826,
          234.292104885826,
          234.292104885826,
          234.292104885826,
          36.6,
          1.7,
          1.4,
          0,
          113.9,
          2.7,
          0.2,
          345.1,
          0,
          218.3,
          0,
          3.3,
          68.4,
          0.3,
          22.2,
          173.7,
          114.2
         ]
        }
       ],
       "layout": {
        "geo": {
         "scope": "world"
        },
        "template": {
         "data": {
          "bar": [
           {
            "error_x": {
             "color": "#2a3f5f"
            },
            "error_y": {
             "color": "#2a3f5f"
            },
            "marker": {
             "line": {
              "color": "#E5ECF6",
              "width": 0.5
             }
            },
            "type": "bar"
           }
          ],
          "barpolar": [
           {
            "marker": {
             "line": {
              "color": "#E5ECF6",
              "width": 0.5
             }
            },
            "type": "barpolar"
           }
          ],
          "carpet": [
           {
            "aaxis": {
             "endlinecolor": "#2a3f5f",
             "gridcolor": "white",
             "linecolor": "white",
             "minorgridcolor": "white",
             "startlinecolor": "#2a3f5f"
            },
            "baxis": {
             "endlinecolor": "#2a3f5f",
             "gridcolor": "white",
             "linecolor": "white",
             "minorgridcolor": "white",
             "startlinecolor": "#2a3f5f"
            },
            "type": "carpet"
           }
          ],
          "choropleth": [
           {
            "colorbar": {
             "outlinewidth": 0,
             "ticks": ""
            },
            "type": "choropleth"
           }
          ],
          "contour": [
           {
            "colorbar": {
             "outlinewidth": 0,
             "ticks": ""
            },
            "colorscale": [
             [
              0,
              "#0d0887"
             ],
             [
              0.1111111111111111,
              "#46039f"
             ],
             [
              0.2222222222222222,
              "#7201a8"
             ],
             [
              0.3333333333333333,
              "#9c179e"
             ],
             [
              0.4444444444444444,
              "#bd3786"
             ],
             [
              0.5555555555555556,
              "#d8576b"
             ],
             [
              0.6666666666666666,
              "#ed7953"
             ],
             [
              0.7777777777777778,
              "#fb9f3a"
             ],
             [
              0.8888888888888888,
              "#fdca26"
             ],
             [
              1,
              "#f0f921"
             ]
            ],
            "type": "contour"
           }
          ],
          "contourcarpet": [
           {
            "colorbar": {
             "outlinewidth": 0,
             "ticks": ""
            },
            "type": "contourcarpet"
           }
          ],
          "heatmap": [
           {
            "colorbar": {
             "outlinewidth": 0,
             "ticks": ""
            },
            "colorscale": [
             [
              0,
              "#0d0887"
             ],
             [
              0.1111111111111111,
              "#46039f"
             ],
             [
              0.2222222222222222,
              "#7201a8"
             ],
             [
              0.3333333333333333,
              "#9c179e"
             ],
             [
              0.4444444444444444,
              "#bd3786"
             ],
             [
              0.5555555555555556,
              "#d8576b"
             ],
             [
              0.6666666666666666,
              "#ed7953"
             ],
             [
              0.7777777777777778,
              "#fb9f3a"
             ],
             [
              0.8888888888888888,
              "#fdca26"
             ],
             [
              1,
              "#f0f921"
             ]
            ],
            "type": "heatmap"
           }
          ],
          "heatmapgl": [
           {
            "colorbar": {
             "outlinewidth": 0,
             "ticks": ""
            },
            "colorscale": [
             [
              0,
              "#0d0887"
             ],
             [
              0.1111111111111111,
              "#46039f"
             ],
             [
              0.2222222222222222,
              "#7201a8"
             ],
             [
              0.3333333333333333,
              "#9c179e"
             ],
             [
              0.4444444444444444,
              "#bd3786"
             ],
             [
              0.5555555555555556,
              "#d8576b"
             ],
             [
              0.6666666666666666,
              "#ed7953"
             ],
             [
              0.7777777777777778,
              "#fb9f3a"
             ],
             [
              0.8888888888888888,
              "#fdca26"
             ],
             [
              1,
              "#f0f921"
             ]
            ],
            "type": "heatmapgl"
           }
          ],
          "histogram": [
           {
            "marker": {
             "colorbar": {
              "outlinewidth": 0,
              "ticks": ""
             }
            },
            "type": "histogram"
           }
          ],
          "histogram2d": [
           {
            "colorbar": {
             "outlinewidth": 0,
             "ticks": ""
            },
            "colorscale": [
             [
              0,
              "#0d0887"
             ],
             [
              0.1111111111111111,
              "#46039f"
             ],
             [
              0.2222222222222222,
              "#7201a8"
             ],
             [
              0.3333333333333333,
              "#9c179e"
             ],
             [
              0.4444444444444444,
              "#bd3786"
             ],
             [
              0.5555555555555556,
              "#d8576b"
             ],
             [
              0.6666666666666666,
              "#ed7953"
             ],
             [
              0.7777777777777778,
              "#fb9f3a"
             ],
             [
              0.8888888888888888,
              "#fdca26"
             ],
             [
              1,
              "#f0f921"
             ]
            ],
            "type": "histogram2d"
           }
          ],
          "histogram2dcontour": [
           {
            "colorbar": {
             "outlinewidth": 0,
             "ticks": ""
            },
            "colorscale": [
             [
              0,
              "#0d0887"
             ],
             [
              0.1111111111111111,
              "#46039f"
             ],
             [
              0.2222222222222222,
              "#7201a8"
             ],
             [
              0.3333333333333333,
              "#9c179e"
             ],
             [
              0.4444444444444444,
              "#bd3786"
             ],
             [
              0.5555555555555556,
              "#d8576b"
             ],
             [
              0.6666666666666666,
              "#ed7953"
             ],
             [
              0.7777777777777778,
              "#fb9f3a"
             ],
             [
              0.8888888888888888,
              "#fdca26"
             ],
             [
              1,
              "#f0f921"
             ]
            ],
            "type": "histogram2dcontour"
           }
          ],
          "mesh3d": [
           {
            "colorbar": {
             "outlinewidth": 0,
             "ticks": ""
            },
            "type": "mesh3d"
           }
          ],
          "parcoords": [
           {
            "line": {
             "colorbar": {
              "outlinewidth": 0,
              "ticks": ""
             }
            },
            "type": "parcoords"
           }
          ],
          "pie": [
           {
            "automargin": true,
            "type": "pie"
           }
          ],
          "scatter": [
           {
            "marker": {
             "colorbar": {
              "outlinewidth": 0,
              "ticks": ""
             }
            },
            "type": "scatter"
           }
          ],
          "scatter3d": [
           {
            "line": {
             "colorbar": {
              "outlinewidth": 0,
              "ticks": ""
             }
            },
            "marker": {
             "colorbar": {
              "outlinewidth": 0,
              "ticks": ""
             }
            },
            "type": "scatter3d"
           }
          ],
          "scattercarpet": [
           {
            "marker": {
             "colorbar": {
              "outlinewidth": 0,
              "ticks": ""
             }
            },
            "type": "scattercarpet"
           }
          ],
          "scattergeo": [
           {
            "marker": {
             "colorbar": {
              "outlinewidth": 0,
              "ticks": ""
             }
            },
            "type": "scattergeo"
           }
          ],
          "scattergl": [
           {
            "marker": {
             "colorbar": {
              "outlinewidth": 0,
              "ticks": ""
             }
            },
            "type": "scattergl"
           }
          ],
          "scattermapbox": [
           {
            "marker": {
             "colorbar": {
              "outlinewidth": 0,
              "ticks": ""
             }
            },
            "type": "scattermapbox"
           }
          ],
          "scatterpolar": [
           {
            "marker": {
             "colorbar": {
              "outlinewidth": 0,
              "ticks": ""
             }
            },
            "type": "scatterpolar"
           }
          ],
          "scatterpolargl": [
           {
            "marker": {
             "colorbar": {
              "outlinewidth": 0,
              "ticks": ""
             }
            },
            "type": "scatterpolargl"
           }
          ],
          "scatterternary": [
           {
            "marker": {
             "colorbar": {
              "outlinewidth": 0,
              "ticks": ""
             }
            },
            "type": "scatterternary"
           }
          ],
          "surface": [
           {
            "colorbar": {
             "outlinewidth": 0,
             "ticks": ""
            },
            "colorscale": [
             [
              0,
              "#0d0887"
             ],
             [
              0.1111111111111111,
              "#46039f"
             ],
             [
              0.2222222222222222,
              "#7201a8"
             ],
             [
              0.3333333333333333,
              "#9c179e"
             ],
             [
              0.4444444444444444,
              "#bd3786"
             ],
             [
              0.5555555555555556,
              "#d8576b"
             ],
             [
              0.6666666666666666,
              "#ed7953"
             ],
             [
              0.7777777777777778,
              "#fb9f3a"
             ],
             [
              0.8888888888888888,
              "#fdca26"
             ],
             [
              1,
              "#f0f921"
             ]
            ],
            "type": "surface"
           }
          ],
          "table": [
           {
            "cells": {
             "fill": {
              "color": "#EBF0F8"
             },
             "line": {
              "color": "white"
             }
            },
            "header": {
             "fill": {
              "color": "#C8D4E3"
             },
             "line": {
              "color": "white"
             }
            },
            "type": "table"
           }
          ]
         },
         "layout": {
          "annotationdefaults": {
           "arrowcolor": "#2a3f5f",
           "arrowhead": 0,
           "arrowwidth": 1
          },
          "coloraxis": {
           "colorbar": {
            "outlinewidth": 0,
            "ticks": ""
           }
          },
          "colorscale": {
           "diverging": [
            [
             0,
             "#8e0152"
            ],
            [
             0.1,
             "#c51b7d"
            ],
            [
             0.2,
             "#de77ae"
            ],
            [
             0.3,
             "#f1b6da"
            ],
            [
             0.4,
             "#fde0ef"
            ],
            [
             0.5,
             "#f7f7f7"
            ],
            [
             0.6,
             "#e6f5d0"
            ],
            [
             0.7,
             "#b8e186"
            ],
            [
             0.8,
             "#7fbc41"
            ],
            [
             0.9,
             "#4d9221"
            ],
            [
             1,
             "#276419"
            ]
           ],
           "sequential": [
            [
             0,
             "#0d0887"
            ],
            [
             0.1111111111111111,
             "#46039f"
            ],
            [
             0.2222222222222222,
             "#7201a8"
            ],
            [
             0.3333333333333333,
             "#9c179e"
            ],
            [
             0.4444444444444444,
             "#bd3786"
            ],
            [
             0.5555555555555556,
             "#d8576b"
            ],
            [
             0.6666666666666666,
             "#ed7953"
            ],
            [
             0.7777777777777778,
             "#fb9f3a"
            ],
            [
             0.8888888888888888,
             "#fdca26"
            ],
            [
             1,
             "#f0f921"
            ]
           ],
           "sequentialminus": [
            [
             0,
             "#0d0887"
            ],
            [
             0.1111111111111111,
             "#46039f"
            ],
            [
             0.2222222222222222,
             "#7201a8"
            ],
            [
             0.3333333333333333,
             "#9c179e"
            ],
            [
             0.4444444444444444,
             "#bd3786"
            ],
            [
             0.5555555555555556,
             "#d8576b"
            ],
            [
             0.6666666666666666,
             "#ed7953"
            ],
            [
             0.7777777777777778,
             "#fb9f3a"
            ],
            [
             0.8888888888888888,
             "#fdca26"
            ],
            [
             1,
             "#f0f921"
            ]
           ]
          },
          "colorway": [
           "#636efa",
           "#EF553B",
           "#00cc96",
           "#ab63fa",
           "#FFA15A",
           "#19d3f3",
           "#FF6692",
           "#B6E880",
           "#FF97FF",
           "#FECB52"
          ],
          "font": {
           "color": "#2a3f5f"
          },
          "geo": {
           "bgcolor": "white",
           "lakecolor": "white",
           "landcolor": "#E5ECF6",
           "showlakes": true,
           "showland": true,
           "subunitcolor": "white"
          },
          "hoverlabel": {
           "align": "left"
          },
          "hovermode": "closest",
          "mapbox": {
           "style": "light"
          },
          "paper_bgcolor": "white",
          "plot_bgcolor": "#E5ECF6",
          "polar": {
           "angularaxis": {
            "gridcolor": "white",
            "linecolor": "white",
            "ticks": ""
           },
           "bgcolor": "#E5ECF6",
           "radialaxis": {
            "gridcolor": "white",
            "linecolor": "white",
            "ticks": ""
           }
          },
          "scene": {
           "xaxis": {
            "backgroundcolor": "#E5ECF6",
            "gridcolor": "white",
            "gridwidth": 2,
            "linecolor": "white",
            "showbackground": true,
            "ticks": "",
            "zerolinecolor": "white"
           },
           "yaxis": {
            "backgroundcolor": "#E5ECF6",
            "gridcolor": "white",
            "gridwidth": 2,
            "linecolor": "white",
            "showbackground": true,
            "ticks": "",
            "zerolinecolor": "white"
           },
           "zaxis": {
            "backgroundcolor": "#E5ECF6",
            "gridcolor": "white",
            "gridwidth": 2,
            "linecolor": "white",
            "showbackground": true,
            "ticks": "",
            "zerolinecolor": "white"
           }
          },
          "shapedefaults": {
           "line": {
            "color": "#2a3f5f"
           }
          },
          "ternary": {
           "aaxis": {
            "gridcolor": "white",
            "linecolor": "white",
            "ticks": ""
           },
           "baxis": {
            "gridcolor": "white",
            "linecolor": "white",
            "ticks": ""
           },
           "bgcolor": "#E5ECF6",
           "caxis": {
            "gridcolor": "white",
            "linecolor": "white",
            "ticks": ""
           }
          },
          "title": {
           "x": 0.05
          },
          "xaxis": {
           "automargin": true,
           "gridcolor": "white",
           "linecolor": "white",
           "ticks": "",
           "title": {
            "standoff": 15
           },
           "zerolinecolor": "white",
           "zerolinewidth": 2
          },
          "yaxis": {
           "automargin": true,
           "gridcolor": "white",
           "linecolor": "white",
           "ticks": "",
           "title": {
            "standoff": 15
           },
           "zerolinecolor": "white",
           "zerolinewidth": 2
          }
         }
        }
       }
      },
      "text/html": [
       "<div>                            <div id=\"972856de-685f-4ec3-988a-7d2f5da5db09\" class=\"plotly-graph-div\" style=\"height:525px; width:100%;\"></div>            <script type=\"text/javascript\">                require([\"plotly\"], function(Plotly) {                    window.PLOTLYENV=window.PLOTLYENV || {};                                    if (document.getElementById(\"972856de-685f-4ec3-988a-7d2f5da5db09\")) {                    Plotly.newPlot(                        \"972856de-685f-4ec3-988a-7d2f5da5db09\",                        [{\"colorbar\": {\"len\": 200, \"lenmode\": \"pixels\", \"title\": {\"text\": \"Incidence of Malaria\"}}, \"colorscale\": [[0.0, \"rgb(255,245,240)\"], [0.125, \"rgb(254,224,210)\"], [0.25, \"rgb(252,187,161)\"], [0.375, \"rgb(252,146,114)\"], [0.5, \"rgb(251,106,74)\"], [0.625, \"rgb(239,59,44)\"], [0.75, \"rgb(203,24,29)\"], [0.875, \"rgb(165,15,21)\"], [1.0, \"rgb(103,0,13)\"]], \"locationmode\": \"country names\", \"locations\": [\"Afghanistan\", \"Algeria\", \"Angola\", \"Argentina\", \"Azerbaijan\", \"Bangladesh\", \"Belize\", \"Benin\", \"Bhutan\", \"Bolivia\", \"Botswana\", \"Brazil\", \"Burkina Faso\", \"Burundi\", \"Cambodia\", \"Cameroon\", \"Cape Verde\", \"Central African Republic\", \"Chad\", \"China\", \"Colombia\", \"Comoros\", \"Congo\", \"Costa Rica\", \"Cote d'Ivoire\", \"Democratic Republic of Congo\", \"Djibouti\", \"Dominican Republic\", \"Ecuador\", \"El Salvador\", \"Equatorial Guinea\", \"Eritrea\", \"Ethiopia\", \"Gabon\", \"Gambia\", \"Georgia\", \"Ghana\", \"Guatemala\", \"Guinea\", \"Guinea-Bissau\", \"Guyana\", \"Haiti\", \"Honduras\", \"India\", \"Indonesia\", \"Iran\", \"Iraq\", \"Kenya\", \"Kyrgyzstan\", \"Laos\", \"Liberia\", \"Madagascar\", \"Malawi\", \"Malaysia\", \"Mali\", \"Mauritania\", \"Mexico\", \"Mozambique\", \"Myanmar\", \"Namibia\", \"Nepal\", \"Nicaragua\", \"Niger\", \"Nigeria\", \"North Korea\", \"Pakistan\", \"Panama\", \"Papua New Guinea\", \"Paraguay\", \"Peru\", \"Philippines\", \"Rwanda\", \"Sao Tome and Principe\", \"Saudi Arabia\", \"Senegal\", \"Sierra Leone\", \"Solomon Islands\", \"Somalia\", \"South Africa\", \"South Asia\", \"South Asia\", \"South Asia\", \"South Asia\", \"South Asia\", \"South Asia\", \"South Asia\", \"South Asia\", \"South Asia\", \"South Asia\", \"South Asia\", \"South Asia\", \"South Asia\", \"South Asia\", \"South Asia\", \"South Asia\", \"South Asia\", \"South Asia\", \"South Asia\", \"South Asia\", \"South Asia\", \"South Asia\", \"South Asia\", \"South Asia\", \"South Asia\", \"South Asia\", \"South Asia\", \"South Asia\", \"South Asia\", \"South Asia\", \"South Asia\", \"South Asia\", \"South Korea\", \"South Sudan\", \"Sri Lanka\", \"Sub-Saharan Africa\", \"Sub-Saharan Africa\", \"Sub-Saharan Africa\", \"Sub-Saharan Africa\", \"Sub-Saharan Africa\", \"Sub-Saharan Africa\", \"Sub-Saharan Africa\", \"Sub-Saharan Africa\", \"Sub-Saharan Africa\", \"Sub-Saharan Africa\", \"Sub-Saharan Africa\", \"Sub-Saharan Africa\", \"Sub-Saharan Africa\", \"Sub-Saharan Africa\", \"Sub-Saharan Africa\", \"Sub-Saharan Africa\", \"Sub-Saharan Africa\", \"Sub-Saharan Africa\", \"Sub-Saharan Africa\", \"Sub-Saharan Africa\", \"Sub-Saharan Africa\", \"Sub-Saharan Africa\", \"Sub-Saharan Africa\", \"Sub-Saharan Africa\", \"Sub-Saharan Africa\", \"Sub-Saharan Africa\", \"Sub-Saharan Africa\", \"Sub-Saharan Africa\", \"Sub-Saharan Africa\", \"Sub-Saharan Africa\", \"Sub-Saharan Africa\", \"Sub-Saharan Africa\", \"Sudan\", \"Suriname\", \"Swaziland\", \"Tajikistan\", \"Tanzania\", \"Thailand\", \"Timor\", \"Togo\", \"Turkey\", \"Uganda\", \"Uzbekistan\", \"Vanuatu\", \"Venezuela\", \"Vietnam\", \"Yemen\", \"Zambia\", \"Zimbabwe\", \"Afghanistan\", \"Algeria\", \"Angola\", \"Argentina\", \"Azerbaijan\", \"Bangladesh\", \"Belize\", \"Benin\", \"Bhutan\", \"Bolivia\", \"Botswana\", \"Brazil\", \"Burkina Faso\", \"Burundi\", \"Cambodia\", \"Cameroon\", \"Cape Verde\", \"Central African Republic\", \"Chad\", \"China\", \"Colombia\", \"Comoros\", \"Congo\", \"Costa Rica\", \"Cote d'Ivoire\", \"Democratic Republic of Congo\", \"Djibouti\", \"Dominican Republic\", \"Ecuador\", \"El Salvador\", \"Equatorial Guinea\", \"Eritrea\", \"Ethiopia\", \"Gabon\", \"Gambia\", \"Georgia\", \"Ghana\", \"Guatemala\", \"Guinea\", \"Guinea-Bissau\", \"Guyana\", \"Haiti\", \"Honduras\", \"India\", \"Indonesia\", \"Iran\", \"Iraq\", \"Kenya\", \"Kyrgyzstan\", \"Laos\", \"Liberia\", \"Madagascar\", \"Malawi\", \"Malaysia\", \"Mali\", \"Mauritania\", \"Mexico\", \"Mozambique\", \"Myanmar\", \"Namibia\", \"Nepal\", \"Nicaragua\", \"Niger\", \"Nigeria\", \"North Korea\", \"Pakistan\", \"Panama\", \"Papua New Guinea\", \"Paraguay\", \"Peru\", \"Philippines\", \"Rwanda\", \"Sao Tome and Principe\", \"Saudi Arabia\", \"Senegal\", \"Sierra Leone\", \"Solomon Islands\", \"Somalia\", \"South Africa\", \"South Asia\", \"South Asia\", \"South Asia\", \"South Asia\", \"South Asia\", \"South Asia\", \"South Asia\", \"South Asia\", \"South Asia\", \"South Asia\", \"South Asia\", \"South Asia\", \"South Asia\", \"South Asia\", \"South Asia\", \"South Asia\", \"South Asia\", \"South Asia\", \"South Asia\", \"South Asia\", \"South Asia\", \"South Asia\", \"South Asia\", \"South Asia\", \"South Asia\", \"South Asia\", \"South Asia\", \"South Asia\", \"South Asia\", \"South Asia\", \"South Asia\", \"South Asia\", \"South Korea\", \"South Sudan\", \"Sri Lanka\", \"Sub-Saharan Africa\", \"Sub-Saharan Africa\", \"Sub-Saharan Africa\", \"Sub-Saharan Africa\", \"Sub-Saharan Africa\", \"Sub-Saharan Africa\", \"Sub-Saharan Africa\", \"Sub-Saharan Africa\", \"Sub-Saharan Africa\", \"Sub-Saharan Africa\", \"Sub-Saharan Africa\", \"Sub-Saharan Africa\", \"Sub-Saharan Africa\", \"Sub-Saharan Africa\", \"Sub-Saharan Africa\", \"Sub-Saharan Africa\", \"Sub-Saharan Africa\", \"Sub-Saharan Africa\", \"Sub-Saharan Africa\", \"Sub-Saharan Africa\", \"Sub-Saharan Africa\", \"Sub-Saharan Africa\", \"Sub-Saharan Africa\", \"Sub-Saharan Africa\", \"Sub-Saharan Africa\", \"Sub-Saharan Africa\", \"Sub-Saharan Africa\", \"Sub-Saharan Africa\", \"Sub-Saharan Africa\", \"Sub-Saharan Africa\", \"Sub-Saharan Africa\", \"Sub-Saharan Africa\", \"Sudan\", \"Suriname\", \"Swaziland\", \"Tajikistan\", \"Tanzania\", \"Thailand\", \"Timor\", \"Togo\", \"Turkey\", \"Uganda\", \"Uzbekistan\", \"Vanuatu\", \"Venezuela\", \"Vietnam\", \"Yemen\", \"Zambia\", \"Zimbabwe\", \"Afghanistan\", \"Algeria\", \"Angola\", \"Argentina\", \"Azerbaijan\", \"Bangladesh\", \"Belize\", \"Benin\", \"Bhutan\", \"Bolivia\", \"Botswana\", \"Brazil\", \"Burkina Faso\", \"Burundi\", \"Cambodia\", \"Cameroon\", \"Cape Verde\", \"Central African Republic\", \"Chad\", \"China\", \"Colombia\", \"Comoros\", \"Congo\", \"Costa Rica\", \"Cote d'Ivoire\", \"Democratic Republic of Congo\", \"Djibouti\", \"Dominican Republic\", \"Ecuador\", \"El Salvador\", \"Equatorial Guinea\", \"Eritrea\", \"Ethiopia\", \"Gabon\", \"Gambia\", \"Georgia\", \"Ghana\", \"Guatemala\", \"Guinea\", \"Guinea-Bissau\", \"Guyana\", \"Haiti\", \"Honduras\", \"India\", \"Indonesia\", \"Iran\", \"Iraq\", \"Kenya\", \"Kyrgyzstan\", \"Laos\", \"Liberia\", \"Madagascar\", \"Malawi\", \"Malaysia\", \"Mali\", \"Mauritania\", \"Mexico\", \"Mozambique\", \"Myanmar\", \"Namibia\", \"Nepal\", \"Nicaragua\", \"Niger\", \"Nigeria\", \"North Korea\", \"Pakistan\", \"Panama\", \"Papua New Guinea\", \"Paraguay\", \"Peru\", \"Philippines\", \"Rwanda\", \"Sao Tome and Principe\", \"Saudi Arabia\", \"Senegal\", \"Sierra Leone\", \"Solomon Islands\", \"Somalia\", \"South Africa\", \"South Asia\", \"South Asia\", \"South Asia\", \"South Asia\", \"South Asia\", \"South Asia\", \"South Asia\", \"South Asia\", \"South Asia\", \"South Asia\", \"South Asia\", \"South Asia\", \"South Asia\", \"South Asia\", \"South Asia\", \"South Asia\", \"South Asia\", \"South Asia\", \"South Asia\", \"South Asia\", \"South Asia\", \"South Asia\", \"South Asia\", \"South Asia\", \"South Asia\", \"South Asia\", \"South Asia\", \"South Asia\", \"South Asia\", \"South Asia\", \"South Asia\", \"South Asia\", \"South Korea\", \"South Sudan\", \"Sri Lanka\", \"Sub-Saharan Africa\", \"Sub-Saharan Africa\", \"Sub-Saharan Africa\", \"Sub-Saharan Africa\", \"Sub-Saharan Africa\", \"Sub-Saharan Africa\", \"Sub-Saharan Africa\", \"Sub-Saharan Africa\", \"Sub-Saharan Africa\", \"Sub-Saharan Africa\", \"Sub-Saharan Africa\", \"Sub-Saharan Africa\", \"Sub-Saharan Africa\", \"Sub-Saharan Africa\", \"Sub-Saharan Africa\", \"Sub-Saharan Africa\", \"Sub-Saharan Africa\", \"Sub-Saharan Africa\", \"Sub-Saharan Africa\", \"Sub-Saharan Africa\", \"Sub-Saharan Africa\", \"Sub-Saharan Africa\", \"Sub-Saharan Africa\", \"Sub-Saharan Africa\", \"Sub-Saharan Africa\", \"Sub-Saharan Africa\", \"Sub-Saharan Africa\", \"Sub-Saharan Africa\", \"Sub-Saharan Africa\", \"Sub-Saharan Africa\", \"Sub-Saharan Africa\", \"Sub-Saharan Africa\", \"Sudan\", \"Suriname\", \"Swaziland\", \"Tajikistan\", \"Tanzania\", \"Thailand\", \"Timor\", \"Togo\", \"Turkey\", \"Uganda\", \"Uzbekistan\", \"Vanuatu\", \"Venezuela\", \"Vietnam\", \"Yemen\", \"Zambia\", \"Zimbabwe\", \"Afghanistan\", \"Algeria\", \"Angola\", \"Argentina\", \"Azerbaijan\", \"Bangladesh\", \"Belize\", \"Benin\", \"Bhutan\", \"Bolivia\", \"Botswana\", \"Brazil\", \"Burkina Faso\", \"Burundi\", \"Cambodia\", \"Cameroon\", \"Cape Verde\", \"Central African Republic\", \"Chad\", \"China\", \"Colombia\", \"Comoros\", \"Congo\", \"Costa Rica\", \"Cote d'Ivoire\", \"Democratic Republic of Congo\", \"Djibouti\", \"Dominican Republic\", \"Ecuador\", \"El Salvador\", \"Equatorial Guinea\", \"Eritrea\", \"Ethiopia\", \"Gabon\", \"Gambia\", \"Georgia\", \"Ghana\", \"Guatemala\", \"Guinea\", \"Guinea-Bissau\", \"Guyana\", \"Haiti\", \"Honduras\", \"India\", \"Indonesia\", \"Iran\", \"Iraq\", \"Kenya\", \"Kyrgyzstan\", \"Laos\", \"Liberia\", \"Madagascar\", \"Malawi\", \"Malaysia\", \"Mali\", \"Mauritania\", \"Mexico\", \"Mozambique\", \"Myanmar\", \"Namibia\", \"Nepal\", \"Nicaragua\", \"Niger\", \"Nigeria\", \"North Korea\", \"Pakistan\", \"Panama\", \"Papua New Guinea\", \"Paraguay\", \"Peru\", \"Philippines\", \"Rwanda\", \"Sao Tome and Principe\", \"Saudi Arabia\", \"Senegal\", \"Sierra Leone\", \"Solomon Islands\", \"Somalia\", \"South Africa\", \"South Asia\", \"South Asia\", \"South Asia\", \"South Asia\", \"South Asia\", \"South Asia\", \"South Asia\", \"South Asia\", \"South Asia\", \"South Asia\", \"South Asia\", \"South Asia\", \"South Asia\", \"South Asia\", \"South Asia\", \"South Asia\", \"South Asia\", \"South Asia\", \"South Asia\", \"South Asia\", \"South Asia\", \"South Asia\", \"South Asia\", \"South Asia\", \"South Asia\", \"South Asia\", \"South Asia\", \"South Asia\", \"South Asia\", \"South Asia\", \"South Asia\", \"South Asia\", \"South Korea\", \"South Sudan\", \"Sri Lanka\", \"Sub-Saharan Africa\", \"Sub-Saharan Africa\", \"Sub-Saharan Africa\", \"Sub-Saharan Africa\", \"Sub-Saharan Africa\", \"Sub-Saharan Africa\", \"Sub-Saharan Africa\", \"Sub-Saharan Africa\", \"Sub-Saharan Africa\", \"Sub-Saharan Africa\", \"Sub-Saharan Africa\", \"Sub-Saharan Africa\", \"Sub-Saharan Africa\", \"Sub-Saharan Africa\", \"Sub-Saharan Africa\", \"Sub-Saharan Africa\", \"Sub-Saharan Africa\", \"Sub-Saharan Africa\", \"Sub-Saharan Africa\", \"Sub-Saharan Africa\", \"Sub-Saharan Africa\", \"Sub-Saharan Africa\", \"Sub-Saharan Africa\", \"Sub-Saharan Africa\", \"Sub-Saharan Africa\", \"Sub-Saharan Africa\", \"Sub-Saharan Africa\", \"Sub-Saharan Africa\", \"Sub-Saharan Africa\", \"Sub-Saharan Africa\", \"Sub-Saharan Africa\", \"Sub-Saharan Africa\", \"Sudan\", \"Suriname\", \"Swaziland\", \"Tajikistan\", \"Tanzania\", \"Thailand\", \"Timor\", \"Togo\", \"Turkey\", \"Uganda\", \"Uzbekistan\", \"Vanuatu\", \"Venezuela\", \"Vietnam\", \"Yemen\", \"Zambia\", \"Zimbabwe\", \"Afghanistan\", \"Algeria\", \"Angola\", \"Argentina\", \"Azerbaijan\", \"Bangladesh\", \"Belize\", \"Benin\", \"Bhutan\", \"Bolivia\", \"Botswana\", \"Brazil\", \"Burkina Faso\", \"Burundi\", \"Cambodia\", \"Cameroon\", \"Cape Verde\", \"Central African Republic\", \"Chad\", \"China\", \"Colombia\", \"Comoros\", \"Congo\", \"Costa Rica\", \"Cote d'Ivoire\", \"Democratic Republic of Congo\", \"Djibouti\", \"Dominican Republic\", \"Ecuador\", \"El Salvador\", \"Equatorial Guinea\", \"Eritrea\", \"Ethiopia\", \"Gabon\", \"Gambia\", \"Georgia\", \"Ghana\", \"Guatemala\", \"Guinea\", \"Guinea-Bissau\", \"Guyana\", \"Haiti\", \"Honduras\", \"India\", \"Indonesia\", \"Iran\", \"Iraq\", \"Kenya\", \"Kyrgyzstan\", \"Laos\", \"Liberia\", \"Madagascar\", \"Malawi\", \"Malaysia\", \"Mali\", \"Mauritania\", \"Mexico\", \"Mozambique\", \"Myanmar\", \"Namibia\", \"Nepal\", \"Nicaragua\", \"Niger\", \"Nigeria\", \"North Korea\", \"Pakistan\", \"Panama\", \"Papua New Guinea\", \"Paraguay\", \"Peru\", \"Philippines\", \"Rwanda\", \"Sao Tome and Principe\", \"Saudi Arabia\", \"Senegal\", \"Sierra Leone\", \"Solomon Islands\", \"Somalia\", \"South Africa\", \"South Asia\", \"South Asia\", \"South Asia\", \"South Asia\", \"South Asia\", \"South Asia\", \"South Asia\", \"South Asia\", \"South Asia\", \"South Asia\", \"South Asia\", \"South Asia\", \"South Asia\", \"South Asia\", \"South Asia\", \"South Asia\", \"South Asia\", \"South Asia\", \"South Asia\", \"South Asia\", \"South Asia\", \"South Asia\", \"South Asia\", \"South Asia\", \"South Asia\", \"South Asia\", \"South Asia\", \"South Asia\", \"South Asia\", \"South Asia\", \"South Asia\", \"South Asia\", \"South Korea\", \"South Sudan\", \"Sri Lanka\", \"Sub-Saharan Africa\", \"Sub-Saharan Africa\", \"Sub-Saharan Africa\", \"Sub-Saharan Africa\", \"Sub-Saharan Africa\", \"Sub-Saharan Africa\", \"Sub-Saharan Africa\", \"Sub-Saharan Africa\", \"Sub-Saharan Africa\", \"Sub-Saharan Africa\", \"Sub-Saharan Africa\", \"Sub-Saharan Africa\", \"Sub-Saharan Africa\", \"Sub-Saharan Africa\", \"Sub-Saharan Africa\", \"Sub-Saharan Africa\", \"Sub-Saharan Africa\", \"Sub-Saharan Africa\", \"Sub-Saharan Africa\", \"Sub-Saharan Africa\", \"Sub-Saharan Africa\", \"Sub-Saharan Africa\", \"Sub-Saharan Africa\", \"Sub-Saharan Africa\", \"Sub-Saharan Africa\", \"Sub-Saharan Africa\", \"Sub-Saharan Africa\", \"Sub-Saharan Africa\", \"Sub-Saharan Africa\", \"Sub-Saharan Africa\", \"Sub-Saharan Africa\", \"Sub-Saharan Africa\", \"Sudan\", \"Suriname\", \"Swaziland\", \"Tajikistan\", \"Tanzania\", \"Thailand\", \"Timor\", \"Togo\", \"Turkey\", \"Uganda\", \"Uzbekistan\", \"Vanuatu\", \"Venezuela\", \"Vietnam\", \"Yemen\", \"Zambia\", \"Zimbabwe\"], \"text\": [\"AFG\", \"DZA\", \"AGO\", \"ARG\", \"AZE\", \"BGD\", \"BLZ\", \"BEN\", \"BTN\", \"BOL\", \"BWA\", \"BRA\", \"BFA\", \"BDI\", \"KHM\", \"CMR\", \"CPV\", \"CAF\", \"TCD\", \"CHN\", \"COL\", \"COM\", \"COG\", \"CRI\", \"CIV\", \"COD\", \"DJI\", \"DOM\", \"ECU\", \"SLV\", \"GNQ\", \"ERI\", \"ETH\", \"GAB\", \"GMB\", \"GEO\", \"GHA\", \"GTM\", \"GIN\", \"GNB\", \"GUY\", \"HTI\", \"HND\", \"IND\", \"IDN\", \"IRN\", \"IRQ\", \"KEN\", \"KGZ\", \"LAO\", \"LBR\", \"MDG\", \"MWI\", \"MYS\", \"MLI\", \"MRT\", \"MEX\", \"MOZ\", \"MMR\", \"NAM\", \"NPL\", \"NIC\", \"NER\", \"NGA\", \"PRK\", \"PAK\", \"PAN\", \"PNG\", \"PRY\", \"PER\", \"PHL\", \"RWA\", \"STP\", \"SAU\", \"SEN\", \"SLE\", \"SLB\", \"SOM\", \"ZAF\", null, null, null, null, null, null, null, null, null, null, null, null, null, null, null, null, null, null, null, null, null, null, null, null, null, null, null, null, null, null, null, null, \"KOR\", \"SSD\", \"LKA\", null, null, null, null, null, null, null, null, null, null, null, null, null, null, null, null, null, null, null, null, null, null, null, null, null, null, null, null, null, null, null, null, \"SDN\", \"SUR\", \"SWZ\", \"TJK\", \"TZA\", \"THA\", \"TLS\", \"TGO\", \"TUR\", \"UGA\", \"UZB\", \"VUT\", \"VEN\", \"VNM\", \"YEM\", \"ZMB\", \"ZWE\", \"AFG\", \"DZA\", \"AGO\", \"ARG\", \"AZE\", \"BGD\", \"BLZ\", \"BEN\", \"BTN\", \"BOL\", \"BWA\", \"BRA\", \"BFA\", \"BDI\", \"KHM\", \"CMR\", \"CPV\", \"CAF\", \"TCD\", \"CHN\", \"COL\", \"COM\", \"COG\", \"CRI\", \"CIV\", \"COD\", \"DJI\", \"DOM\", \"ECU\", \"SLV\", \"GNQ\", \"ERI\", \"ETH\", \"GAB\", \"GMB\", \"GEO\", \"GHA\", \"GTM\", \"GIN\", \"GNB\", \"GUY\", \"HTI\", \"HND\", \"IND\", \"IDN\", \"IRN\", \"IRQ\", \"KEN\", \"KGZ\", \"LAO\", \"LBR\", \"MDG\", \"MWI\", \"MYS\", \"MLI\", \"MRT\", \"MEX\", \"MOZ\", \"MMR\", \"NAM\", \"NPL\", \"NIC\", \"NER\", \"NGA\", \"PRK\", \"PAK\", \"PAN\", \"PNG\", \"PRY\", \"PER\", \"PHL\", \"RWA\", \"STP\", \"SAU\", \"SEN\", \"SLE\", \"SLB\", \"SOM\", \"ZAF\", null, null, null, null, null, null, null, null, null, null, null, null, null, null, null, null, null, null, null, null, null, null, null, null, null, null, null, null, null, null, null, null, \"KOR\", \"SSD\", \"LKA\", null, null, null, null, null, null, null, null, null, null, null, null, null, null, null, null, null, null, null, null, null, null, null, null, null, null, null, null, null, null, null, null, \"SDN\", \"SUR\", \"SWZ\", \"TJK\", \"TZA\", \"THA\", \"TLS\", \"TGO\", \"TUR\", \"UGA\", \"UZB\", \"VUT\", \"VEN\", \"VNM\", \"YEM\", \"ZMB\", \"ZWE\", \"AFG\", \"DZA\", \"AGO\", \"ARG\", \"AZE\", \"BGD\", \"BLZ\", \"BEN\", \"BTN\", \"BOL\", \"BWA\", \"BRA\", \"BFA\", \"BDI\", \"KHM\", \"CMR\", \"CPV\", \"CAF\", \"TCD\", \"CHN\", \"COL\", \"COM\", \"COG\", \"CRI\", \"CIV\", \"COD\", \"DJI\", \"DOM\", \"ECU\", \"SLV\", \"GNQ\", \"ERI\", \"ETH\", \"GAB\", \"GMB\", \"GEO\", \"GHA\", \"GTM\", \"GIN\", \"GNB\", \"GUY\", \"HTI\", \"HND\", \"IND\", \"IDN\", \"IRN\", \"IRQ\", \"KEN\", \"KGZ\", \"LAO\", \"LBR\", \"MDG\", \"MWI\", \"MYS\", \"MLI\", \"MRT\", \"MEX\", \"MOZ\", \"MMR\", \"NAM\", \"NPL\", \"NIC\", \"NER\", \"NGA\", \"PRK\", \"PAK\", \"PAN\", \"PNG\", \"PRY\", \"PER\", \"PHL\", \"RWA\", \"STP\", \"SAU\", \"SEN\", \"SLE\", \"SLB\", \"SOM\", \"ZAF\", null, null, null, null, null, null, null, null, null, null, null, null, null, null, null, null, null, null, null, null, null, null, null, null, null, null, null, null, null, null, null, null, \"KOR\", \"SSD\", \"LKA\", null, null, null, null, null, null, null, null, null, null, null, null, null, null, null, null, null, null, null, null, null, null, null, null, null, null, null, null, null, null, null, null, \"SDN\", \"SUR\", \"SWZ\", \"TJK\", \"TZA\", \"THA\", \"TLS\", \"TGO\", \"TUR\", \"UGA\", \"UZB\", \"VUT\", \"VEN\", \"VNM\", \"YEM\", \"ZMB\", \"ZWE\", \"AFG\", \"DZA\", \"AGO\", \"ARG\", \"AZE\", \"BGD\", \"BLZ\", \"BEN\", \"BTN\", \"BOL\", \"BWA\", \"BRA\", \"BFA\", \"BDI\", \"KHM\", \"CMR\", \"CPV\", \"CAF\", \"TCD\", \"CHN\", \"COL\", \"COM\", \"COG\", \"CRI\", \"CIV\", \"COD\", \"DJI\", \"DOM\", \"ECU\", \"SLV\", \"GNQ\", \"ERI\", \"ETH\", \"GAB\", \"GMB\", \"GEO\", \"GHA\", \"GTM\", \"GIN\", \"GNB\", \"GUY\", \"HTI\", \"HND\", \"IND\", \"IDN\", \"IRN\", \"IRQ\", \"KEN\", \"KGZ\", \"LAO\", \"LBR\", \"MDG\", \"MWI\", \"MYS\", \"MLI\", \"MRT\", \"MEX\", \"MOZ\", \"MMR\", \"NAM\", \"NPL\", \"NIC\", \"NER\", \"NGA\", \"PRK\", \"PAK\", \"PAN\", \"PNG\", \"PRY\", \"PER\", \"PHL\", \"RWA\", \"STP\", \"SAU\", \"SEN\", \"SLE\", \"SLB\", \"SOM\", \"ZAF\", null, null, null, null, null, null, null, null, null, null, null, null, null, null, null, null, null, null, null, null, null, null, null, null, null, null, null, null, null, null, null, null, \"KOR\", \"SSD\", \"LKA\", null, null, null, null, null, null, null, null, null, null, null, null, null, null, null, null, null, null, null, null, null, null, null, null, null, null, null, null, null, null, null, null, \"SDN\", \"SUR\", \"SWZ\", \"TJK\", \"TZA\", \"THA\", \"TLS\", \"TGO\", \"TUR\", \"UGA\", \"UZB\", \"VUT\", \"VEN\", \"VNM\", \"YEM\", \"ZMB\", \"ZWE\", \"AFG\", \"DZA\", \"AGO\", \"ARG\", \"AZE\", \"BGD\", \"BLZ\", \"BEN\", \"BTN\", \"BOL\", \"BWA\", \"BRA\", \"BFA\", \"BDI\", \"KHM\", \"CMR\", \"CPV\", \"CAF\", \"TCD\", \"CHN\", \"COL\", \"COM\", \"COG\", \"CRI\", \"CIV\", \"COD\", \"DJI\", \"DOM\", \"ECU\", \"SLV\", \"GNQ\", \"ERI\", \"ETH\", \"GAB\", \"GMB\", \"GEO\", \"GHA\", \"GTM\", \"GIN\", \"GNB\", \"GUY\", \"HTI\", \"HND\", \"IND\", \"IDN\", \"IRN\", \"IRQ\", \"KEN\", \"KGZ\", \"LAO\", \"LBR\", \"MDG\", \"MWI\", \"MYS\", \"MLI\", \"MRT\", \"MEX\", \"MOZ\", \"MMR\", \"NAM\", \"NPL\", \"NIC\", \"NER\", \"NGA\", \"PRK\", \"PAK\", \"PAN\", \"PNG\", \"PRY\", \"PER\", \"PHL\", \"RWA\", \"STP\", \"SAU\", \"SEN\", \"SLE\", \"SLB\", \"SOM\", \"ZAF\", null, null, null, null, null, null, null, null, null, null, null, null, null, null, null, null, null, null, null, null, null, null, null, null, null, null, null, null, null, null, null, null, \"KOR\", \"SSD\", \"LKA\", null, null, null, null, null, null, null, null, null, null, null, null, null, null, null, null, null, null, null, null, null, null, null, null, null, null, null, null, null, null, null, null, \"SDN\", \"SUR\", \"SWZ\", \"TJK\", \"TZA\", \"THA\", \"TLS\", \"TGO\", \"TUR\", \"UGA\", \"UZB\", \"VUT\", \"VEN\", \"VNM\", \"YEM\", \"ZMB\", \"ZWE\"], \"type\": \"choropleth\", \"z\": [23.6, 0.00190354202026867, 124.0, 0.0, 0.0, 0.8, 0.1, 293.7, 0.1, 3.9, 0.9, 7.9, 389.2, 126.3, 13.0, 264.2, 0.2, 289.5, 163.2, 0.000158545166126994, 12.3, 5.0, 173.3, 0.0, 348.8, 246.0, 25.4, 0.3, 0.1, 0.00527115320815338, 215.1, 14.5, 58.6, 232.4, 208.8, 0.0, 266.4, 1.4, 367.8, 89.3, 40.7, 8.4, 2.6, 18.6, 26.1, 0.5, 0.0, 166.0, 0.0, 20.9, 246.2, 104.2, 188.8, 1.9, 448.6, 74.2, 0.2, 297.7, 11.8, 14.0, 3.3, 2.9, 356.5, 380.8, 1.0, 8.6, 3.7, 122.2, 0.0, 21.2, 0.4, 301.3, 17.8, 0.1, 97.6, 302.8, 67.0, 85.5, 3.1, 16.8640529666416, 16.8640529666416, 16.8640529666416, 16.8640529666416, 16.8640529666416, 16.8640529666416, 16.8640529666416, 16.8640529666416, 16.8640529666416, 16.8640529666416, 16.8640529666416, 16.8640529666416, 16.8640529666416, 16.8640529666416, 16.8640529666416, 16.8640529666416, 16.8640529666416, 16.8640529666416, 16.8640529666416, 16.8640529666416, 16.8640529666416, 16.8640529666416, 16.8640529666416, 16.8640529666416, 16.8640529666416, 16.8640529666416, 16.8640529666416, 16.8640529666416, 16.8640529666416, 16.8640529666416, 16.8640529666416, 16.8640529666416, 0.8, 156.0, 0.0, 234.292104885826, 234.292104885826, 234.292104885826, 234.292104885826, 234.292104885826, 234.292104885826, 234.292104885826, 234.292104885826, 234.292104885826, 234.292104885826, 234.292104885826, 234.292104885826, 234.292104885826, 234.292104885826, 234.292104885826, 234.292104885826, 234.292104885826, 234.292104885826, 234.292104885826, 234.292104885826, 234.292104885826, 234.292104885826, 234.292104885826, 234.292104885826, 234.292104885826, 234.292104885826, 234.292104885826, 234.292104885826, 234.292104885826, 234.292104885826, 234.292104885826, 234.292104885826, 36.6, 1.7, 1.4, 0.0, 113.9, 2.7, 0.2, 345.1, 0.0, 218.3, 0.0, 3.3, 68.4, 0.3, 22.2, 173.7, 114.2, 23.6, 0.00190354202026867, 124.0, 0.0, 0.0, 0.8, 0.1, 293.7, 0.1, 3.9, 0.9, 7.9, 389.2, 126.3, 13.0, 264.2, 0.2, 289.5, 163.2, 0.000158545166126994, 12.3, 5.0, 173.3, 0.0, 348.8, 246.0, 25.4, 0.3, 0.1, 0.00527115320815338, 215.1, 14.5, 58.6, 232.4, 208.8, 0.0, 266.4, 1.4, 367.8, 89.3, 40.7, 8.4, 2.6, 18.6, 26.1, 0.5, 0.0, 166.0, 0.0, 20.9, 246.2, 104.2, 188.8, 1.9, 448.6, 74.2, 0.2, 297.7, 11.8, 14.0, 3.3, 2.9, 356.5, 380.8, 1.0, 8.6, 3.7, 122.2, 0.0, 21.2, 0.4, 301.3, 17.8, 0.1, 97.6, 302.8, 67.0, 85.5, 3.1, 16.8640529666416, 16.8640529666416, 16.8640529666416, 16.8640529666416, 16.8640529666416, 16.8640529666416, 16.8640529666416, 16.8640529666416, 16.8640529666416, 16.8640529666416, 16.8640529666416, 16.8640529666416, 16.8640529666416, 16.8640529666416, 16.8640529666416, 16.8640529666416, 16.8640529666416, 16.8640529666416, 16.8640529666416, 16.8640529666416, 16.8640529666416, 16.8640529666416, 16.8640529666416, 16.8640529666416, 16.8640529666416, 16.8640529666416, 16.8640529666416, 16.8640529666416, 16.8640529666416, 16.8640529666416, 16.8640529666416, 16.8640529666416, 0.8, 156.0, 0.0, 234.292104885826, 234.292104885826, 234.292104885826, 234.292104885826, 234.292104885826, 234.292104885826, 234.292104885826, 234.292104885826, 234.292104885826, 234.292104885826, 234.292104885826, 234.292104885826, 234.292104885826, 234.292104885826, 234.292104885826, 234.292104885826, 234.292104885826, 234.292104885826, 234.292104885826, 234.292104885826, 234.292104885826, 234.292104885826, 234.292104885826, 234.292104885826, 234.292104885826, 234.292104885826, 234.292104885826, 234.292104885826, 234.292104885826, 234.292104885826, 234.292104885826, 234.292104885826, 36.6, 1.7, 1.4, 0.0, 113.9, 2.7, 0.2, 345.1, 0.0, 218.3, 0.0, 3.3, 68.4, 0.3, 22.2, 173.7, 114.2, 23.6, 0.00190354202026867, 124.0, 0.0, 0.0, 0.8, 0.1, 293.7, 0.1, 3.9, 0.9, 7.9, 389.2, 126.3, 13.0, 264.2, 0.2, 289.5, 163.2, 0.000158545166126994, 12.3, 5.0, 173.3, 0.0, 348.8, 246.0, 25.4, 0.3, 0.1, 0.00527115320815338, 215.1, 14.5, 58.6, 232.4, 208.8, 0.0, 266.4, 1.4, 367.8, 89.3, 40.7, 8.4, 2.6, 18.6, 26.1, 0.5, 0.0, 166.0, 0.0, 20.9, 246.2, 104.2, 188.8, 1.9, 448.6, 74.2, 0.2, 297.7, 11.8, 14.0, 3.3, 2.9, 356.5, 380.8, 1.0, 8.6, 3.7, 122.2, 0.0, 21.2, 0.4, 301.3, 17.8, 0.1, 97.6, 302.8, 67.0, 85.5, 3.1, 16.8640529666416, 16.8640529666416, 16.8640529666416, 16.8640529666416, 16.8640529666416, 16.8640529666416, 16.8640529666416, 16.8640529666416, 16.8640529666416, 16.8640529666416, 16.8640529666416, 16.8640529666416, 16.8640529666416, 16.8640529666416, 16.8640529666416, 16.8640529666416, 16.8640529666416, 16.8640529666416, 16.8640529666416, 16.8640529666416, 16.8640529666416, 16.8640529666416, 16.8640529666416, 16.8640529666416, 16.8640529666416, 16.8640529666416, 16.8640529666416, 16.8640529666416, 16.8640529666416, 16.8640529666416, 16.8640529666416, 16.8640529666416, 0.8, 156.0, 0.0, 234.292104885826, 234.292104885826, 234.292104885826, 234.292104885826, 234.292104885826, 234.292104885826, 234.292104885826, 234.292104885826, 234.292104885826, 234.292104885826, 234.292104885826, 234.292104885826, 234.292104885826, 234.292104885826, 234.292104885826, 234.292104885826, 234.292104885826, 234.292104885826, 234.292104885826, 234.292104885826, 234.292104885826, 234.292104885826, 234.292104885826, 234.292104885826, 234.292104885826, 234.292104885826, 234.292104885826, 234.292104885826, 234.292104885826, 234.292104885826, 234.292104885826, 234.292104885826, 36.6, 1.7, 1.4, 0.0, 113.9, 2.7, 0.2, 345.1, 0.0, 218.3, 0.0, 3.3, 68.4, 0.3, 22.2, 173.7, 114.2, 23.6, 0.00190354202026867, 124.0, 0.0, 0.0, 0.8, 0.1, 293.7, 0.1, 3.9, 0.9, 7.9, 389.2, 126.3, 13.0, 264.2, 0.2, 289.5, 163.2, 0.000158545166126994, 12.3, 5.0, 173.3, 0.0, 348.8, 246.0, 25.4, 0.3, 0.1, 0.00527115320815338, 215.1, 14.5, 58.6, 232.4, 208.8, 0.0, 266.4, 1.4, 367.8, 89.3, 40.7, 8.4, 2.6, 18.6, 26.1, 0.5, 0.0, 166.0, 0.0, 20.9, 246.2, 104.2, 188.8, 1.9, 448.6, 74.2, 0.2, 297.7, 11.8, 14.0, 3.3, 2.9, 356.5, 380.8, 1.0, 8.6, 3.7, 122.2, 0.0, 21.2, 0.4, 301.3, 17.8, 0.1, 97.6, 302.8, 67.0, 85.5, 3.1, 16.8640529666416, 16.8640529666416, 16.8640529666416, 16.8640529666416, 16.8640529666416, 16.8640529666416, 16.8640529666416, 16.8640529666416, 16.8640529666416, 16.8640529666416, 16.8640529666416, 16.8640529666416, 16.8640529666416, 16.8640529666416, 16.8640529666416, 16.8640529666416, 16.8640529666416, 16.8640529666416, 16.8640529666416, 16.8640529666416, 16.8640529666416, 16.8640529666416, 16.8640529666416, 16.8640529666416, 16.8640529666416, 16.8640529666416, 16.8640529666416, 16.8640529666416, 16.8640529666416, 16.8640529666416, 16.8640529666416, 16.8640529666416, 0.8, 156.0, 0.0, 234.292104885826, 234.292104885826, 234.292104885826, 234.292104885826, 234.292104885826, 234.292104885826, 234.292104885826, 234.292104885826, 234.292104885826, 234.292104885826, 234.292104885826, 234.292104885826, 234.292104885826, 234.292104885826, 234.292104885826, 234.292104885826, 234.292104885826, 234.292104885826, 234.292104885826, 234.292104885826, 234.292104885826, 234.292104885826, 234.292104885826, 234.292104885826, 234.292104885826, 234.292104885826, 234.292104885826, 234.292104885826, 234.292104885826, 234.292104885826, 234.292104885826, 234.292104885826, 36.6, 1.7, 1.4, 0.0, 113.9, 2.7, 0.2, 345.1, 0.0, 218.3, 0.0, 3.3, 68.4, 0.3, 22.2, 173.7, 114.2, 23.6, 0.00190354202026867, 124.0, 0.0, 0.0, 0.8, 0.1, 293.7, 0.1, 3.9, 0.9, 7.9, 389.2, 126.3, 13.0, 264.2, 0.2, 289.5, 163.2, 0.000158545166126994, 12.3, 5.0, 173.3, 0.0, 348.8, 246.0, 25.4, 0.3, 0.1, 0.00527115320815338, 215.1, 14.5, 58.6, 232.4, 208.8, 0.0, 266.4, 1.4, 367.8, 89.3, 40.7, 8.4, 2.6, 18.6, 26.1, 0.5, 0.0, 166.0, 0.0, 20.9, 246.2, 104.2, 188.8, 1.9, 448.6, 74.2, 0.2, 297.7, 11.8, 14.0, 3.3, 2.9, 356.5, 380.8, 1.0, 8.6, 3.7, 122.2, 0.0, 21.2, 0.4, 301.3, 17.8, 0.1, 97.6, 302.8, 67.0, 85.5, 3.1, 16.8640529666416, 16.8640529666416, 16.8640529666416, 16.8640529666416, 16.8640529666416, 16.8640529666416, 16.8640529666416, 16.8640529666416, 16.8640529666416, 16.8640529666416, 16.8640529666416, 16.8640529666416, 16.8640529666416, 16.8640529666416, 16.8640529666416, 16.8640529666416, 16.8640529666416, 16.8640529666416, 16.8640529666416, 16.8640529666416, 16.8640529666416, 16.8640529666416, 16.8640529666416, 16.8640529666416, 16.8640529666416, 16.8640529666416, 16.8640529666416, 16.8640529666416, 16.8640529666416, 16.8640529666416, 16.8640529666416, 16.8640529666416, 0.8, 156.0, 0.0, 234.292104885826, 234.292104885826, 234.292104885826, 234.292104885826, 234.292104885826, 234.292104885826, 234.292104885826, 234.292104885826, 234.292104885826, 234.292104885826, 234.292104885826, 234.292104885826, 234.292104885826, 234.292104885826, 234.292104885826, 234.292104885826, 234.292104885826, 234.292104885826, 234.292104885826, 234.292104885826, 234.292104885826, 234.292104885826, 234.292104885826, 234.292104885826, 234.292104885826, 234.292104885826, 234.292104885826, 234.292104885826, 234.292104885826, 234.292104885826, 234.292104885826, 234.292104885826, 36.6, 1.7, 1.4, 0.0, 113.9, 2.7, 0.2, 345.1, 0.0, 218.3, 0.0, 3.3, 68.4, 0.3, 22.2, 173.7, 114.2]}],                        {\"geo\": {\"scope\": \"world\"}, \"template\": {\"data\": {\"bar\": [{\"error_x\": {\"color\": \"#2a3f5f\"}, \"error_y\": {\"color\": \"#2a3f5f\"}, \"marker\": {\"line\": {\"color\": \"#E5ECF6\", \"width\": 0.5}}, \"type\": \"bar\"}], \"barpolar\": [{\"marker\": {\"line\": {\"color\": \"#E5ECF6\", \"width\": 0.5}}, \"type\": \"barpolar\"}], \"carpet\": [{\"aaxis\": {\"endlinecolor\": \"#2a3f5f\", \"gridcolor\": \"white\", \"linecolor\": \"white\", \"minorgridcolor\": \"white\", \"startlinecolor\": \"#2a3f5f\"}, \"baxis\": {\"endlinecolor\": \"#2a3f5f\", \"gridcolor\": \"white\", \"linecolor\": \"white\", \"minorgridcolor\": \"white\", \"startlinecolor\": \"#2a3f5f\"}, \"type\": \"carpet\"}], \"choropleth\": [{\"colorbar\": {\"outlinewidth\": 0, \"ticks\": \"\"}, \"type\": \"choropleth\"}], \"contour\": [{\"colorbar\": {\"outlinewidth\": 0, \"ticks\": \"\"}, \"colorscale\": [[0.0, \"#0d0887\"], [0.1111111111111111, \"#46039f\"], [0.2222222222222222, \"#7201a8\"], [0.3333333333333333, \"#9c179e\"], [0.4444444444444444, \"#bd3786\"], [0.5555555555555556, \"#d8576b\"], [0.6666666666666666, \"#ed7953\"], [0.7777777777777778, \"#fb9f3a\"], [0.8888888888888888, \"#fdca26\"], [1.0, \"#f0f921\"]], \"type\": \"contour\"}], \"contourcarpet\": [{\"colorbar\": {\"outlinewidth\": 0, \"ticks\": \"\"}, \"type\": \"contourcarpet\"}], \"heatmap\": [{\"colorbar\": {\"outlinewidth\": 0, \"ticks\": \"\"}, \"colorscale\": [[0.0, \"#0d0887\"], [0.1111111111111111, \"#46039f\"], [0.2222222222222222, \"#7201a8\"], [0.3333333333333333, \"#9c179e\"], [0.4444444444444444, \"#bd3786\"], [0.5555555555555556, \"#d8576b\"], [0.6666666666666666, \"#ed7953\"], [0.7777777777777778, \"#fb9f3a\"], [0.8888888888888888, \"#fdca26\"], [1.0, \"#f0f921\"]], \"type\": \"heatmap\"}], \"heatmapgl\": [{\"colorbar\": {\"outlinewidth\": 0, \"ticks\": \"\"}, \"colorscale\": [[0.0, \"#0d0887\"], [0.1111111111111111, \"#46039f\"], [0.2222222222222222, \"#7201a8\"], [0.3333333333333333, \"#9c179e\"], [0.4444444444444444, \"#bd3786\"], [0.5555555555555556, \"#d8576b\"], [0.6666666666666666, \"#ed7953\"], [0.7777777777777778, \"#fb9f3a\"], [0.8888888888888888, \"#fdca26\"], [1.0, \"#f0f921\"]], \"type\": \"heatmapgl\"}], \"histogram\": [{\"marker\": {\"colorbar\": {\"outlinewidth\": 0, \"ticks\": \"\"}}, \"type\": \"histogram\"}], \"histogram2d\": [{\"colorbar\": {\"outlinewidth\": 0, \"ticks\": \"\"}, \"colorscale\": [[0.0, \"#0d0887\"], [0.1111111111111111, \"#46039f\"], [0.2222222222222222, \"#7201a8\"], [0.3333333333333333, \"#9c179e\"], [0.4444444444444444, \"#bd3786\"], [0.5555555555555556, \"#d8576b\"], [0.6666666666666666, \"#ed7953\"], [0.7777777777777778, \"#fb9f3a\"], [0.8888888888888888, \"#fdca26\"], [1.0, \"#f0f921\"]], \"type\": \"histogram2d\"}], \"histogram2dcontour\": [{\"colorbar\": {\"outlinewidth\": 0, \"ticks\": \"\"}, \"colorscale\": [[0.0, \"#0d0887\"], [0.1111111111111111, \"#46039f\"], [0.2222222222222222, \"#7201a8\"], [0.3333333333333333, \"#9c179e\"], [0.4444444444444444, \"#bd3786\"], [0.5555555555555556, \"#d8576b\"], [0.6666666666666666, \"#ed7953\"], [0.7777777777777778, \"#fb9f3a\"], [0.8888888888888888, \"#fdca26\"], [1.0, \"#f0f921\"]], \"type\": \"histogram2dcontour\"}], \"mesh3d\": [{\"colorbar\": {\"outlinewidth\": 0, \"ticks\": \"\"}, \"type\": \"mesh3d\"}], \"parcoords\": [{\"line\": {\"colorbar\": {\"outlinewidth\": 0, \"ticks\": \"\"}}, \"type\": \"parcoords\"}], \"pie\": [{\"automargin\": true, \"type\": \"pie\"}], \"scatter\": [{\"marker\": {\"colorbar\": {\"outlinewidth\": 0, \"ticks\": \"\"}}, \"type\": \"scatter\"}], \"scatter3d\": [{\"line\": {\"colorbar\": {\"outlinewidth\": 0, \"ticks\": \"\"}}, \"marker\": {\"colorbar\": {\"outlinewidth\": 0, \"ticks\": \"\"}}, \"type\": \"scatter3d\"}], \"scattercarpet\": [{\"marker\": {\"colorbar\": {\"outlinewidth\": 0, \"ticks\": \"\"}}, \"type\": \"scattercarpet\"}], \"scattergeo\": [{\"marker\": {\"colorbar\": {\"outlinewidth\": 0, \"ticks\": \"\"}}, \"type\": \"scattergeo\"}], \"scattergl\": [{\"marker\": {\"colorbar\": {\"outlinewidth\": 0, \"ticks\": \"\"}}, \"type\": \"scattergl\"}], \"scattermapbox\": [{\"marker\": {\"colorbar\": {\"outlinewidth\": 0, \"ticks\": \"\"}}, \"type\": \"scattermapbox\"}], \"scatterpolar\": [{\"marker\": {\"colorbar\": {\"outlinewidth\": 0, \"ticks\": \"\"}}, \"type\": \"scatterpolar\"}], \"scatterpolargl\": [{\"marker\": {\"colorbar\": {\"outlinewidth\": 0, \"ticks\": \"\"}}, \"type\": \"scatterpolargl\"}], \"scatterternary\": [{\"marker\": {\"colorbar\": {\"outlinewidth\": 0, \"ticks\": \"\"}}, \"type\": \"scatterternary\"}], \"surface\": [{\"colorbar\": {\"outlinewidth\": 0, \"ticks\": \"\"}, \"colorscale\": [[0.0, \"#0d0887\"], [0.1111111111111111, \"#46039f\"], [0.2222222222222222, \"#7201a8\"], [0.3333333333333333, \"#9c179e\"], [0.4444444444444444, \"#bd3786\"], [0.5555555555555556, \"#d8576b\"], [0.6666666666666666, \"#ed7953\"], [0.7777777777777778, \"#fb9f3a\"], [0.8888888888888888, \"#fdca26\"], [1.0, \"#f0f921\"]], \"type\": \"surface\"}], \"table\": [{\"cells\": {\"fill\": {\"color\": \"#EBF0F8\"}, \"line\": {\"color\": \"white\"}}, \"header\": {\"fill\": {\"color\": \"#C8D4E3\"}, \"line\": {\"color\": \"white\"}}, \"type\": \"table\"}]}, \"layout\": {\"annotationdefaults\": {\"arrowcolor\": \"#2a3f5f\", \"arrowhead\": 0, \"arrowwidth\": 1}, \"coloraxis\": {\"colorbar\": {\"outlinewidth\": 0, \"ticks\": \"\"}}, \"colorscale\": {\"diverging\": [[0, \"#8e0152\"], [0.1, \"#c51b7d\"], [0.2, \"#de77ae\"], [0.3, \"#f1b6da\"], [0.4, \"#fde0ef\"], [0.5, \"#f7f7f7\"], [0.6, \"#e6f5d0\"], [0.7, \"#b8e186\"], [0.8, \"#7fbc41\"], [0.9, \"#4d9221\"], [1, \"#276419\"]], \"sequential\": [[0.0, \"#0d0887\"], [0.1111111111111111, \"#46039f\"], [0.2222222222222222, \"#7201a8\"], [0.3333333333333333, \"#9c179e\"], [0.4444444444444444, \"#bd3786\"], [0.5555555555555556, \"#d8576b\"], [0.6666666666666666, \"#ed7953\"], [0.7777777777777778, \"#fb9f3a\"], [0.8888888888888888, \"#fdca26\"], [1.0, \"#f0f921\"]], \"sequentialminus\": [[0.0, \"#0d0887\"], [0.1111111111111111, \"#46039f\"], [0.2222222222222222, \"#7201a8\"], [0.3333333333333333, \"#9c179e\"], [0.4444444444444444, \"#bd3786\"], [0.5555555555555556, \"#d8576b\"], [0.6666666666666666, \"#ed7953\"], [0.7777777777777778, \"#fb9f3a\"], [0.8888888888888888, \"#fdca26\"], [1.0, \"#f0f921\"]]}, \"colorway\": [\"#636efa\", \"#EF553B\", \"#00cc96\", \"#ab63fa\", \"#FFA15A\", \"#19d3f3\", \"#FF6692\", \"#B6E880\", \"#FF97FF\", \"#FECB52\"], \"font\": {\"color\": \"#2a3f5f\"}, \"geo\": {\"bgcolor\": \"white\", \"lakecolor\": \"white\", \"landcolor\": \"#E5ECF6\", \"showlakes\": true, \"showland\": true, \"subunitcolor\": \"white\"}, \"hoverlabel\": {\"align\": \"left\"}, \"hovermode\": \"closest\", \"mapbox\": {\"style\": \"light\"}, \"paper_bgcolor\": \"white\", \"plot_bgcolor\": \"#E5ECF6\", \"polar\": {\"angularaxis\": {\"gridcolor\": \"white\", \"linecolor\": \"white\", \"ticks\": \"\"}, \"bgcolor\": \"#E5ECF6\", \"radialaxis\": {\"gridcolor\": \"white\", \"linecolor\": \"white\", \"ticks\": \"\"}}, \"scene\": {\"xaxis\": {\"backgroundcolor\": \"#E5ECF6\", \"gridcolor\": \"white\", \"gridwidth\": 2, \"linecolor\": \"white\", \"showbackground\": true, \"ticks\": \"\", \"zerolinecolor\": \"white\"}, \"yaxis\": {\"backgroundcolor\": \"#E5ECF6\", \"gridcolor\": \"white\", \"gridwidth\": 2, \"linecolor\": \"white\", \"showbackground\": true, \"ticks\": \"\", \"zerolinecolor\": \"white\"}, \"zaxis\": {\"backgroundcolor\": \"#E5ECF6\", \"gridcolor\": \"white\", \"gridwidth\": 2, \"linecolor\": \"white\", \"showbackground\": true, \"ticks\": \"\", \"zerolinecolor\": \"white\"}}, \"shapedefaults\": {\"line\": {\"color\": \"#2a3f5f\"}}, \"ternary\": {\"aaxis\": {\"gridcolor\": \"white\", \"linecolor\": \"white\", \"ticks\": \"\"}, \"baxis\": {\"gridcolor\": \"white\", \"linecolor\": \"white\", \"ticks\": \"\"}, \"bgcolor\": \"#E5ECF6\", \"caxis\": {\"gridcolor\": \"white\", \"linecolor\": \"white\", \"ticks\": \"\"}}, \"title\": {\"x\": 0.05}, \"xaxis\": {\"automargin\": true, \"gridcolor\": \"white\", \"linecolor\": \"white\", \"ticks\": \"\", \"title\": {\"standoff\": 15}, \"zerolinecolor\": \"white\", \"zerolinewidth\": 2}, \"yaxis\": {\"automargin\": true, \"gridcolor\": \"white\", \"linecolor\": \"white\", \"ticks\": \"\", \"title\": {\"standoff\": 15}, \"zerolinecolor\": \"white\", \"zerolinewidth\": 2}}}},                        {\"responsive\": true}                    ).then(function(){\n",
       "                            \n",
       "var gd = document.getElementById('972856de-685f-4ec3-988a-7d2f5da5db09');\n",
       "var x = new MutationObserver(function (mutations, observer) {{\n",
       "        var display = window.getComputedStyle(gd).display;\n",
       "        if (!display || display === 'none') {{\n",
       "            console.log([gd, 'removed!']);\n",
       "            Plotly.purge(gd);\n",
       "            observer.disconnect();\n",
       "        }}\n",
       "}});\n",
       "\n",
       "// Listen for the removal of the full notebook cells\n",
       "var notebookContainer = gd.closest('#notebook-container');\n",
       "if (notebookContainer) {{\n",
       "    x.observe(notebookContainer, {childList: true});\n",
       "}}\n",
       "\n",
       "// Listen for the clearing of the current output cell\n",
       "var outputEl = gd.closest('.output');\n",
       "if (outputEl) {{\n",
       "    x.observe(outputEl, {childList: true});\n",
       "}}\n",
       "\n",
       "                        })                };                });            </script>        </div>"
      ]
     },
     "metadata": {},
     "output_type": "display_data"
    }
   ],
   "source": [
    "# Initializing the Figure object by passing data and layout as arguments.\n",
    "malaria_map = gobj.Figure(data = [data],layout = layout)\n",
    "\n",
    "#plotting the map\n",
    "iplot(malaria_map)"
   ]
  },
  {
   "cell_type": "code",
   "execution_count": 31,
   "metadata": {},
   "outputs": [
    {
     "data": {
      "text/plain": [
       "'temp-plot.html'"
      ]
     },
     "execution_count": 31,
     "metadata": {},
     "output_type": "execute_result"
    }
   ],
   "source": [
    "plot(malaria_map)"
   ]
  },
  {
   "cell_type": "markdown",
   "metadata": {},
   "source": [
    "## 3. Malaria deaths by country in 2016"
   ]
  },
  {
   "cell_type": "code",
   "execution_count": 32,
   "metadata": {},
   "outputs": [],
   "source": [
    "#initializing the data variable\n",
    "data = dict(type = 'choropleth',\n",
    "            locations = death_rate['entity'],\n",
    "            locationmode = 'country names',\n",
    "            colorscale= 'Reds',\n",
    "            text= death_rate['entity'],\n",
    "            z= death_rate['Death rate per 100 000 people'],\n",
    "            colorbar = {'title':'Death rate per 100 000 people', 'len':200,'lenmode':'pixels' })"
   ]
  },
  {
   "cell_type": "code",
   "execution_count": 33,
   "metadata": {},
   "outputs": [],
   "source": [
    "#initializing the layout variable\n",
    "layout = dict(geo = {'scope':'world'})"
   ]
  },
  {
   "cell_type": "code",
   "execution_count": 34,
   "metadata": {},
   "outputs": [
    {
     "data": {
      "application/vnd.plotly.v1+json": {
       "config": {
        "linkText": "Export to plot.ly",
        "plotlyServerURL": "https://plot.ly",
        "showLink": false
       },
       "data": [
        {
         "colorbar": {
          "len": 200,
          "lenmode": "pixels",
          "title": {
           "text": "Death rate per 100 000 people"
          }
         },
         "colorscale": [
          [
           0,
           "rgb(255,245,240)"
          ],
          [
           0.125,
           "rgb(254,224,210)"
          ],
          [
           0.25,
           "rgb(252,187,161)"
          ],
          [
           0.375,
           "rgb(252,146,114)"
          ],
          [
           0.5,
           "rgb(251,106,74)"
          ],
          [
           0.625,
           "rgb(239,59,44)"
          ],
          [
           0.75,
           "rgb(203,24,29)"
          ],
          [
           0.875,
           "rgb(165,15,21)"
          ],
          [
           1,
           "rgb(103,0,13)"
          ]
         ],
         "locationmode": "country names",
         "locations": [
          "Afghanistan",
          "Albania",
          "Algeria",
          "American Samoa",
          "Andean Latin America",
          "Andorra",
          "Angola",
          "Antigua and Barbuda",
          "Argentina",
          "Armenia",
          "Australasia",
          "Australia",
          "Austria",
          "Azerbaijan",
          "Bahamas",
          "Bahrain",
          "Bangladesh",
          "Barbados",
          "Belarus",
          "Belgium",
          "Belize",
          "Benin",
          "Bermuda",
          "Bhutan",
          "Bolivia",
          "Bosnia and Herzegovina",
          "Botswana",
          "Brazil",
          "Brunei",
          "Bulgaria",
          "Burkina Faso",
          "Burundi",
          "Cambodia",
          "Cameroon",
          "Canada",
          "Cape Verde",
          "Caribbean",
          "Central African Republic",
          "Central Asia",
          "Central Europe",
          "Central Latin America",
          "Central Sub-Saharan Africa",
          "Chad",
          "Chile",
          "China",
          "Colombia",
          "Comoros",
          "Congo",
          "Costa Rica",
          "Cote d'Ivoire",
          "Croatia",
          "Cuba",
          "Cyprus",
          "Czech Republic",
          "Democratic Republic of Congo",
          "Denmark",
          "Djibouti",
          "Dominica",
          "Dominican Republic",
          "East Asia",
          "Eastern Europe",
          "Eastern Sub-Saharan Africa",
          "Ecuador",
          "Egypt",
          "El Salvador",
          "England",
          "Equatorial Guinea",
          "Eritrea",
          "Estonia",
          "Ethiopia",
          "Fiji",
          "Finland",
          "France",
          "Gabon",
          "Gambia",
          "Georgia",
          "Germany",
          "Ghana",
          "Greece",
          "Greenland",
          "Grenada",
          "Guam",
          "Guatemala",
          "Guinea",
          "Guinea-Bissau",
          "Guyana",
          "Haiti",
          "High SDI",
          "High-income Asia Pacific",
          "High-middle SDI",
          "Honduras",
          "Hungary",
          "Iceland",
          "India",
          "Indonesia",
          "Iran",
          "Iraq",
          "Ireland",
          "Israel",
          "Italy",
          "Jamaica",
          "Japan",
          "Jordan",
          "Kazakhstan",
          "Kenya",
          "Kiribati",
          "Kuwait",
          "Kyrgyzstan",
          "Laos",
          "Latin America and Caribbean",
          "Latvia",
          "Lebanon",
          "Lesotho",
          "Liberia",
          "Libya",
          "Lithuania",
          "Low SDI",
          "Low-middle SDI",
          "Luxembourg",
          "Macedonia",
          "Madagascar",
          "Malawi",
          "Malaysia",
          "Maldives",
          "Mali",
          "Malta",
          "Marshall Islands",
          "Mauritania",
          "Mauritius",
          "Mexico",
          "Micronesia (country)",
          "Middle SDI",
          "Moldova",
          "Mongolia",
          "Montenegro",
          "Morocco",
          "Mozambique",
          "Myanmar",
          "Namibia",
          "Nepal",
          "Netherlands",
          "New Zealand",
          "Nicaragua",
          "Niger",
          "Nigeria",
          "North Africa and Middle East",
          "North America",
          "North Korea",
          "Northern Ireland",
          "Northern Mariana Islands",
          "Norway",
          "Oceania",
          "Oman",
          "Pakistan",
          "Palestine",
          "Panama",
          "Papua New Guinea",
          "Paraguay",
          "Peru",
          "Philippines",
          "Poland",
          "Portugal",
          "Puerto Rico",
          "Qatar",
          "Romania",
          "Russia",
          "Rwanda",
          "Saint Lucia",
          "Saint Vincent and the Grenadines",
          "Samoa",
          "Sao Tome and Principe",
          "Saudi Arabia",
          "Scotland",
          "Senegal",
          "Serbia",
          "Seychelles",
          "Sierra Leone",
          "Singapore",
          "Slovakia",
          "Slovenia",
          "Solomon Islands",
          "Somalia",
          "South Africa",
          "South Asia",
          "South Korea",
          "South Sudan",
          "Southeast Asia",
          "Southern Latin America",
          "Southern Sub-Saharan Africa",
          "Spain",
          "Sri Lanka",
          "Sub-Saharan Africa",
          "Sudan",
          "Suriname",
          "Swaziland",
          "Sweden",
          "Switzerland",
          "Syria",
          "Taiwan",
          "Tajikistan",
          "Tanzania",
          "Thailand",
          "Timor",
          "Togo",
          "Tonga",
          "Trinidad and Tobago",
          "Tropical Latin America",
          "Tunisia",
          "Turkey",
          "Turkmenistan",
          "Uganda",
          "Ukraine",
          "United Arab Emirates",
          "United Kingdom",
          "United States",
          "United States Virgin Islands",
          "Uruguay",
          "Uzbekistan",
          "Vanuatu",
          "Venezuela",
          "Vietnam",
          "Wales",
          "Western Europe",
          "Western Sub-Saharan Africa",
          "Yemen",
          "Zambia",
          "Zimbabwe"
         ],
         "text": [
          "Afghanistan",
          "Albania",
          "Algeria",
          "American Samoa",
          "Andean Latin America",
          "Andorra",
          "Angola",
          "Antigua and Barbuda",
          "Argentina",
          "Armenia",
          "Australasia",
          "Australia",
          "Austria",
          "Azerbaijan",
          "Bahamas",
          "Bahrain",
          "Bangladesh",
          "Barbados",
          "Belarus",
          "Belgium",
          "Belize",
          "Benin",
          "Bermuda",
          "Bhutan",
          "Bolivia",
          "Bosnia and Herzegovina",
          "Botswana",
          "Brazil",
          "Brunei",
          "Bulgaria",
          "Burkina Faso",
          "Burundi",
          "Cambodia",
          "Cameroon",
          "Canada",
          "Cape Verde",
          "Caribbean",
          "Central African Republic",
          "Central Asia",
          "Central Europe",
          "Central Latin America",
          "Central Sub-Saharan Africa",
          "Chad",
          "Chile",
          "China",
          "Colombia",
          "Comoros",
          "Congo",
          "Costa Rica",
          "Cote d'Ivoire",
          "Croatia",
          "Cuba",
          "Cyprus",
          "Czech Republic",
          "Democratic Republic of Congo",
          "Denmark",
          "Djibouti",
          "Dominica",
          "Dominican Republic",
          "East Asia",
          "Eastern Europe",
          "Eastern Sub-Saharan Africa",
          "Ecuador",
          "Egypt",
          "El Salvador",
          "England",
          "Equatorial Guinea",
          "Eritrea",
          "Estonia",
          "Ethiopia",
          "Fiji",
          "Finland",
          "France",
          "Gabon",
          "Gambia",
          "Georgia",
          "Germany",
          "Ghana",
          "Greece",
          "Greenland",
          "Grenada",
          "Guam",
          "Guatemala",
          "Guinea",
          "Guinea-Bissau",
          "Guyana",
          "Haiti",
          "High SDI",
          "High-income Asia Pacific",
          "High-middle SDI",
          "Honduras",
          "Hungary",
          "Iceland",
          "India",
          "Indonesia",
          "Iran",
          "Iraq",
          "Ireland",
          "Israel",
          "Italy",
          "Jamaica",
          "Japan",
          "Jordan",
          "Kazakhstan",
          "Kenya",
          "Kiribati",
          "Kuwait",
          "Kyrgyzstan",
          "Laos",
          "Latin America and Caribbean",
          "Latvia",
          "Lebanon",
          "Lesotho",
          "Liberia",
          "Libya",
          "Lithuania",
          "Low SDI",
          "Low-middle SDI",
          "Luxembourg",
          "Macedonia",
          "Madagascar",
          "Malawi",
          "Malaysia",
          "Maldives",
          "Mali",
          "Malta",
          "Marshall Islands",
          "Mauritania",
          "Mauritius",
          "Mexico",
          "Micronesia (country)",
          "Middle SDI",
          "Moldova",
          "Mongolia",
          "Montenegro",
          "Morocco",
          "Mozambique",
          "Myanmar",
          "Namibia",
          "Nepal",
          "Netherlands",
          "New Zealand",
          "Nicaragua",
          "Niger",
          "Nigeria",
          "North Africa and Middle East",
          "North America",
          "North Korea",
          "Northern Ireland",
          "Northern Mariana Islands",
          "Norway",
          "Oceania",
          "Oman",
          "Pakistan",
          "Palestine",
          "Panama",
          "Papua New Guinea",
          "Paraguay",
          "Peru",
          "Philippines",
          "Poland",
          "Portugal",
          "Puerto Rico",
          "Qatar",
          "Romania",
          "Russia",
          "Rwanda",
          "Saint Lucia",
          "Saint Vincent and the Grenadines",
          "Samoa",
          "Sao Tome and Principe",
          "Saudi Arabia",
          "Scotland",
          "Senegal",
          "Serbia",
          "Seychelles",
          "Sierra Leone",
          "Singapore",
          "Slovakia",
          "Slovenia",
          "Solomon Islands",
          "Somalia",
          "South Africa",
          "South Asia",
          "South Korea",
          "South Sudan",
          "Southeast Asia",
          "Southern Latin America",
          "Southern Sub-Saharan Africa",
          "Spain",
          "Sri Lanka",
          "Sub-Saharan Africa",
          "Sudan",
          "Suriname",
          "Swaziland",
          "Sweden",
          "Switzerland",
          "Syria",
          "Taiwan",
          "Tajikistan",
          "Tanzania",
          "Thailand",
          "Timor",
          "Togo",
          "Tonga",
          "Trinidad and Tobago",
          "Tropical Latin America",
          "Tunisia",
          "Turkey",
          "Turkmenistan",
          "Uganda",
          "Ukraine",
          "United Arab Emirates",
          "United Kingdom",
          "United States",
          "United States Virgin Islands",
          "Uruguay",
          "Uzbekistan",
          "Vanuatu",
          "Venezuela",
          "Vietnam",
          "Wales",
          "Western Europe",
          "Western Sub-Saharan Africa",
          "Yemen",
          "Zambia",
          "Zimbabwe"
         ],
         "type": "choropleth",
         "z": [
          7.1394291368100005,
          0,
          0.0216693699682,
          0.206802253679,
          0.047642883848,
          0,
          27.148631810100003,
          0,
          0.005286577783989999,
          0,
          0.047642883848,
          0,
          0,
          0.006514467465369999,
          0,
          0,
          1.11180224683,
          0,
          0,
          0,
          0.0844222885675,
          67.27051963560001,
          0.009722330178959999,
          2.3837255446200003,
          0.0828977845731,
          0,
          1.20235510059,
          0.0384770501477,
          0,
          0,
          135.08837642400002,
          48.8400130162,
          14.221265461700002,
          91.6744246017,
          0,
          0.06947951440330001,
          0.047642883848,
          54.723226929,
          0.047642883848,
          0.047642883848,
          0.047642883848,
          0.047642883848,
          34.6380161807,
          0,
          0.012487292204,
          0.107504109054,
          0.128702602554,
          58.078281172900006,
          0.00440773509094,
          87.8810139972,
          0,
          0,
          0,
          0,
          77.8375071817,
          0,
          0.091121429091,
          0,
          0.0221298469387,
          0.047642883848,
          0.047642883848,
          0.047642883848,
          0.0600562517381,
          0.0100312291288,
          0.00747397927025,
          0.047642883848,
          107.395253646,
          7.663047494700001,
          0,
          1.57304586855,
          0,
          0,
          0,
          43.3399906819,
          16.1693547068,
          0,
          0,
          68.5861384916,
          0,
          0,
          0,
          0.43062746675,
          0.152510023135,
          91.45503363110001,
          22.322984168,
          1.6480814217200002,
          0.0964529012595,
          0.047642883848,
          0.047642883848,
          0.047642883848,
          0.36931596093,
          0,
          0,
          4.020566897069999,
          2.6613319793200003,
          0.013873348184,
          0,
          0,
          0,
          0,
          0,
          0,
          0,
          0,
          10.720255676799999,
          0,
          0,
          0,
          0.356541184404,
          0.047642883848,
          0,
          0,
          0,
          58.7588973896,
          0,
          0,
          0.047642883848,
          0.047642883848,
          0,
          0,
          24.4363557325,
          44.9364400375,
          0.062989457543,
          0,
          115.833746565,
          0,
          0,
          7.15312269476,
          0.0116437703179,
          0.006428023394729999,
          0,
          0.047642883848,
          0,
          0,
          0,
          0,
          53.2089666594,
          13.541099788499999,
          4.4726627913,
          2.1969229591099997,
          0,
          0,
          0.0616237959629,
          119.22974498200001,
          92.7983899346,
          0.047642883848,
          0.047642883848,
          0.00924054523611,
          0.047642883848,
          0.24261616883099998,
          0,
          0.047642883848,
          0,
          3.5034448404800003,
          0,
          0.011809619180100001,
          12.613531948699999,
          0.00696310942793,
          0.0295028977364,
          0.22260583092300001,
          0,
          0,
          0.0106936178706,
          0,
          0,
          0,
          20.7081387638,
          0,
          0,
          0,
          0.0719643581877,
          0.0554789457027,
          0.047642883848,
          24.187298367399997,
          0,
          0,
          118.919916611,
          0,
          0,
          0,
          4.5753494444300005,
          25.8938023589,
          0.31412555754,
          0.047642883848,
          0.0033871581848099997,
          22.0487104029,
          0.047642883848,
          0.047642883848,
          0.047642883848,
          0,
          0,
          0.047642883848,
          7.676635053010001,
          0.37788182011699994,
          0.018826534744000003,
          0,
          0,
          0,
          0,
          0.0496362890398,
          26.3695449019,
          0.05826695327480001,
          0.253325088659,
          94.1009249207,
          0,
          0,
          0.047642883848,
          0,
          0.00409045904935,
          0,
          49.2329409124,
          0,
          0,
          0,
          0,
          0.013106839933,
          0,
          0,
          3.5092740044700004,
          0.06616949819029999,
          1.23140532068,
          0.047642883848,
          0.047642883848,
          0.047642883848,
          0.0327919167505,
          29.473210470399998,
          9.507309129389999
         ]
        }
       ],
       "layout": {
        "geo": {
         "scope": "world"
        },
        "template": {
         "data": {
          "bar": [
           {
            "error_x": {
             "color": "#2a3f5f"
            },
            "error_y": {
             "color": "#2a3f5f"
            },
            "marker": {
             "line": {
              "color": "#E5ECF6",
              "width": 0.5
             }
            },
            "type": "bar"
           }
          ],
          "barpolar": [
           {
            "marker": {
             "line": {
              "color": "#E5ECF6",
              "width": 0.5
             }
            },
            "type": "barpolar"
           }
          ],
          "carpet": [
           {
            "aaxis": {
             "endlinecolor": "#2a3f5f",
             "gridcolor": "white",
             "linecolor": "white",
             "minorgridcolor": "white",
             "startlinecolor": "#2a3f5f"
            },
            "baxis": {
             "endlinecolor": "#2a3f5f",
             "gridcolor": "white",
             "linecolor": "white",
             "minorgridcolor": "white",
             "startlinecolor": "#2a3f5f"
            },
            "type": "carpet"
           }
          ],
          "choropleth": [
           {
            "colorbar": {
             "outlinewidth": 0,
             "ticks": ""
            },
            "type": "choropleth"
           }
          ],
          "contour": [
           {
            "colorbar": {
             "outlinewidth": 0,
             "ticks": ""
            },
            "colorscale": [
             [
              0,
              "#0d0887"
             ],
             [
              0.1111111111111111,
              "#46039f"
             ],
             [
              0.2222222222222222,
              "#7201a8"
             ],
             [
              0.3333333333333333,
              "#9c179e"
             ],
             [
              0.4444444444444444,
              "#bd3786"
             ],
             [
              0.5555555555555556,
              "#d8576b"
             ],
             [
              0.6666666666666666,
              "#ed7953"
             ],
             [
              0.7777777777777778,
              "#fb9f3a"
             ],
             [
              0.8888888888888888,
              "#fdca26"
             ],
             [
              1,
              "#f0f921"
             ]
            ],
            "type": "contour"
           }
          ],
          "contourcarpet": [
           {
            "colorbar": {
             "outlinewidth": 0,
             "ticks": ""
            },
            "type": "contourcarpet"
           }
          ],
          "heatmap": [
           {
            "colorbar": {
             "outlinewidth": 0,
             "ticks": ""
            },
            "colorscale": [
             [
              0,
              "#0d0887"
             ],
             [
              0.1111111111111111,
              "#46039f"
             ],
             [
              0.2222222222222222,
              "#7201a8"
             ],
             [
              0.3333333333333333,
              "#9c179e"
             ],
             [
              0.4444444444444444,
              "#bd3786"
             ],
             [
              0.5555555555555556,
              "#d8576b"
             ],
             [
              0.6666666666666666,
              "#ed7953"
             ],
             [
              0.7777777777777778,
              "#fb9f3a"
             ],
             [
              0.8888888888888888,
              "#fdca26"
             ],
             [
              1,
              "#f0f921"
             ]
            ],
            "type": "heatmap"
           }
          ],
          "heatmapgl": [
           {
            "colorbar": {
             "outlinewidth": 0,
             "ticks": ""
            },
            "colorscale": [
             [
              0,
              "#0d0887"
             ],
             [
              0.1111111111111111,
              "#46039f"
             ],
             [
              0.2222222222222222,
              "#7201a8"
             ],
             [
              0.3333333333333333,
              "#9c179e"
             ],
             [
              0.4444444444444444,
              "#bd3786"
             ],
             [
              0.5555555555555556,
              "#d8576b"
             ],
             [
              0.6666666666666666,
              "#ed7953"
             ],
             [
              0.7777777777777778,
              "#fb9f3a"
             ],
             [
              0.8888888888888888,
              "#fdca26"
             ],
             [
              1,
              "#f0f921"
             ]
            ],
            "type": "heatmapgl"
           }
          ],
          "histogram": [
           {
            "marker": {
             "colorbar": {
              "outlinewidth": 0,
              "ticks": ""
             }
            },
            "type": "histogram"
           }
          ],
          "histogram2d": [
           {
            "colorbar": {
             "outlinewidth": 0,
             "ticks": ""
            },
            "colorscale": [
             [
              0,
              "#0d0887"
             ],
             [
              0.1111111111111111,
              "#46039f"
             ],
             [
              0.2222222222222222,
              "#7201a8"
             ],
             [
              0.3333333333333333,
              "#9c179e"
             ],
             [
              0.4444444444444444,
              "#bd3786"
             ],
             [
              0.5555555555555556,
              "#d8576b"
             ],
             [
              0.6666666666666666,
              "#ed7953"
             ],
             [
              0.7777777777777778,
              "#fb9f3a"
             ],
             [
              0.8888888888888888,
              "#fdca26"
             ],
             [
              1,
              "#f0f921"
             ]
            ],
            "type": "histogram2d"
           }
          ],
          "histogram2dcontour": [
           {
            "colorbar": {
             "outlinewidth": 0,
             "ticks": ""
            },
            "colorscale": [
             [
              0,
              "#0d0887"
             ],
             [
              0.1111111111111111,
              "#46039f"
             ],
             [
              0.2222222222222222,
              "#7201a8"
             ],
             [
              0.3333333333333333,
              "#9c179e"
             ],
             [
              0.4444444444444444,
              "#bd3786"
             ],
             [
              0.5555555555555556,
              "#d8576b"
             ],
             [
              0.6666666666666666,
              "#ed7953"
             ],
             [
              0.7777777777777778,
              "#fb9f3a"
             ],
             [
              0.8888888888888888,
              "#fdca26"
             ],
             [
              1,
              "#f0f921"
             ]
            ],
            "type": "histogram2dcontour"
           }
          ],
          "mesh3d": [
           {
            "colorbar": {
             "outlinewidth": 0,
             "ticks": ""
            },
            "type": "mesh3d"
           }
          ],
          "parcoords": [
           {
            "line": {
             "colorbar": {
              "outlinewidth": 0,
              "ticks": ""
             }
            },
            "type": "parcoords"
           }
          ],
          "pie": [
           {
            "automargin": true,
            "type": "pie"
           }
          ],
          "scatter": [
           {
            "marker": {
             "colorbar": {
              "outlinewidth": 0,
              "ticks": ""
             }
            },
            "type": "scatter"
           }
          ],
          "scatter3d": [
           {
            "line": {
             "colorbar": {
              "outlinewidth": 0,
              "ticks": ""
             }
            },
            "marker": {
             "colorbar": {
              "outlinewidth": 0,
              "ticks": ""
             }
            },
            "type": "scatter3d"
           }
          ],
          "scattercarpet": [
           {
            "marker": {
             "colorbar": {
              "outlinewidth": 0,
              "ticks": ""
             }
            },
            "type": "scattercarpet"
           }
          ],
          "scattergeo": [
           {
            "marker": {
             "colorbar": {
              "outlinewidth": 0,
              "ticks": ""
             }
            },
            "type": "scattergeo"
           }
          ],
          "scattergl": [
           {
            "marker": {
             "colorbar": {
              "outlinewidth": 0,
              "ticks": ""
             }
            },
            "type": "scattergl"
           }
          ],
          "scattermapbox": [
           {
            "marker": {
             "colorbar": {
              "outlinewidth": 0,
              "ticks": ""
             }
            },
            "type": "scattermapbox"
           }
          ],
          "scatterpolar": [
           {
            "marker": {
             "colorbar": {
              "outlinewidth": 0,
              "ticks": ""
             }
            },
            "type": "scatterpolar"
           }
          ],
          "scatterpolargl": [
           {
            "marker": {
             "colorbar": {
              "outlinewidth": 0,
              "ticks": ""
             }
            },
            "type": "scatterpolargl"
           }
          ],
          "scatterternary": [
           {
            "marker": {
             "colorbar": {
              "outlinewidth": 0,
              "ticks": ""
             }
            },
            "type": "scatterternary"
           }
          ],
          "surface": [
           {
            "colorbar": {
             "outlinewidth": 0,
             "ticks": ""
            },
            "colorscale": [
             [
              0,
              "#0d0887"
             ],
             [
              0.1111111111111111,
              "#46039f"
             ],
             [
              0.2222222222222222,
              "#7201a8"
             ],
             [
              0.3333333333333333,
              "#9c179e"
             ],
             [
              0.4444444444444444,
              "#bd3786"
             ],
             [
              0.5555555555555556,
              "#d8576b"
             ],
             [
              0.6666666666666666,
              "#ed7953"
             ],
             [
              0.7777777777777778,
              "#fb9f3a"
             ],
             [
              0.8888888888888888,
              "#fdca26"
             ],
             [
              1,
              "#f0f921"
             ]
            ],
            "type": "surface"
           }
          ],
          "table": [
           {
            "cells": {
             "fill": {
              "color": "#EBF0F8"
             },
             "line": {
              "color": "white"
             }
            },
            "header": {
             "fill": {
              "color": "#C8D4E3"
             },
             "line": {
              "color": "white"
             }
            },
            "type": "table"
           }
          ]
         },
         "layout": {
          "annotationdefaults": {
           "arrowcolor": "#2a3f5f",
           "arrowhead": 0,
           "arrowwidth": 1
          },
          "coloraxis": {
           "colorbar": {
            "outlinewidth": 0,
            "ticks": ""
           }
          },
          "colorscale": {
           "diverging": [
            [
             0,
             "#8e0152"
            ],
            [
             0.1,
             "#c51b7d"
            ],
            [
             0.2,
             "#de77ae"
            ],
            [
             0.3,
             "#f1b6da"
            ],
            [
             0.4,
             "#fde0ef"
            ],
            [
             0.5,
             "#f7f7f7"
            ],
            [
             0.6,
             "#e6f5d0"
            ],
            [
             0.7,
             "#b8e186"
            ],
            [
             0.8,
             "#7fbc41"
            ],
            [
             0.9,
             "#4d9221"
            ],
            [
             1,
             "#276419"
            ]
           ],
           "sequential": [
            [
             0,
             "#0d0887"
            ],
            [
             0.1111111111111111,
             "#46039f"
            ],
            [
             0.2222222222222222,
             "#7201a8"
            ],
            [
             0.3333333333333333,
             "#9c179e"
            ],
            [
             0.4444444444444444,
             "#bd3786"
            ],
            [
             0.5555555555555556,
             "#d8576b"
            ],
            [
             0.6666666666666666,
             "#ed7953"
            ],
            [
             0.7777777777777778,
             "#fb9f3a"
            ],
            [
             0.8888888888888888,
             "#fdca26"
            ],
            [
             1,
             "#f0f921"
            ]
           ],
           "sequentialminus": [
            [
             0,
             "#0d0887"
            ],
            [
             0.1111111111111111,
             "#46039f"
            ],
            [
             0.2222222222222222,
             "#7201a8"
            ],
            [
             0.3333333333333333,
             "#9c179e"
            ],
            [
             0.4444444444444444,
             "#bd3786"
            ],
            [
             0.5555555555555556,
             "#d8576b"
            ],
            [
             0.6666666666666666,
             "#ed7953"
            ],
            [
             0.7777777777777778,
             "#fb9f3a"
            ],
            [
             0.8888888888888888,
             "#fdca26"
            ],
            [
             1,
             "#f0f921"
            ]
           ]
          },
          "colorway": [
           "#636efa",
           "#EF553B",
           "#00cc96",
           "#ab63fa",
           "#FFA15A",
           "#19d3f3",
           "#FF6692",
           "#B6E880",
           "#FF97FF",
           "#FECB52"
          ],
          "font": {
           "color": "#2a3f5f"
          },
          "geo": {
           "bgcolor": "white",
           "lakecolor": "white",
           "landcolor": "#E5ECF6",
           "showlakes": true,
           "showland": true,
           "subunitcolor": "white"
          },
          "hoverlabel": {
           "align": "left"
          },
          "hovermode": "closest",
          "mapbox": {
           "style": "light"
          },
          "paper_bgcolor": "white",
          "plot_bgcolor": "#E5ECF6",
          "polar": {
           "angularaxis": {
            "gridcolor": "white",
            "linecolor": "white",
            "ticks": ""
           },
           "bgcolor": "#E5ECF6",
           "radialaxis": {
            "gridcolor": "white",
            "linecolor": "white",
            "ticks": ""
           }
          },
          "scene": {
           "xaxis": {
            "backgroundcolor": "#E5ECF6",
            "gridcolor": "white",
            "gridwidth": 2,
            "linecolor": "white",
            "showbackground": true,
            "ticks": "",
            "zerolinecolor": "white"
           },
           "yaxis": {
            "backgroundcolor": "#E5ECF6",
            "gridcolor": "white",
            "gridwidth": 2,
            "linecolor": "white",
            "showbackground": true,
            "ticks": "",
            "zerolinecolor": "white"
           },
           "zaxis": {
            "backgroundcolor": "#E5ECF6",
            "gridcolor": "white",
            "gridwidth": 2,
            "linecolor": "white",
            "showbackground": true,
            "ticks": "",
            "zerolinecolor": "white"
           }
          },
          "shapedefaults": {
           "line": {
            "color": "#2a3f5f"
           }
          },
          "ternary": {
           "aaxis": {
            "gridcolor": "white",
            "linecolor": "white",
            "ticks": ""
           },
           "baxis": {
            "gridcolor": "white",
            "linecolor": "white",
            "ticks": ""
           },
           "bgcolor": "#E5ECF6",
           "caxis": {
            "gridcolor": "white",
            "linecolor": "white",
            "ticks": ""
           }
          },
          "title": {
           "x": 0.05
          },
          "xaxis": {
           "automargin": true,
           "gridcolor": "white",
           "linecolor": "white",
           "ticks": "",
           "title": {
            "standoff": 15
           },
           "zerolinecolor": "white",
           "zerolinewidth": 2
          },
          "yaxis": {
           "automargin": true,
           "gridcolor": "white",
           "linecolor": "white",
           "ticks": "",
           "title": {
            "standoff": 15
           },
           "zerolinecolor": "white",
           "zerolinewidth": 2
          }
         }
        }
       }
      },
      "text/html": [
       "<div>                            <div id=\"fe49280d-cd96-44a4-ba03-eeb4fe730352\" class=\"plotly-graph-div\" style=\"height:525px; width:100%;\"></div>            <script type=\"text/javascript\">                require([\"plotly\"], function(Plotly) {                    window.PLOTLYENV=window.PLOTLYENV || {};                                    if (document.getElementById(\"fe49280d-cd96-44a4-ba03-eeb4fe730352\")) {                    Plotly.newPlot(                        \"fe49280d-cd96-44a4-ba03-eeb4fe730352\",                        [{\"colorbar\": {\"len\": 200, \"lenmode\": \"pixels\", \"title\": {\"text\": \"Death rate per 100 000 people\"}}, \"colorscale\": [[0.0, \"rgb(255,245,240)\"], [0.125, \"rgb(254,224,210)\"], [0.25, \"rgb(252,187,161)\"], [0.375, \"rgb(252,146,114)\"], [0.5, \"rgb(251,106,74)\"], [0.625, \"rgb(239,59,44)\"], [0.75, \"rgb(203,24,29)\"], [0.875, \"rgb(165,15,21)\"], [1.0, \"rgb(103,0,13)\"]], \"locationmode\": \"country names\", \"locations\": [\"Afghanistan\", \"Albania\", \"Algeria\", \"American Samoa\", \"Andean Latin America\", \"Andorra\", \"Angola\", \"Antigua and Barbuda\", \"Argentina\", \"Armenia\", \"Australasia\", \"Australia\", \"Austria\", \"Azerbaijan\", \"Bahamas\", \"Bahrain\", \"Bangladesh\", \"Barbados\", \"Belarus\", \"Belgium\", \"Belize\", \"Benin\", \"Bermuda\", \"Bhutan\", \"Bolivia\", \"Bosnia and Herzegovina\", \"Botswana\", \"Brazil\", \"Brunei\", \"Bulgaria\", \"Burkina Faso\", \"Burundi\", \"Cambodia\", \"Cameroon\", \"Canada\", \"Cape Verde\", \"Caribbean\", \"Central African Republic\", \"Central Asia\", \"Central Europe\", \"Central Latin America\", \"Central Sub-Saharan Africa\", \"Chad\", \"Chile\", \"China\", \"Colombia\", \"Comoros\", \"Congo\", \"Costa Rica\", \"Cote d'Ivoire\", \"Croatia\", \"Cuba\", \"Cyprus\", \"Czech Republic\", \"Democratic Republic of Congo\", \"Denmark\", \"Djibouti\", \"Dominica\", \"Dominican Republic\", \"East Asia\", \"Eastern Europe\", \"Eastern Sub-Saharan Africa\", \"Ecuador\", \"Egypt\", \"El Salvador\", \"England\", \"Equatorial Guinea\", \"Eritrea\", \"Estonia\", \"Ethiopia\", \"Fiji\", \"Finland\", \"France\", \"Gabon\", \"Gambia\", \"Georgia\", \"Germany\", \"Ghana\", \"Greece\", \"Greenland\", \"Grenada\", \"Guam\", \"Guatemala\", \"Guinea\", \"Guinea-Bissau\", \"Guyana\", \"Haiti\", \"High SDI\", \"High-income Asia Pacific\", \"High-middle SDI\", \"Honduras\", \"Hungary\", \"Iceland\", \"India\", \"Indonesia\", \"Iran\", \"Iraq\", \"Ireland\", \"Israel\", \"Italy\", \"Jamaica\", \"Japan\", \"Jordan\", \"Kazakhstan\", \"Kenya\", \"Kiribati\", \"Kuwait\", \"Kyrgyzstan\", \"Laos\", \"Latin America and Caribbean\", \"Latvia\", \"Lebanon\", \"Lesotho\", \"Liberia\", \"Libya\", \"Lithuania\", \"Low SDI\", \"Low-middle SDI\", \"Luxembourg\", \"Macedonia\", \"Madagascar\", \"Malawi\", \"Malaysia\", \"Maldives\", \"Mali\", \"Malta\", \"Marshall Islands\", \"Mauritania\", \"Mauritius\", \"Mexico\", \"Micronesia (country)\", \"Middle SDI\", \"Moldova\", \"Mongolia\", \"Montenegro\", \"Morocco\", \"Mozambique\", \"Myanmar\", \"Namibia\", \"Nepal\", \"Netherlands\", \"New Zealand\", \"Nicaragua\", \"Niger\", \"Nigeria\", \"North Africa and Middle East\", \"North America\", \"North Korea\", \"Northern Ireland\", \"Northern Mariana Islands\", \"Norway\", \"Oceania\", \"Oman\", \"Pakistan\", \"Palestine\", \"Panama\", \"Papua New Guinea\", \"Paraguay\", \"Peru\", \"Philippines\", \"Poland\", \"Portugal\", \"Puerto Rico\", \"Qatar\", \"Romania\", \"Russia\", \"Rwanda\", \"Saint Lucia\", \"Saint Vincent and the Grenadines\", \"Samoa\", \"Sao Tome and Principe\", \"Saudi Arabia\", \"Scotland\", \"Senegal\", \"Serbia\", \"Seychelles\", \"Sierra Leone\", \"Singapore\", \"Slovakia\", \"Slovenia\", \"Solomon Islands\", \"Somalia\", \"South Africa\", \"South Asia\", \"South Korea\", \"South Sudan\", \"Southeast Asia\", \"Southern Latin America\", \"Southern Sub-Saharan Africa\", \"Spain\", \"Sri Lanka\", \"Sub-Saharan Africa\", \"Sudan\", \"Suriname\", \"Swaziland\", \"Sweden\", \"Switzerland\", \"Syria\", \"Taiwan\", \"Tajikistan\", \"Tanzania\", \"Thailand\", \"Timor\", \"Togo\", \"Tonga\", \"Trinidad and Tobago\", \"Tropical Latin America\", \"Tunisia\", \"Turkey\", \"Turkmenistan\", \"Uganda\", \"Ukraine\", \"United Arab Emirates\", \"United Kingdom\", \"United States\", \"United States Virgin Islands\", \"Uruguay\", \"Uzbekistan\", \"Vanuatu\", \"Venezuela\", \"Vietnam\", \"Wales\", \"Western Europe\", \"Western Sub-Saharan Africa\", \"Yemen\", \"Zambia\", \"Zimbabwe\"], \"text\": [\"Afghanistan\", \"Albania\", \"Algeria\", \"American Samoa\", \"Andean Latin America\", \"Andorra\", \"Angola\", \"Antigua and Barbuda\", \"Argentina\", \"Armenia\", \"Australasia\", \"Australia\", \"Austria\", \"Azerbaijan\", \"Bahamas\", \"Bahrain\", \"Bangladesh\", \"Barbados\", \"Belarus\", \"Belgium\", \"Belize\", \"Benin\", \"Bermuda\", \"Bhutan\", \"Bolivia\", \"Bosnia and Herzegovina\", \"Botswana\", \"Brazil\", \"Brunei\", \"Bulgaria\", \"Burkina Faso\", \"Burundi\", \"Cambodia\", \"Cameroon\", \"Canada\", \"Cape Verde\", \"Caribbean\", \"Central African Republic\", \"Central Asia\", \"Central Europe\", \"Central Latin America\", \"Central Sub-Saharan Africa\", \"Chad\", \"Chile\", \"China\", \"Colombia\", \"Comoros\", \"Congo\", \"Costa Rica\", \"Cote d'Ivoire\", \"Croatia\", \"Cuba\", \"Cyprus\", \"Czech Republic\", \"Democratic Republic of Congo\", \"Denmark\", \"Djibouti\", \"Dominica\", \"Dominican Republic\", \"East Asia\", \"Eastern Europe\", \"Eastern Sub-Saharan Africa\", \"Ecuador\", \"Egypt\", \"El Salvador\", \"England\", \"Equatorial Guinea\", \"Eritrea\", \"Estonia\", \"Ethiopia\", \"Fiji\", \"Finland\", \"France\", \"Gabon\", \"Gambia\", \"Georgia\", \"Germany\", \"Ghana\", \"Greece\", \"Greenland\", \"Grenada\", \"Guam\", \"Guatemala\", \"Guinea\", \"Guinea-Bissau\", \"Guyana\", \"Haiti\", \"High SDI\", \"High-income Asia Pacific\", \"High-middle SDI\", \"Honduras\", \"Hungary\", \"Iceland\", \"India\", \"Indonesia\", \"Iran\", \"Iraq\", \"Ireland\", \"Israel\", \"Italy\", \"Jamaica\", \"Japan\", \"Jordan\", \"Kazakhstan\", \"Kenya\", \"Kiribati\", \"Kuwait\", \"Kyrgyzstan\", \"Laos\", \"Latin America and Caribbean\", \"Latvia\", \"Lebanon\", \"Lesotho\", \"Liberia\", \"Libya\", \"Lithuania\", \"Low SDI\", \"Low-middle SDI\", \"Luxembourg\", \"Macedonia\", \"Madagascar\", \"Malawi\", \"Malaysia\", \"Maldives\", \"Mali\", \"Malta\", \"Marshall Islands\", \"Mauritania\", \"Mauritius\", \"Mexico\", \"Micronesia (country)\", \"Middle SDI\", \"Moldova\", \"Mongolia\", \"Montenegro\", \"Morocco\", \"Mozambique\", \"Myanmar\", \"Namibia\", \"Nepal\", \"Netherlands\", \"New Zealand\", \"Nicaragua\", \"Niger\", \"Nigeria\", \"North Africa and Middle East\", \"North America\", \"North Korea\", \"Northern Ireland\", \"Northern Mariana Islands\", \"Norway\", \"Oceania\", \"Oman\", \"Pakistan\", \"Palestine\", \"Panama\", \"Papua New Guinea\", \"Paraguay\", \"Peru\", \"Philippines\", \"Poland\", \"Portugal\", \"Puerto Rico\", \"Qatar\", \"Romania\", \"Russia\", \"Rwanda\", \"Saint Lucia\", \"Saint Vincent and the Grenadines\", \"Samoa\", \"Sao Tome and Principe\", \"Saudi Arabia\", \"Scotland\", \"Senegal\", \"Serbia\", \"Seychelles\", \"Sierra Leone\", \"Singapore\", \"Slovakia\", \"Slovenia\", \"Solomon Islands\", \"Somalia\", \"South Africa\", \"South Asia\", \"South Korea\", \"South Sudan\", \"Southeast Asia\", \"Southern Latin America\", \"Southern Sub-Saharan Africa\", \"Spain\", \"Sri Lanka\", \"Sub-Saharan Africa\", \"Sudan\", \"Suriname\", \"Swaziland\", \"Sweden\", \"Switzerland\", \"Syria\", \"Taiwan\", \"Tajikistan\", \"Tanzania\", \"Thailand\", \"Timor\", \"Togo\", \"Tonga\", \"Trinidad and Tobago\", \"Tropical Latin America\", \"Tunisia\", \"Turkey\", \"Turkmenistan\", \"Uganda\", \"Ukraine\", \"United Arab Emirates\", \"United Kingdom\", \"United States\", \"United States Virgin Islands\", \"Uruguay\", \"Uzbekistan\", \"Vanuatu\", \"Venezuela\", \"Vietnam\", \"Wales\", \"Western Europe\", \"Western Sub-Saharan Africa\", \"Yemen\", \"Zambia\", \"Zimbabwe\"], \"type\": \"choropleth\", \"z\": [7.1394291368100005, 0.0, 0.0216693699682, 0.206802253679, 0.047642883848, 0.0, 27.148631810100003, 0.0, 0.005286577783989999, 0.0, 0.047642883848, 0.0, 0.0, 0.006514467465369999, 0.0, 0.0, 1.11180224683, 0.0, 0.0, 0.0, 0.0844222885675, 67.27051963560001, 0.009722330178959999, 2.3837255446200003, 0.0828977845731, 0.0, 1.20235510059, 0.0384770501477, 0.0, 0.0, 135.08837642400002, 48.8400130162, 14.221265461700002, 91.6744246017, 0.0, 0.06947951440330001, 0.047642883848, 54.723226929, 0.047642883848, 0.047642883848, 0.047642883848, 0.047642883848, 34.6380161807, 0.0, 0.012487292204, 0.107504109054, 0.128702602554, 58.078281172900006, 0.00440773509094, 87.8810139972, 0.0, 0.0, 0.0, 0.0, 77.8375071817, 0.0, 0.091121429091, 0.0, 0.0221298469387, 0.047642883848, 0.047642883848, 0.047642883848, 0.0600562517381, 0.0100312291288, 0.00747397927025, 0.047642883848, 107.395253646, 7.663047494700001, 0.0, 1.57304586855, 0.0, 0.0, 0.0, 43.3399906819, 16.1693547068, 0.0, 0.0, 68.5861384916, 0.0, 0.0, 0.0, 0.43062746675, 0.152510023135, 91.45503363110001, 22.322984168, 1.6480814217200002, 0.0964529012595, 0.047642883848, 0.047642883848, 0.047642883848, 0.36931596093, 0.0, 0.0, 4.020566897069999, 2.6613319793200003, 0.013873348184, 0.0, 0.0, 0.0, 0.0, 0.0, 0.0, 0.0, 0.0, 10.720255676799999, 0.0, 0.0, 0.0, 0.356541184404, 0.047642883848, 0.0, 0.0, 0.0, 58.7588973896, 0.0, 0.0, 0.047642883848, 0.047642883848, 0.0, 0.0, 24.4363557325, 44.9364400375, 0.062989457543, 0.0, 115.833746565, 0.0, 0.0, 7.15312269476, 0.0116437703179, 0.006428023394729999, 0.0, 0.047642883848, 0.0, 0.0, 0.0, 0.0, 53.2089666594, 13.541099788499999, 4.4726627913, 2.1969229591099997, 0.0, 0.0, 0.0616237959629, 119.22974498200001, 92.7983899346, 0.047642883848, 0.047642883848, 0.00924054523611, 0.047642883848, 0.24261616883099998, 0.0, 0.047642883848, 0.0, 3.5034448404800003, 0.0, 0.011809619180100001, 12.613531948699999, 0.00696310942793, 0.0295028977364, 0.22260583092300001, 0.0, 0.0, 0.0106936178706, 0.0, 0.0, 0.0, 20.7081387638, 0.0, 0.0, 0.0, 0.0719643581877, 0.0554789457027, 0.047642883848, 24.187298367399997, 0.0, 0.0, 118.919916611, 0.0, 0.0, 0.0, 4.5753494444300005, 25.8938023589, 0.31412555754, 0.047642883848, 0.0033871581848099997, 22.0487104029, 0.047642883848, 0.047642883848, 0.047642883848, 0.0, 0.0, 0.047642883848, 7.676635053010001, 0.37788182011699994, 0.018826534744000003, 0.0, 0.0, 0.0, 0.0, 0.0496362890398, 26.3695449019, 0.05826695327480001, 0.253325088659, 94.1009249207, 0.0, 0.0, 0.047642883848, 0.0, 0.00409045904935, 0.0, 49.2329409124, 0.0, 0.0, 0.0, 0.0, 0.013106839933, 0.0, 0.0, 3.5092740044700004, 0.06616949819029999, 1.23140532068, 0.047642883848, 0.047642883848, 0.047642883848, 0.0327919167505, 29.473210470399998, 9.507309129389999]}],                        {\"geo\": {\"scope\": \"world\"}, \"template\": {\"data\": {\"bar\": [{\"error_x\": {\"color\": \"#2a3f5f\"}, \"error_y\": {\"color\": \"#2a3f5f\"}, \"marker\": {\"line\": {\"color\": \"#E5ECF6\", \"width\": 0.5}}, \"type\": \"bar\"}], \"barpolar\": [{\"marker\": {\"line\": {\"color\": \"#E5ECF6\", \"width\": 0.5}}, \"type\": \"barpolar\"}], \"carpet\": [{\"aaxis\": {\"endlinecolor\": \"#2a3f5f\", \"gridcolor\": \"white\", \"linecolor\": \"white\", \"minorgridcolor\": \"white\", \"startlinecolor\": \"#2a3f5f\"}, \"baxis\": {\"endlinecolor\": \"#2a3f5f\", \"gridcolor\": \"white\", \"linecolor\": \"white\", \"minorgridcolor\": \"white\", \"startlinecolor\": \"#2a3f5f\"}, \"type\": \"carpet\"}], \"choropleth\": [{\"colorbar\": {\"outlinewidth\": 0, \"ticks\": \"\"}, \"type\": \"choropleth\"}], \"contour\": [{\"colorbar\": {\"outlinewidth\": 0, \"ticks\": \"\"}, \"colorscale\": [[0.0, \"#0d0887\"], [0.1111111111111111, \"#46039f\"], [0.2222222222222222, \"#7201a8\"], [0.3333333333333333, \"#9c179e\"], [0.4444444444444444, \"#bd3786\"], [0.5555555555555556, \"#d8576b\"], [0.6666666666666666, \"#ed7953\"], [0.7777777777777778, \"#fb9f3a\"], [0.8888888888888888, \"#fdca26\"], [1.0, \"#f0f921\"]], \"type\": \"contour\"}], \"contourcarpet\": [{\"colorbar\": {\"outlinewidth\": 0, \"ticks\": \"\"}, \"type\": \"contourcarpet\"}], \"heatmap\": [{\"colorbar\": {\"outlinewidth\": 0, \"ticks\": \"\"}, \"colorscale\": [[0.0, \"#0d0887\"], [0.1111111111111111, \"#46039f\"], [0.2222222222222222, \"#7201a8\"], [0.3333333333333333, \"#9c179e\"], [0.4444444444444444, \"#bd3786\"], [0.5555555555555556, \"#d8576b\"], [0.6666666666666666, \"#ed7953\"], [0.7777777777777778, \"#fb9f3a\"], [0.8888888888888888, \"#fdca26\"], [1.0, \"#f0f921\"]], \"type\": \"heatmap\"}], \"heatmapgl\": [{\"colorbar\": {\"outlinewidth\": 0, \"ticks\": \"\"}, \"colorscale\": [[0.0, \"#0d0887\"], [0.1111111111111111, \"#46039f\"], [0.2222222222222222, \"#7201a8\"], [0.3333333333333333, \"#9c179e\"], [0.4444444444444444, \"#bd3786\"], [0.5555555555555556, \"#d8576b\"], [0.6666666666666666, \"#ed7953\"], [0.7777777777777778, \"#fb9f3a\"], [0.8888888888888888, \"#fdca26\"], [1.0, \"#f0f921\"]], \"type\": \"heatmapgl\"}], \"histogram\": [{\"marker\": {\"colorbar\": {\"outlinewidth\": 0, \"ticks\": \"\"}}, \"type\": \"histogram\"}], \"histogram2d\": [{\"colorbar\": {\"outlinewidth\": 0, \"ticks\": \"\"}, \"colorscale\": [[0.0, \"#0d0887\"], [0.1111111111111111, \"#46039f\"], [0.2222222222222222, \"#7201a8\"], [0.3333333333333333, \"#9c179e\"], [0.4444444444444444, \"#bd3786\"], [0.5555555555555556, \"#d8576b\"], [0.6666666666666666, \"#ed7953\"], [0.7777777777777778, \"#fb9f3a\"], [0.8888888888888888, \"#fdca26\"], [1.0, \"#f0f921\"]], \"type\": \"histogram2d\"}], \"histogram2dcontour\": [{\"colorbar\": {\"outlinewidth\": 0, \"ticks\": \"\"}, \"colorscale\": [[0.0, \"#0d0887\"], [0.1111111111111111, \"#46039f\"], [0.2222222222222222, \"#7201a8\"], [0.3333333333333333, \"#9c179e\"], [0.4444444444444444, \"#bd3786\"], [0.5555555555555556, \"#d8576b\"], [0.6666666666666666, \"#ed7953\"], [0.7777777777777778, \"#fb9f3a\"], [0.8888888888888888, \"#fdca26\"], [1.0, \"#f0f921\"]], \"type\": \"histogram2dcontour\"}], \"mesh3d\": [{\"colorbar\": {\"outlinewidth\": 0, \"ticks\": \"\"}, \"type\": \"mesh3d\"}], \"parcoords\": [{\"line\": {\"colorbar\": {\"outlinewidth\": 0, \"ticks\": \"\"}}, \"type\": \"parcoords\"}], \"pie\": [{\"automargin\": true, \"type\": \"pie\"}], \"scatter\": [{\"marker\": {\"colorbar\": {\"outlinewidth\": 0, \"ticks\": \"\"}}, \"type\": \"scatter\"}], \"scatter3d\": [{\"line\": {\"colorbar\": {\"outlinewidth\": 0, \"ticks\": \"\"}}, \"marker\": {\"colorbar\": {\"outlinewidth\": 0, \"ticks\": \"\"}}, \"type\": \"scatter3d\"}], \"scattercarpet\": [{\"marker\": {\"colorbar\": {\"outlinewidth\": 0, \"ticks\": \"\"}}, \"type\": \"scattercarpet\"}], \"scattergeo\": [{\"marker\": {\"colorbar\": {\"outlinewidth\": 0, \"ticks\": \"\"}}, \"type\": \"scattergeo\"}], \"scattergl\": [{\"marker\": {\"colorbar\": {\"outlinewidth\": 0, \"ticks\": \"\"}}, \"type\": \"scattergl\"}], \"scattermapbox\": [{\"marker\": {\"colorbar\": {\"outlinewidth\": 0, \"ticks\": \"\"}}, \"type\": \"scattermapbox\"}], \"scatterpolar\": [{\"marker\": {\"colorbar\": {\"outlinewidth\": 0, \"ticks\": \"\"}}, \"type\": \"scatterpolar\"}], \"scatterpolargl\": [{\"marker\": {\"colorbar\": {\"outlinewidth\": 0, \"ticks\": \"\"}}, \"type\": \"scatterpolargl\"}], \"scatterternary\": [{\"marker\": {\"colorbar\": {\"outlinewidth\": 0, \"ticks\": \"\"}}, \"type\": \"scatterternary\"}], \"surface\": [{\"colorbar\": {\"outlinewidth\": 0, \"ticks\": \"\"}, \"colorscale\": [[0.0, \"#0d0887\"], [0.1111111111111111, \"#46039f\"], [0.2222222222222222, \"#7201a8\"], [0.3333333333333333, \"#9c179e\"], [0.4444444444444444, \"#bd3786\"], [0.5555555555555556, \"#d8576b\"], [0.6666666666666666, \"#ed7953\"], [0.7777777777777778, \"#fb9f3a\"], [0.8888888888888888, \"#fdca26\"], [1.0, \"#f0f921\"]], \"type\": \"surface\"}], \"table\": [{\"cells\": {\"fill\": {\"color\": \"#EBF0F8\"}, \"line\": {\"color\": \"white\"}}, \"header\": {\"fill\": {\"color\": \"#C8D4E3\"}, \"line\": {\"color\": \"white\"}}, \"type\": \"table\"}]}, \"layout\": {\"annotationdefaults\": {\"arrowcolor\": \"#2a3f5f\", \"arrowhead\": 0, \"arrowwidth\": 1}, \"coloraxis\": {\"colorbar\": {\"outlinewidth\": 0, \"ticks\": \"\"}}, \"colorscale\": {\"diverging\": [[0, \"#8e0152\"], [0.1, \"#c51b7d\"], [0.2, \"#de77ae\"], [0.3, \"#f1b6da\"], [0.4, \"#fde0ef\"], [0.5, \"#f7f7f7\"], [0.6, \"#e6f5d0\"], [0.7, \"#b8e186\"], [0.8, \"#7fbc41\"], [0.9, \"#4d9221\"], [1, \"#276419\"]], \"sequential\": [[0.0, \"#0d0887\"], [0.1111111111111111, \"#46039f\"], [0.2222222222222222, \"#7201a8\"], [0.3333333333333333, \"#9c179e\"], [0.4444444444444444, \"#bd3786\"], [0.5555555555555556, \"#d8576b\"], [0.6666666666666666, \"#ed7953\"], [0.7777777777777778, \"#fb9f3a\"], [0.8888888888888888, \"#fdca26\"], [1.0, \"#f0f921\"]], \"sequentialminus\": [[0.0, \"#0d0887\"], [0.1111111111111111, \"#46039f\"], [0.2222222222222222, \"#7201a8\"], [0.3333333333333333, \"#9c179e\"], [0.4444444444444444, \"#bd3786\"], [0.5555555555555556, \"#d8576b\"], [0.6666666666666666, \"#ed7953\"], [0.7777777777777778, \"#fb9f3a\"], [0.8888888888888888, \"#fdca26\"], [1.0, \"#f0f921\"]]}, \"colorway\": [\"#636efa\", \"#EF553B\", \"#00cc96\", \"#ab63fa\", \"#FFA15A\", \"#19d3f3\", \"#FF6692\", \"#B6E880\", \"#FF97FF\", \"#FECB52\"], \"font\": {\"color\": \"#2a3f5f\"}, \"geo\": {\"bgcolor\": \"white\", \"lakecolor\": \"white\", \"landcolor\": \"#E5ECF6\", \"showlakes\": true, \"showland\": true, \"subunitcolor\": \"white\"}, \"hoverlabel\": {\"align\": \"left\"}, \"hovermode\": \"closest\", \"mapbox\": {\"style\": \"light\"}, \"paper_bgcolor\": \"white\", \"plot_bgcolor\": \"#E5ECF6\", \"polar\": {\"angularaxis\": {\"gridcolor\": \"white\", \"linecolor\": \"white\", \"ticks\": \"\"}, \"bgcolor\": \"#E5ECF6\", \"radialaxis\": {\"gridcolor\": \"white\", \"linecolor\": \"white\", \"ticks\": \"\"}}, \"scene\": {\"xaxis\": {\"backgroundcolor\": \"#E5ECF6\", \"gridcolor\": \"white\", \"gridwidth\": 2, \"linecolor\": \"white\", \"showbackground\": true, \"ticks\": \"\", \"zerolinecolor\": \"white\"}, \"yaxis\": {\"backgroundcolor\": \"#E5ECF6\", \"gridcolor\": \"white\", \"gridwidth\": 2, \"linecolor\": \"white\", \"showbackground\": true, \"ticks\": \"\", \"zerolinecolor\": \"white\"}, \"zaxis\": {\"backgroundcolor\": \"#E5ECF6\", \"gridcolor\": \"white\", \"gridwidth\": 2, \"linecolor\": \"white\", \"showbackground\": true, \"ticks\": \"\", \"zerolinecolor\": \"white\"}}, \"shapedefaults\": {\"line\": {\"color\": \"#2a3f5f\"}}, \"ternary\": {\"aaxis\": {\"gridcolor\": \"white\", \"linecolor\": \"white\", \"ticks\": \"\"}, \"baxis\": {\"gridcolor\": \"white\", \"linecolor\": \"white\", \"ticks\": \"\"}, \"bgcolor\": \"#E5ECF6\", \"caxis\": {\"gridcolor\": \"white\", \"linecolor\": \"white\", \"ticks\": \"\"}}, \"title\": {\"x\": 0.05}, \"xaxis\": {\"automargin\": true, \"gridcolor\": \"white\", \"linecolor\": \"white\", \"ticks\": \"\", \"title\": {\"standoff\": 15}, \"zerolinecolor\": \"white\", \"zerolinewidth\": 2}, \"yaxis\": {\"automargin\": true, \"gridcolor\": \"white\", \"linecolor\": \"white\", \"ticks\": \"\", \"title\": {\"standoff\": 15}, \"zerolinecolor\": \"white\", \"zerolinewidth\": 2}}}},                        {\"responsive\": true}                    ).then(function(){\n",
       "                            \n",
       "var gd = document.getElementById('fe49280d-cd96-44a4-ba03-eeb4fe730352');\n",
       "var x = new MutationObserver(function (mutations, observer) {{\n",
       "        var display = window.getComputedStyle(gd).display;\n",
       "        if (!display || display === 'none') {{\n",
       "            console.log([gd, 'removed!']);\n",
       "            Plotly.purge(gd);\n",
       "            observer.disconnect();\n",
       "        }}\n",
       "}});\n",
       "\n",
       "// Listen for the removal of the full notebook cells\n",
       "var notebookContainer = gd.closest('#notebook-container');\n",
       "if (notebookContainer) {{\n",
       "    x.observe(notebookContainer, {childList: true});\n",
       "}}\n",
       "\n",
       "// Listen for the clearing of the current output cell\n",
       "var outputEl = gd.closest('.output');\n",
       "if (outputEl) {{\n",
       "    x.observe(outputEl, {childList: true});\n",
       "}}\n",
       "\n",
       "                        })                };                });            </script>        </div>"
      ]
     },
     "metadata": {},
     "output_type": "display_data"
    }
   ],
   "source": [
    "# Initializing the Figure object by passing data and layout as arguments.\n",
    "malaria_death_map = gobj.Figure(data = [data],layout = layout)\n",
    "\n",
    "#plotting the map\n",
    "iplot(malaria_death_map)"
   ]
  },
  {
   "cell_type": "code",
   "execution_count": 35,
   "metadata": {},
   "outputs": [
    {
     "data": {
      "text/plain": [
       "'temp-plot.html'"
      ]
     },
     "execution_count": 35,
     "metadata": {},
     "output_type": "execute_result"
    }
   ],
   "source": [
    "plot(malaria_death_map)"
   ]
  }
 ],
 "metadata": {
  "kernelspec": {
   "display_name": "Python 3",
   "language": "python",
   "name": "python3"
  },
  "language_info": {
   "codemirror_mode": {
    "name": "ipython",
    "version": 3
   },
   "file_extension": ".py",
   "mimetype": "text/x-python",
   "name": "python",
   "nbconvert_exporter": "python",
   "pygments_lexer": "ipython3",
   "version": "3.7.4"
  }
 },
 "nbformat": 4,
 "nbformat_minor": 2
}
